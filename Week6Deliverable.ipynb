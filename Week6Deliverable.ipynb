{
 "cells": [
  {
   "cell_type": "markdown",
   "id": "ad5d0710",
   "metadata": {},
   "source": [
    "# Week 6 Visualizing Data Products (Technology & Airline Sectors) "
   ]
  },
  {
   "cell_type": "code",
   "execution_count": 16,
   "id": "c30df765",
   "metadata": {},
   "outputs": [],
   "source": [
    "import pandas as pd\n",
    "import matplotlib.pyplot as plt\n",
    "from sklearn.feature_extraction.text import CountVectorizer\n",
    "from sklearn.model_selection import train_test_split\n",
    "from sklearn.ensemble import RandomForestClassifier\n",
    "from sklearn.metrics import accuracy_score\n",
    "from textblob import TextBlob"
   ]
  },
  {
   "cell_type": "code",
   "execution_count": 17,
   "id": "b0d45751",
   "metadata": {},
   "outputs": [],
   "source": [
    "file_path = 'twcs.csv'\n",
    "data_set = pd.read_csv('twcs.csv')"
   ]
  },
  {
   "cell_type": "markdown",
   "id": "dd5ed70f",
   "metadata": {},
   "source": [
    "### Technology Data Analysis"
   ]
  },
  {
   "cell_type": "markdown",
   "id": "81578be5",
   "metadata": {},
   "source": [
    "**TODO**\n",
    "1. Define the question\n",
    "2. Define the ideal data set\n",
    "3. Obtain data\n",
    "4. Clean the data\n",
    "5. Exploratory Data Analysis\n",
    "6. Statistical Prediction/modeling\n",
    "7. Interpret results\n",
    "8. Challenge results\n",
    "9. Communicate results\n",
    "10. Build a Data Product (use plotly for creating visualization: https://plotly.com/python/ )"
   ]
  },
  {
   "cell_type": "markdown",
   "id": "b37ae225",
   "metadata": {},
   "source": [
    "### Airline Data Analysis"
   ]
  },
  {
   "cell_type": "markdown",
   "id": "0981ce7c",
   "metadata": {},
   "source": [
    "#### Step 1. Define the question:  \n",
    "How does response time correlate to customer satisfaction when comparing American Airlines & Delta?"
   ]
  },
  {
   "cell_type": "markdown",
   "id": "34e6f832",
   "metadata": {},
   "source": [
    "#### Step 2. Define the ideal data set: \n",
    "American Airlines and Delta"
   ]
  },
  {
   "cell_type": "markdown",
   "id": "ab40e0d1",
   "metadata": {},
   "source": [
    "#### Step 3. Clean the data: "
   ]
  },
  {
   "cell_type": "code",
   "execution_count": 18,
   "id": "4605f3a8",
   "metadata": {},
   "outputs": [],
   "source": [
    "# Handle missing values\n",
    "data_set['response_tweet_id'].fillna(-1, inplace=True)\n",
    "data_set['in_response_to_tweet_id'].fillna(-1, inplace=True)"
   ]
  },
  {
   "cell_type": "markdown",
   "id": "2cffadfb",
   "metadata": {},
   "source": [
    "**TODO: Insert visualization for data product**"
   ]
  },
  {
   "cell_type": "code",
   "execution_count": 19,
   "id": "c551d373",
   "metadata": {},
   "outputs": [],
   "source": [
    "# Step 3. Obtain specific data\n",
    "filtered_data = data_set[data_set['author_id'].str.contains('delta|american', case=False)]"
   ]
  },
  {
   "cell_type": "markdown",
   "id": "5d471a41",
   "metadata": {},
   "source": [
    "**TODO: Insert visualization for data product**"
   ]
  },
  {
   "cell_type": "code",
   "execution_count": 20,
   "id": "41ad8db0",
   "metadata": {},
   "outputs": [],
   "source": [
    "# Remove duplicates in the filtered data \n",
    "filtered_data = filtered_data.drop_duplicates().copy()"
   ]
  },
  {
   "cell_type": "markdown",
   "id": "356f1277",
   "metadata": {},
   "source": [
    "**TODO: Insert visualization for data product**"
   ]
  },
  {
   "cell_type": "code",
   "execution_count": 21,
   "id": "41f3b14c",
   "metadata": {},
   "outputs": [],
   "source": [
    "# Convert 'response_tweet_id' and 'in_response_to_tweet_id' to numeric \n",
    "filtered_data['response_tweet_id'] = pd.to_numeric(filtered_data['response_tweet_id'], errors='coerce')\n",
    "filtered_data['in_response_to_tweet_id'] = pd.to_numeric(filtered_data['in_response_to_tweet_id'], errors='coerce')"
   ]
  },
  {
   "cell_type": "markdown",
   "id": "616f03ef",
   "metadata": {},
   "source": [
    "**TODO: Insert visualization for data product**"
   ]
  },
  {
   "cell_type": "code",
   "execution_count": 38,
   "id": "2f4fe1bd",
   "metadata": {},
   "outputs": [],
   "source": [
    "# Calculate response time\n",
    "filtered_data['response_time'] = filtered_data['response_tweet_id'] - filtered_data['in_response_to_tweet_id']"
   ]
  },
  {
   "cell_type": "markdown",
   "id": "2b2a47f5",
   "metadata": {},
   "source": [
    "**TODO: Insert visualization for data product**"
   ]
  },
  {
   "cell_type": "code",
   "execution_count": 39,
   "id": "e5bee324",
   "metadata": {},
   "outputs": [],
   "source": [
    "# Calculate average response time for each airline\n",
    "average_response_time = filtered_data.groupby('author_id')['response_time'].mean()"
   ]
  },
  {
   "cell_type": "markdown",
   "id": "b031f1fc",
   "metadata": {},
   "source": [
    "**TODO: Insert visualization for data product**"
   ]
  },
  {
   "cell_type": "code",
   "execution_count": 48,
   "id": "7a9fcbc6",
   "metadata": {},
   "outputs": [
    {
     "data": {
      "image/png": "[encoded data removed]",
      "text/plain": [
       "<Figure size 800x600 with 1 Axes>"
      ]
     },
     "metadata": {},
     "output_type": "display_data"
    }
   ],
   "source": [
    "# Visualize the data\n",
    "plt.figure(figsize=(8, 6))\n",
    "colors = ['red', 'blue'] \n",
    "average_response_time.plot(kind='bar', color=colors, edgecolor='black') \n",
    "plt.title('Average Response Time for American Airlines and Delta')\n",
    "plt.xlabel('Airline')\n",
    "plt.ylabel('Average Response Time')\n",
    "plt.xticks(range(len(average_response_time.index)), average_response_time.index, rotation=0)\n",
    "plt.show()"
   ]
  },
  {
   "cell_type": "markdown",
   "id": "f7f8aa65",
   "metadata": {},
   "source": [
    "#### TODO: fix visualization and replace with a better one"
   ]
  },
  {
   "cell_type": "markdown",
   "id": "24442f64",
   "metadata": {},
   "source": [
    "#### Step 4. Statistical Predicitions / Modeling"
   ]
  },
  {
   "cell_type": "code",
   "execution_count": 30,
   "id": "5a6d3cfa",
   "metadata": {},
   "outputs": [
    {
     "name": "stdout",
     "output_type": "stream",
     "text": [
      "author_id\n",
      "AmericanAir   -9.832385e+05\n",
      "Delta         -1.069096e+06\n",
      "Name: response_time, dtype: float64\n"
     ]
    }
   ],
   "source": [
    "correlation = filtered_data.corr(numeric_only=True)\n",
    "\n",
    "filtered_data['response_time'] = filtered_data['response_tweet_id'] - filtered_data['in_response_to_tweet_id']\n",
    "\n",
    "average_response_time = filtered_data.groupby('author_id')['response_time'].mean()\n",
    "\n",
    "print(average_response_time)"
   ]
  },
  {
   "cell_type": "markdown",
   "id": "aced28b2",
   "metadata": {},
   "source": [
    "***TODO: Insert better visualization for data product***"
   ]
  },
  {
   "cell_type": "markdown",
   "id": "babb62d0",
   "metadata": {},
   "source": [
    "#### Convert to postive for better analysis of results"
   ]
  },
  {
   "cell_type": "code",
   "execution_count": 31,
   "id": "920fda6c",
   "metadata": {},
   "outputs": [
    {
     "name": "stdout",
     "output_type": "stream",
     "text": [
      "author_id\n",
      "AmericanAir    9.832385e+05\n",
      "Delta          1.069096e+06\n",
      "Name: response_time, dtype: float64\n"
     ]
    }
   ],
   "source": [
    "filtered_data['response_time'] = filtered_data['response_tweet_id'] - filtered_data['in_response_to_tweet_id']\n",
    "\n",
    "average_response_time = filtered_data.groupby('author_id')['response_time'].mean().abs()\n",
    "\n",
    "print(average_response_time)"
   ]
  },
  {
   "cell_type": "markdown",
   "id": "364efc57",
   "metadata": {},
   "source": [
    "***TODO: Insert better visualization for data product***"
   ]
  },
  {
   "cell_type": "markdown",
   "id": "8a43ae14",
   "metadata": {},
   "source": [
    "## Result\n",
    "American Airlines with an average response time of approximately 983,238.5 units is faster than Delta with an average response time of approximately 1,069,096 units. This can correlate to customers being more satified with American Airlines customer support via the tweet data set"
   ]
  },
  {
   "cell_type": "markdown",
   "id": "1f2f8671",
   "metadata": {},
   "source": [
    "**TODO: Insert visualization for final data product**"
   ]
  }
 ],
 "metadata": {
  "kernelspec": {
   "display_name": "Python 3 (ipykernel)",
   "language": "python",
   "name": "python3"
  },
  "language_info": {
   "codemirror_mode": {
    "name": "ipython",
    "version": 3
   },
   "file_extension": ".py",
   "mimetype": "text/x-python",
   "name": "python",
   "nbconvert_exporter": "python",
   "pygments_lexer": "ipython3",
   "version": "3.11.4"
  }
 },
 "nbformat": 4,
 "nbformat_minor": 5
}
