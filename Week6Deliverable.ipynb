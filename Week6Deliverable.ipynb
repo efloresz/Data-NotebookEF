{
 "cells": [
  {
   "cell_type": "markdown",
   "id": "3cb04272",
   "metadata": {},
   "source": [
    "# Week 6 Visualizing Data Products (Technology & Airline Sectors) "
   ]
  },
  {
   "cell_type": "code",
   "execution_count": null,
   "id": "49c0a7df",
   "metadata": {},
   "outputs": [],
   "source": [
    "import pandas as pd\n",
    "import matplotlib.pyplot as plt\n",
    "from sklearn.feature_extraction.text import CountVectorizer\n",
    "from sklearn.model_selection import train_test_split\n",
    "from sklearn.ensemble import RandomForestClassifier\n",
    "from sklearn.metrics import accuracy_score\n",
    "from textblob import TextBlob\n",
    "import plotly.figure_factory as ff\n",
    "import plotly.graph_objects as go\n",
    "import numpy as np"
   ]
  },
  {
   "cell_type": "code",
   "execution_count": null,
   "id": "c4c929a6",
   "metadata": {},
   "outputs": [],
   "source": [
    "file_path = 'twcs.csv'\n",
    "data_set = pd.read_csv('twcs.csv')"
   ]
  },
  {
   "cell_type": "markdown",
   "id": "c8e244b9",
   "metadata": {},
   "source": [
    "### Technology Data Analysis"
   ]
  },
  {
   "cell_type": "markdown",
   "id": "9c3d9277",
   "metadata": {},
   "source": [
    "**TODO**\n",
    "1. Define the question\n",
    "2. Define the ideal data set\n",
    "3. Obtain data\n",
    "4. Clean the data\n",
    "5. Exploratory Data Analysis\n",
    "6. Statistical Prediction/modeling\n",
    "7. Interpret results\n",
    "8. Challenge results\n",
    "9. Communicate results\n",
    "10. Build a Data Product (use plotly for creating visualization: https://plotly.com/python/ )"
   ]
  },
  {
   "cell_type": "markdown",
   "id": "6ab82d0c",
   "metadata": {},
   "source": [
    "### Airline Data Analysis"
   ]
  },
  {
   "cell_type": "markdown",
   "id": "04a271e5",
   "metadata": {},
   "source": [
    "##### Step 1. Define the question:  \n",
    "How does response time correlate to customer satisfaction when comparing American Airlines & Delta?"
   ]
  },
  {
   "cell_type": "markdown",
   "id": "e80fc969",
   "metadata": {},
   "source": [
    "##### Step 2. Define the ideal data set: \n",
    "American Airlines and Delta"
   ]
  },
  {
   "cell_type": "markdown",
   "id": "ef7a442e",
   "metadata": {},
   "source": [
    "##### Step 3. Clean the data: "
   ]
  },
  {
   "cell_type": "code",
   "execution_count": null,
   "id": "6342505e",
   "metadata": {},
   "outputs": [],
   "source": [
    "# Handle missing values\n",
    "data_set['response_tweet_id'].fillna(-1, inplace=True)\n",
    "data_set['in_response_to_tweet_id'].fillna(-1, inplace=True)"
   ]
  },
  {
   "cell_type": "markdown",
   "id": "3df1cf12",
   "metadata": {},
   "source": [
    "**TODO: Insert visualization for data product**"
   ]
  },
  {
   "cell_type": "code",
   "execution_count": null,
   "id": "76b1b884",
   "metadata": {},
   "outputs": [],
   "source": [
    "# Step 3. Obtain specific data\n",
    "filtered_data = data_set[data_set['author_id'].str.contains('delta|american', case=False)]"
   ]
  },
  {
   "cell_type": "code",
   "execution_count": null,
   "id": "a34dfcad",
   "metadata": {},
   "outputs": [],
   "source": [
    "np.random.seed(0)\n",
    "x1 = np.random.randn(26)\n",
    "x2 = np.random.randn(26) + 0.5\n",
    "\n",
    "group_labels = ['2014', '2015']\n",
    "\n",
    "rug_text_one = ['a', 'b', 'c', 'd', 'e', 'f', 'g', 'h', 'i', 'j',\n",
    "                'k', 'l', 'm', 'n', 'o', 'p', 'q', 'r', 's', 't',\n",
    "                'u', 'v', 'w', 'x', 'y', 'z']\n",
    "\n",
    "rug_text_two = ['aa', 'bb', 'cc', 'dd', 'ee', 'ff', 'gg', 'hh', 'ii', 'jj',\n",
    "                'kk', 'll', 'mm', 'nn', 'oo', 'pp', 'qq', 'rr', 'ss', 'tt',\n",
    "                'uu', 'vv', 'ww', 'xx', 'yy', 'zz']\n",
    "\n",
    "rug_text = [rug_text_one, rug_text_two] \n",
    "colors = ['rgb(0, 0, 100)', 'rgb(0, 200, 200)']\n",
    "\n",
    "fig_distplot = ff.create_distplot(\n",
    "    [x1, x2], group_labels, bin_size=0.1,\n",
    "    rug_text=rug_text, colors=colors)\n",
    "\n",
    "fig_distplot.update_layout(title_text='Customized Distplot')\n",
    "\n",
    "filtered_data_table = go.Figure(data=[go.Table(\n",
    "    header=dict(values=list(filtered_data.columns),\n",
    "                fill_color='paleturquoise',\n",
    "                align='left'),\n",
    "    cells=dict(values=[filtered_data[col] for col in filtered_data.columns],\n",
    "               fill_color='lavender',\n",
    "               align='left'))\n",
    "])\n",
    "\n",
    "filtered_data_table.update_layout(title_text='Filtered Data')\n",
    "\n",
    "fig_combined = go.Figure()\n",
    "\n",
    "fig_combined.add_trace(go.Scatter(\n",
    "    x=[0.0, 0.45],\n",
    "    y=[0.5, 0.5],\n",
    "    mode=\"lines\",\n",
    "    line=dict(color=\"black\", width=2)\n",
    "))\n",
    "\n",
    "fig_combined.add_trace(go.Scatter(\n",
    "    x=[0.30, 1.0],\n",
    "    y=[0.3, 0.5],\n",
    "    mode=\"lines\",\n",
    "    line=dict(color=\"black\", width=2)\n",
    "))\n",
    "\n",
    "fig_combined.add_trace(fig_distplot.data[0])\n",
    "fig_combined.add_trace(filtered_data_table.data[0])\n",
    "\n",
    "fig_combined.update_layout(\n",
    "    title_text='Delta and American Airline filtered data',\n",
    "    width=900,\n",
    "    height=500,\n",
    "    xaxis=dict(\n",
    "        showline=False,\n",
    "        zeroline=False,\n",
    "        showticklabels=True,\n",
    "    ),\n",
    "    yaxis=dict(\n",
    "        showline=False,\n",
    "        zeroline=False,\n",
    "        showticklabels=True,\n",
    "    )\n",
    ")\n",
    "\n",
    "fig_combined.show()"
   ]
  },
  {
   "cell_type": "code",
   "execution_count": null,
   "id": "38d91d39",
   "metadata": {},
   "outputs": [],
   "source": [
    "# Remove duplicates in the filtered data \n",
    "filtered_data = filtered_data.drop_duplicates().copy()"
   ]
  },
  {
   "cell_type": "markdown",
   "id": "7be3620b",
   "metadata": {},
   "source": [
    "**TODO: Insert visualization for data product**"
   ]
  },
  {
   "cell_type": "code",
   "execution_count": null,
   "id": "a5d3c613",
   "metadata": {},
   "outputs": [],
   "source": [
    "# Convert 'response_tweet_id' and 'in_response_to_tweet_id' to numeric \n",
    "filtered_data['response_tweet_id'] = pd.to_numeric(filtered_data['response_tweet_id'], errors='coerce')\n",
    "filtered_data['in_response_to_tweet_id'] = pd.to_numeric(filtered_data['in_response_to_tweet_id'], errors='coerce')"
   ]
  },
  {
   "cell_type": "markdown",
   "id": "06fb63f7",
   "metadata": {},
   "source": [
    "**TODO: Insert visualization for data product**"
   ]
  },
  {
   "cell_type": "code",
   "execution_count": null,
   "id": "07e3107c",
   "metadata": {},
   "outputs": [],
   "source": [
    "# Calculate response time\n",
    "filtered_data['response_time'] = filtered_data['response_tweet_id'] - filtered_data['in_response_to_tweet_id']"
   ]
  },
  {
   "cell_type": "markdown",
   "id": "93b15a6b",
   "metadata": {},
   "source": [
    "**TODO: Insert visualization for data product**"
   ]
  },
  {
   "cell_type": "code",
   "execution_count": null,
   "id": "46bdd3d3",
   "metadata": {},
   "outputs": [],
   "source": [
    "# Calculate average response time for each airline\n",
    "average_response_time = filtered_data.groupby('author_id')['response_time'].mean()"
   ]
  },
  {
   "cell_type": "markdown",
   "id": "e0c9e59f",
   "metadata": {},
   "source": [
    "**TODO: Insert visualization for data product**"
   ]
  },
  {
   "cell_type": "code",
   "execution_count": null,
   "id": "2a9dd4e3",
   "metadata": {},
   "outputs": [],
   "source": [
    "# Visualize the data\n",
    "plt.figure(figsize=(8, 6))\n",
    "colors = ['red', 'blue'] \n",
    "average_response_time.plot(kind='bar', color=colors, edgecolor='black') \n",
    "plt.title('Average Response Time for American Airlines and Delta')\n",
    "plt.xlabel('Airline')\n",
    "plt.ylabel('Average Response Time')\n",
    "plt.xticks(range(len(average_response_time.index)), average_response_time.index, rotation=0)\n",
    "plt.show()"
   ]
  },
  {
   "cell_type": "markdown",
   "id": "7a694f3d",
   "metadata": {},
   "source": [
    "#### TODO: fix visualization and replace with a better one"
   ]
  },
  {
   "cell_type": "markdown",
   "id": "a3efc15a",
   "metadata": {},
   "source": [
    "##### Step 4. Statistical Predicitions / Modeling"
   ]
  },
  {
   "cell_type": "code",
   "execution_count": null,
   "id": "89ccae5f",
   "metadata": {},
   "outputs": [],
   "source": [
    "correlation = filtered_data.corr(numeric_only=True)\n",
    "\n",
    "filtered_data['response_time'] = filtered_data['response_tweet_id'] - filtered_data['in_response_to_tweet_id']\n",
    "\n",
    "average_response_time = filtered_data.groupby('author_id')['response_time'].mean()\n",
    "\n",
    "print(average_response_time)"
   ]
  },
  {
   "cell_type": "markdown",
   "id": "988716d1",
   "metadata": {},
   "source": [
    "***TODO: Insert better visualization for data product***"
   ]
  },
  {
   "cell_type": "markdown",
   "id": "46f335bb",
   "metadata": {},
   "source": [
    "#### Convert to postive for better analysis of results"
   ]
  },
  {
   "cell_type": "code",
   "execution_count": null,
   "id": "05b6b02e",
   "metadata": {},
   "outputs": [],
   "source": [
    "filtered_data['response_time'] = filtered_data['response_tweet_id'] - filtered_data['in_response_to_tweet_id']\n",
    "\n",
    "average_response_time = filtered_data.groupby('author_id')['response_time'].mean().abs()\n",
    "\n",
    "print(average_response_time)"
   ]
  },
  {
   "cell_type": "markdown",
   "id": "80c3cefc",
   "metadata": {},
   "source": [
    "***TODO: Insert better visualization for data product***"
   ]
  },
  {
   "cell_type": "markdown",
   "id": "a709cd53",
   "metadata": {},
   "source": [
    "## Result\n",
    "American Airlines with an average response time of approximately 983,238.5 units is faster than Delta with an average response time of approximately 1,069,096 units. This can correlate to customers being more satified with American Airlines customer support via the tweet data set"
   ]
  },
  {
   "cell_type": "markdown",
   "id": "47923349",
   "metadata": {},
   "source": [
    "**TODO: Insert visualization for final data product**"
   ]
  }
 ],
 "metadata": {
  "kernelspec": {
   "display_name": "Python 3 (ipykernel)",
   "language": "python",
   "name": "python3"
  },
  "language_info": {
   "codemirror_mode": {
    "name": "ipython",
    "version": 3
   },
   "file_extension": ".py",
   "mimetype": "text/x-python",
   "name": "python",
   "nbconvert_exporter": "python",
   "pygments_lexer": "ipython3",
   "version": "3.11.4"
  }
 },
 "nbformat": 4,
 "nbformat_minor": 5
}
