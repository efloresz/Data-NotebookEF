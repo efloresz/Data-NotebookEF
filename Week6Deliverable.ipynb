{
 "cells": [
  {
   "cell_type": "markdown",
   "id": "3cb04272",
   "metadata": {},
   "source": [
    "# Week 6 Visualizing Data Products (Technology & Airline Sectors) "
   ]
  },
  {
   "cell_type": "code",
   "execution_count": null,
   "id": "49c0a7df",
   "metadata": {},
   "outputs": [],
   "source": [
    "import pandas as pd\n",
    "import matplotlib.pyplot as plt\n",
    "from sklearn.feature_extraction.text import CountVectorizer\n",
    "from sklearn.model_selection import train_test_split\n",
    "from sklearn.ensemble import RandomForestClassifier\n",
    "from sklearn.metrics import accuracy_score\n",
    "from textblob import TextBlob\n",
    "import plotly.figure_factory as ff\n",
    "import plotly.graph_objects as go\n",
    "import plotly.express as px\n",
    "import numpy as np"
   ]
  },
  {
   "cell_type": "code",
   "execution_count": null,
   "id": "c4c929a6",
   "metadata": {},
   "outputs": [],
   "source": [
    "file_path = 'twcs.csv'\n",
    "data_set = pd.read_csv('twcs.csv')"
   ]
  },
  {
   "cell_type": "markdown",
   "id": "c8e244b9",
   "metadata": {},
   "source": [
    "### Technology Data Analysis"
   ]
  },
  {
   "cell_type": "markdown",
   "id": "e134a4cc",
   "metadata": {},
   "source": [
    "#### Step 1. Define the question\n",
    "What is the relationship between average response time & customer satisfaction for each technology support service?"
   ]
  },
  {
   "cell_type": "markdown",
   "id": "c733cb94",
   "metadata": {},
   "source": [
    "#### Step 2. Define the ideal data set:\n",
    "MicrosoftHelps, AppleSupport, DellCares, HPSupport"
   ]
  },
  {
   "cell_type": "markdown",
   "id": "a4b46f5e",
   "metadata": {},
   "source": [
    "#### Step 3. Obtain specific data"
   ]
  },
  {
   "cell_type": "code",
   "execution_count": null,
   "id": "c6c332ec",
   "metadata": {},
   "outputs": [],
   "source": [
    "filtered_data = data_set[data_set['author_id'].str.contains('MicrosoftHelps|AppleSupport|DellCares|HPSupport', case=False)]"
   ]
  },
  {
   "cell_type": "markdown",
   "id": "8587ab9e",
   "metadata": {},
   "source": [
    "#### Display filtered data"
   ]
  },
  {
   "cell_type": "code",
   "execution_count": null,
   "id": "5e7e17f6",
   "metadata": {},
   "outputs": [],
   "source": [
    "filtered_data = data_set[data_set['author_id'].str.contains('MicrosoftHelps|AppleSupport|DellCares|HPSupport', case=False)]\n",
    "\n",
    "fig = go.Figure(data=[go.Table(\n",
    "    header=dict(values=list(filtered_data.columns),\n",
    "                fill_color='paleturquoise',\n",
    "                align='left'),\n",
    "    cells=dict(values=[filtered_data.tweet_id, filtered_data.author_id, filtered_data.inbound, filtered_data.created_at, filtered_data.text, filtered_data.response_tweet_id, filtered_data.in_response_to_tweet_id],\n",
    "               fill_color='lavender',\n",
    "               align='left'))\n",
    "])\n",
    "\n",
    "fig.show()\n"
   ]
  },
  {
   "cell_type": "markdown",
   "id": "094b0a00",
   "metadata": {},
   "source": [
    "#### Step 4. Clean the data"
   ]
  },
  {
   "cell_type": "code",
   "execution_count": null,
   "id": "0ee9421b",
   "metadata": {},
   "outputs": [],
   "source": [
    "# Handle Missing Values\n",
    "cleaned_data = data_set.dropna()"
   ]
  },
  {
   "cell_type": "code",
   "execution_count": null,
   "id": "f685eeb3",
   "metadata": {},
   "outputs": [],
   "source": [
    "# Convert to DateTime\n",
    "data_set['created_at'] = pd.to_datetime(data_set['created_at'])"
   ]
  },
  {
   "cell_type": "code",
   "execution_count": null,
   "id": "ecaf23af",
   "metadata": {},
   "outputs": [],
   "source": [
    "# Group data by 'author_id' and 'inbound'\n",
    "grouped_data = filtered_data.groupby(['author_id', 'inbound']).size().reset_index(name='count')"
   ]
  },
  {
   "cell_type": "markdown",
   "id": "de765509",
   "metadata": {},
   "source": [
    "#### Explore & Visulaize distribution of inbound and outbound tweets "
   ]
  },
  {
   "cell_type": "code",
   "execution_count": null,
   "id": "e7abea63",
   "metadata": {},
   "outputs": [],
   "source": [
    "fig = px.bar(grouped_data, x='author_id', y='count', color='inbound',\n",
    "             labels={'count': 'Number of Tweets', 'inbound': 'Tweet Type'},\n",
    "             title='Distribution of Inbound and Outbound Tweets for Companies',\n",
    "             category_orders={'author_id': ['MicrosoftHelps', 'AppleSupport', 'DellCares', 'HPSupport']})\n",
    "\n",
    "fig.show()\n"
   ]
  },
  {
   "cell_type": "markdown",
   "id": "308196e3",
   "metadata": {},
   "source": [
    "#### Calculating the average response time for each company "
   ]
  },
  {
   "cell_type": "code",
   "execution_count": null,
   "id": "d90d5ed6",
   "metadata": {},
   "outputs": [],
   "source": [
    "filtered_data = data_set[data_set['author_id'].str.contains('MicrosoftHelps|AppleSupport|DellCares|HPSupport', case=False)]"
   ]
  },
  {
   "cell_type": "markdown",
   "id": "26afcf83",
   "metadata": {},
   "source": [
    "#### Convert 'created_at' and 'response_tweet_id' columns to datetime"
   ]
  },
  {
   "cell_type": "code",
   "execution_count": null,
   "id": "8ae81bcf",
   "metadata": {},
   "outputs": [],
   "source": [
    "filtered_data['created_at'] = pd.to_datetime(filtered_data['created_at'], errors='coerce').dt.tz_localize(None)\n",
    "filtered_data['response_tweet_id'] = pd.to_datetime(filtered_data['response_tweet_id'], errors='coerce').dt.tz_localize(None)"
   ]
  },
  {
   "cell_type": "markdown",
   "id": "62ec0006",
   "metadata": {},
   "source": [
    "#### Filter out rows where 'response_tweet_id' or 'created_at' couldn't be parsed"
   ]
  },
  {
   "cell_type": "code",
   "execution_count": null,
   "id": "5fde4302",
   "metadata": {},
   "outputs": [],
   "source": [
    "cleaned_filtered_data = filtered_data.dropna(subset=['created_at', 'response_tweet_id'])"
   ]
  },
  {
   "cell_type": "markdown",
   "id": "c6f9a55a",
   "metadata": {},
   "source": [
    "#### Calculate response time in seconds "
   ]
  },
  {
   "cell_type": "code",
   "execution_count": null,
   "id": "d00a3e43",
   "metadata": {},
   "outputs": [],
   "source": [
    "cleaned_filtered_data['response_time'] = (cleaned_filtered_data['response_tweet_id'] - cleaned_filtered_data['created_at']).dt.total_seconds()"
   ]
  },
  {
   "cell_type": "markdown",
   "id": "c19cbf4b",
   "metadata": {},
   "source": [
    "#### Results for average reponse times"
   ]
  },
  {
   "cell_type": "code",
   "execution_count": null,
   "id": "8de6a331",
   "metadata": {},
   "outputs": [],
   "source": [
    "average_response_time = cleaned_filtered_data.groupby('author_id')['response_time'].mean()\n",
    "print(average_response_time)"
   ]
  },
  {
   "cell_type": "markdown",
   "id": "f8b74056",
   "metadata": {},
   "source": [
    "#### Visualized the Average Response Time for each Technology Company"
   ]
  },
  {
   "cell_type": "code",
   "execution_count": null,
   "id": "cbf86c15",
   "metadata": {},
   "outputs": [],
   "source": [
    "colors = ['gold', 'mediumturquoise', 'hotpink', 'lightgreen']\n",
    "\n",
    "labels = average_response_time.index\n",
    "values = average_response_time.values\n",
    "\n",
    "fig = go.Figure(data=[go.Pie(labels=labels, values=values, \n",
    "                             hoverinfo='label+percent', \n",
    "                             textinfo='value', \n",
    "                             textfont_size=20,\n",
    "                             marker=dict(colors=colors, \n",
    "                                         line=dict(color='#000000', width=2)))])\n",
    "fig.update_layout(title='Average Response Time Distribution', title_font_size=24)\n",
    "fig.show()\n"
   ]
  },
  {
   "cell_type": "code",
   "execution_count": null,
   "id": "28087e99",
   "metadata": {},
   "outputs": [],
   "source": [
    "#### Take num of tweets divide by reponse time "
   ]
  },
  {
   "cell_type": "markdown",
   "id": "6ab82d0c",
   "metadata": {},
   "source": [
    "### Airline Data Analysis"
   ]
  },
  {
   "cell_type": "markdown",
   "id": "04a271e5",
   "metadata": {},
   "source": [
    "##### Step 1. Define the question:  \n",
    "How does response time correlate to customer satisfaction when comparing American Airlines & Delta?"
   ]
  },
  {
   "cell_type": "markdown",
   "id": "e80fc969",
   "metadata": {},
   "source": [
    "##### Step 2. Define the ideal data set: \n",
    "American Airlines and Delta"
   ]
  },
  {
   "cell_type": "markdown",
   "id": "ef7a442e",
   "metadata": {},
   "source": [
    "##### Step 3. Clean the data: "
   ]
  },
  {
   "cell_type": "code",
   "execution_count": null,
   "id": "6342505e",
   "metadata": {},
   "outputs": [],
   "source": [
    "# Handle missing values\n",
    "data_set['response_tweet_id'].fillna(-1, inplace=True)\n",
    "data_set['in_response_to_tweet_id'].fillna(-1, inplace=True)"
   ]
  },
  {
   "cell_type": "markdown",
   "id": "3df1cf12",
   "metadata": {},
   "source": [
    "**TODO: Insert visualization for data product**"
   ]
  },
  {
   "cell_type": "code",
   "execution_count": null,
   "id": "76b1b884",
   "metadata": {},
   "outputs": [],
   "source": [
    "# Step 3. Obtain specific data\n",
    "filtered_data = data_set[data_set['author_id'].str.contains('delta|american', case=False)]"
   ]
  },
  {
   "cell_type": "code",
   "execution_count": null,
   "id": "a34dfcad",
   "metadata": {},
   "outputs": [],
   "source": [
    "filtered_data = data_set[data_set['author_id'].str.contains('delta|american', case=False)]\n",
    "\n",
    "fig = go.Figure(data=[go.Table(\n",
    "    header=dict(values=list(filtered_data.columns),\n",
    "                fill_color='paleturquoise',\n",
    "                align='left'),\n",
    "    cells=dict(values=[filtered_data.tweet_id, filtered_data.author_id, filtered_data.inbound, filtered_data.created_at, filtered_data.text, filtered_data.response_tweet_id, filtered_data.in_response_to_tweet_id],\n",
    "               fill_color='lavender',\n",
    "               align='left'))\n",
    "])\n",
    "\n",
    "fig.show()"
   ]
  },
  {
   "cell_type": "code",
   "execution_count": null,
   "id": "38d91d39",
   "metadata": {},
   "outputs": [],
   "source": [
    "# Remove duplicates in the filtered data \n",
    "filtered_data = filtered_data.drop_duplicates().copy()"
   ]
  },
  {
   "cell_type": "markdown",
   "id": "7be3620b",
   "metadata": {},
   "source": [
    "**TODO: Insert visualization for data product**"
   ]
  },
  {
   "cell_type": "code",
   "execution_count": null,
   "id": "a5d3c613",
   "metadata": {},
   "outputs": [],
   "source": [
    "# Convert 'response_tweet_id' and 'in_response_to_tweet_id' to numeric \n",
    "filtered_data['response_tweet_id'] = pd.to_numeric(filtered_data['response_tweet_id'], errors='coerce')\n",
    "filtered_data['in_response_to_tweet_id'] = pd.to_numeric(filtered_data['in_response_to_tweet_id'], errors='coerce')"
   ]
  },
  {
   "cell_type": "markdown",
   "id": "06fb63f7",
   "metadata": {},
   "source": [
    "**TODO: Insert visualization for data product**"
   ]
  },
  {
   "cell_type": "code",
   "execution_count": null,
   "id": "07e3107c",
   "metadata": {},
   "outputs": [],
   "source": [
    "# Calculate response time\n",
    "filtered_data['response_time'] = filtered_data['response_tweet_id'] - filtered_data['in_response_to_tweet_id']"
   ]
  },
  {
   "cell_type": "markdown",
   "id": "93b15a6b",
   "metadata": {},
   "source": [
    "**TODO: Insert visualization for data product**"
   ]
  },
  {
   "cell_type": "code",
   "execution_count": null,
   "id": "46bdd3d3",
   "metadata": {},
   "outputs": [],
   "source": [
    "# Calculate average response time for each airline\n",
    "average_response_time = filtered_data.groupby('author_id')['response_time'].mean()"
   ]
  },
  {
   "cell_type": "markdown",
   "id": "e0c9e59f",
   "metadata": {},
   "source": [
    "**TODO: Insert visualization for data product**"
   ]
  },
  {
   "cell_type": "code",
   "execution_count": null,
   "id": "2a9dd4e3",
   "metadata": {},
   "outputs": [],
   "source": [
    "# Visualize the data\n",
    "plt.figure(figsize=(8, 6))\n",
    "colors = ['red', 'blue'] \n",
    "average_response_time.plot(kind='bar', color=colors, edgecolor='black') \n",
    "plt.title('Average Response Time for American Airlines and Delta')\n",
    "plt.xlabel('Airline')\n",
    "plt.ylabel('Average Response Time')\n",
    "plt.xticks(range(len(average_response_time.index)), average_response_time.index, rotation=0)\n",
    "plt.show()"
   ]
  },
  {
   "cell_type": "markdown",
   "id": "7a694f3d",
   "metadata": {},
   "source": [
    "#### TODO: fix visualization and replace with a better one"
   ]
  },
  {
   "cell_type": "markdown",
   "id": "a3efc15a",
   "metadata": {},
   "source": [
    "##### Step 4. Statistical Predicitions / Modeling"
   ]
  },
  {
   "cell_type": "code",
   "execution_count": null,
   "id": "89ccae5f",
   "metadata": {},
   "outputs": [],
   "source": [
    "correlation = filtered_data.corr(numeric_only=True)\n",
    "\n",
    "filtered_data['response_time'] = filtered_data['response_tweet_id'] - filtered_data['in_response_to_tweet_id']\n",
    "\n",
    "average_response_time = filtered_data.groupby('author_id')['response_time'].mean()\n",
    "\n",
    "print(average_response_time)"
   ]
  },
  {
   "cell_type": "markdown",
   "id": "988716d1",
   "metadata": {},
   "source": [
    "***TODO: Insert better visualization for data product***"
   ]
  },
  {
   "cell_type": "markdown",
   "id": "46f335bb",
   "metadata": {},
   "source": [
    "#### Convert to postive for better analysis of results"
   ]
  },
  {
   "cell_type": "code",
   "execution_count": null,
   "id": "05b6b02e",
   "metadata": {},
   "outputs": [],
   "source": [
    "filtered_data['response_time'] = filtered_data['response_tweet_id'] - filtered_data['in_response_to_tweet_id']\n",
    "\n",
    "average_response_time = filtered_data.groupby('author_id')['response_time'].mean().abs()\n",
    "\n",
    "print(average_response_time)"
   ]
  },
  {
   "cell_type": "markdown",
   "id": "80c3cefc",
   "metadata": {},
   "source": [
    "***TODO: Insert better visualization for data product***"
   ]
  },
  {
   "cell_type": "markdown",
   "id": "a709cd53",
   "metadata": {},
   "source": [
    "## Result\n",
    "American Airlines with an average response time of approximately 983,238.5 units is faster than Delta with an average response time of approximately 1,069,096 units. This can correlate to customers being more satified with American Airlines customer support via the tweet data set"
   ]
  },
  {
   "cell_type": "markdown",
   "id": "47923349",
   "metadata": {},
   "source": [
    "**TODO: Insert visualization for final data product**"
   ]
  }
 ],
 "metadata": {
  "kernelspec": {
   "display_name": "Python 3 (ipykernel)",
   "language": "python",
   "name": "python3"
  },
  "language_info": {
   "codemirror_mode": {
    "name": "ipython",
    "version": 3
   },
   "file_extension": ".py",
   "mimetype": "text/x-python",
   "name": "python",
   "nbconvert_exporter": "python",
   "pygments_lexer": "ipython3",
   "version": "3.11.4"
  }
 },
 "nbformat": 4,
 "nbformat_minor": 5
}
