{
 "cells": [
  {
   "cell_type": "markdown",
   "id": "30da79fb",
   "metadata": {},
   "source": [
    "## Customer Support Twitter Analysis for Airline Companies\n",
    "\n",
    "##### Objective:\n",
    "This notebook explores customer interactions in a Customer Support Twitter dataset. We focus on understanding the relationship between response times and customer satisfaction for Airline companies, American and Delta.\n",
    "\n",
    "##### Approach:\n",
    "Through meticulous analysis, we get into response times and customer sentiments in conversations. By examining these factors, we aim to uncover valuable patterns and trends, offering insights into effective customer support practices.\n",
    "\n",
    "##### Key Question: \n",
    "How does response time correlate to customer satisfaction when comparing American Airlines & Delta?\n",
    "\n",
    "##### Purpose impact:\n",
    "This analysis aims to help the analyzed companies by providing actionable insights derived from customer interactions. By understanding customer sentiments and response dynamics, these technology support companies can optimize their communication strategies, fostering improved customer satisfaction and engagement."
   ]
  },
  {
   "cell_type": "code",
   "execution_count": 126,
   "id": "05c66b58",
   "metadata": {},
   "outputs": [],
   "source": [
    "# Imports used in this Python file\n",
    "import pandas as pd\n",
    "import matplotlib.pyplot as plt\n",
    "from sklearn.feature_extraction.text import CountVectorizer\n",
    "from sklearn.model_selection import train_test_split\n",
    "from sklearn.ensemble import RandomForestClassifier\n",
    "from sklearn.metrics import accuracy_score\n",
    "from textblob import TextBlob\n",
    "import plotly.figure_factory as ff\n",
    "import plotly.graph_objects as go\n",
    "import plotly.express as px\n",
    "import numpy as np"
   ]
  },
  {
   "cell_type": "code",
   "execution_count": 127,
   "id": "aab3058d",
   "metadata": {},
   "outputs": [
    {
     "data": {
      "text/html": [
       "<div>\n",
       "<style scoped>\n",
       "    .dataframe tbody tr th:only-of-type {\n",
       "        vertical-align: middle;\n",
       "    }\n",
       "\n",
       "    .dataframe tbody tr th {\n",
       "        vertical-align: top;\n",
       "    }\n",
       "\n",
       "    .dataframe thead th {\n",
       "        text-align: right;\n",
       "    }\n",
       "</style>\n",
       "<table border=\"1\" class=\"dataframe\">\n",
       "  <thead>\n",
       "    <tr style=\"text-align: right;\">\n",
       "      <th></th>\n",
       "      <th>tweet_id</th>\n",
       "      <th>author_id</th>\n",
       "      <th>inbound</th>\n",
       "      <th>created_at</th>\n",
       "      <th>text</th>\n",
       "      <th>response_tweet_id</th>\n",
       "      <th>in_response_to_tweet_id</th>\n",
       "    </tr>\n",
       "  </thead>\n",
       "  <tbody>\n",
       "    <tr>\n",
       "      <th>0</th>\n",
       "      <td>1</td>\n",
       "      <td>sprintcare</td>\n",
       "      <td>False</td>\n",
       "      <td>Tue Oct 31 22:10:47 +0000 2017</td>\n",
       "      <td>@115712 I understand. I would like to assist y...</td>\n",
       "      <td>2</td>\n",
       "      <td>3.0</td>\n",
       "    </tr>\n",
       "    <tr>\n",
       "      <th>1</th>\n",
       "      <td>2</td>\n",
       "      <td>115712</td>\n",
       "      <td>True</td>\n",
       "      <td>Tue Oct 31 22:11:45 +0000 2017</td>\n",
       "      <td>@sprintcare and how do you propose we do that</td>\n",
       "      <td>NaN</td>\n",
       "      <td>1.0</td>\n",
       "    </tr>\n",
       "    <tr>\n",
       "      <th>2</th>\n",
       "      <td>3</td>\n",
       "      <td>115712</td>\n",
       "      <td>True</td>\n",
       "      <td>Tue Oct 31 22:08:27 +0000 2017</td>\n",
       "      <td>@sprintcare I have sent several private messag...</td>\n",
       "      <td>1</td>\n",
       "      <td>4.0</td>\n",
       "    </tr>\n",
       "    <tr>\n",
       "      <th>3</th>\n",
       "      <td>4</td>\n",
       "      <td>sprintcare</td>\n",
       "      <td>False</td>\n",
       "      <td>Tue Oct 31 21:54:49 +0000 2017</td>\n",
       "      <td>@115712 Please send us a Private Message so th...</td>\n",
       "      <td>3</td>\n",
       "      <td>5.0</td>\n",
       "    </tr>\n",
       "    <tr>\n",
       "      <th>4</th>\n",
       "      <td>5</td>\n",
       "      <td>115712</td>\n",
       "      <td>True</td>\n",
       "      <td>Tue Oct 31 21:49:35 +0000 2017</td>\n",
       "      <td>@sprintcare I did.</td>\n",
       "      <td>4</td>\n",
       "      <td>6.0</td>\n",
       "    </tr>\n",
       "    <tr>\n",
       "      <th>5</th>\n",
       "      <td>6</td>\n",
       "      <td>sprintcare</td>\n",
       "      <td>False</td>\n",
       "      <td>Tue Oct 31 21:46:24 +0000 2017</td>\n",
       "      <td>@115712 Can you please send us a private messa...</td>\n",
       "      <td>5,7</td>\n",
       "      <td>8.0</td>\n",
       "    </tr>\n",
       "    <tr>\n",
       "      <th>6</th>\n",
       "      <td>8</td>\n",
       "      <td>115712</td>\n",
       "      <td>True</td>\n",
       "      <td>Tue Oct 31 21:45:10 +0000 2017</td>\n",
       "      <td>@sprintcare is the worst customer service</td>\n",
       "      <td>9,6,10</td>\n",
       "      <td>NaN</td>\n",
       "    </tr>\n",
       "    <tr>\n",
       "      <th>7</th>\n",
       "      <td>11</td>\n",
       "      <td>sprintcare</td>\n",
       "      <td>False</td>\n",
       "      <td>Tue Oct 31 22:10:35 +0000 2017</td>\n",
       "      <td>@115713 This is saddening to hear. Please shoo...</td>\n",
       "      <td>NaN</td>\n",
       "      <td>12.0</td>\n",
       "    </tr>\n",
       "    <tr>\n",
       "      <th>8</th>\n",
       "      <td>12</td>\n",
       "      <td>115713</td>\n",
       "      <td>True</td>\n",
       "      <td>Tue Oct 31 22:04:47 +0000 2017</td>\n",
       "      <td>@sprintcare You gonna magically change your co...</td>\n",
       "      <td>11,13,14</td>\n",
       "      <td>15.0</td>\n",
       "    </tr>\n",
       "    <tr>\n",
       "      <th>9</th>\n",
       "      <td>15</td>\n",
       "      <td>sprintcare</td>\n",
       "      <td>False</td>\n",
       "      <td>Tue Oct 31 20:03:31 +0000 2017</td>\n",
       "      <td>@115713 We understand your concerns and we'd l...</td>\n",
       "      <td>12</td>\n",
       "      <td>16.0</td>\n",
       "    </tr>\n",
       "  </tbody>\n",
       "</table>\n",
       "</div>"
      ],
      "text/plain": [
       "   tweet_id   author_id  inbound                      created_at  \\\n",
       "0         1  sprintcare    False  Tue Oct 31 22:10:47 +0000 2017   \n",
       "1         2      115712     True  Tue Oct 31 22:11:45 +0000 2017   \n",
       "2         3      115712     True  Tue Oct 31 22:08:27 +0000 2017   \n",
       "3         4  sprintcare    False  Tue Oct 31 21:54:49 +0000 2017   \n",
       "4         5      115712     True  Tue Oct 31 21:49:35 +0000 2017   \n",
       "5         6  sprintcare    False  Tue Oct 31 21:46:24 +0000 2017   \n",
       "6         8      115712     True  Tue Oct 31 21:45:10 +0000 2017   \n",
       "7        11  sprintcare    False  Tue Oct 31 22:10:35 +0000 2017   \n",
       "8        12      115713     True  Tue Oct 31 22:04:47 +0000 2017   \n",
       "9        15  sprintcare    False  Tue Oct 31 20:03:31 +0000 2017   \n",
       "\n",
       "                                                text response_tweet_id  \\\n",
       "0  @115712 I understand. I would like to assist y...                 2   \n",
       "1      @sprintcare and how do you propose we do that               NaN   \n",
       "2  @sprintcare I have sent several private messag...                 1   \n",
       "3  @115712 Please send us a Private Message so th...                 3   \n",
       "4                                 @sprintcare I did.                 4   \n",
       "5  @115712 Can you please send us a private messa...               5,7   \n",
       "6          @sprintcare is the worst customer service            9,6,10   \n",
       "7  @115713 This is saddening to hear. Please shoo...               NaN   \n",
       "8  @sprintcare You gonna magically change your co...          11,13,14   \n",
       "9  @115713 We understand your concerns and we'd l...                12   \n",
       "\n",
       "   in_response_to_tweet_id  \n",
       "0                      3.0  \n",
       "1                      1.0  \n",
       "2                      4.0  \n",
       "3                      5.0  \n",
       "4                      6.0  \n",
       "5                      8.0  \n",
       "6                      NaN  \n",
       "7                     12.0  \n",
       "8                     15.0  \n",
       "9                     16.0  "
      ]
     },
     "execution_count": 127,
     "metadata": {},
     "output_type": "execute_result"
    }
   ],
   "source": [
    "# Load the Dataset\n",
    "file_path = 'twcs.csv'\n",
    "data_set = pd.read_csv('twcs.csv')\n",
    "data_set.head(10)"
   ]
  },
  {
   "cell_type": "code",
   "execution_count": 128,
   "id": "f1ea87d1",
   "metadata": {},
   "outputs": [
    {
     "data": {
      "text/plain": [
       "(2811774, 7)"
      ]
     },
     "execution_count": 128,
     "metadata": {},
     "output_type": "execute_result"
    }
   ],
   "source": [
    "data_set.shape"
   ]
  },
  {
   "cell_type": "markdown",
   "id": "27edf06b",
   "metadata": {},
   "source": [
    "#### Exploring and cleaning the data to obtain specific companies "
   ]
  },
  {
   "cell_type": "code",
   "execution_count": 129,
   "id": "6047c966",
   "metadata": {},
   "outputs": [],
   "source": [
    "# Handle missing values\n",
    "data_set['response_tweet_id'].fillna(-1, inplace=True)\n",
    "data_set['in_response_to_tweet_id'].fillna(-1, inplace=True)"
   ]
  },
  {
   "cell_type": "code",
   "execution_count": 130,
   "id": "e97ab280",
   "metadata": {},
   "outputs": [],
   "source": [
    "filtered_data = data_set[data_set['author_id'].str.contains('delta|american', case=False)]"
   ]
  },
  {
   "cell_type": "code",
   "execution_count": 131,
   "id": "6a656b6b",
   "metadata": {},
   "outputs": [
    {
     "data": {
      "text/html": [
       "<div>\n",
       "<style scoped>\n",
       "    .dataframe tbody tr th:only-of-type {\n",
       "        vertical-align: middle;\n",
       "    }\n",
       "\n",
       "    .dataframe tbody tr th {\n",
       "        vertical-align: top;\n",
       "    }\n",
       "\n",
       "    .dataframe thead th {\n",
       "        text-align: right;\n",
       "    }\n",
       "</style>\n",
       "<table border=\"1\" class=\"dataframe\">\n",
       "  <thead>\n",
       "    <tr style=\"text-align: right;\">\n",
       "      <th></th>\n",
       "      <th>tweet_id</th>\n",
       "      <th>author_id</th>\n",
       "      <th>inbound</th>\n",
       "      <th>created_at</th>\n",
       "      <th>text</th>\n",
       "      <th>response_tweet_id</th>\n",
       "      <th>in_response_to_tweet_id</th>\n",
       "    </tr>\n",
       "  </thead>\n",
       "  <tbody>\n",
       "    <tr>\n",
       "      <th>315</th>\n",
       "      <td>609</td>\n",
       "      <td>Delta</td>\n",
       "      <td>False</td>\n",
       "      <td>Sat Aug 06 01:44:03 +0000 2016</td>\n",
       "      <td>@115818 Glad to check. Pls, DM your confirmati...</td>\n",
       "      <td>610</td>\n",
       "      <td>611.0</td>\n",
       "    </tr>\n",
       "    <tr>\n",
       "      <th>484</th>\n",
       "      <td>790</td>\n",
       "      <td>Delta</td>\n",
       "      <td>False</td>\n",
       "      <td>Tue Oct 31 22:27:38 +0000 2017</td>\n",
       "      <td>@115882 I'm sorry. The earlier flight may not ...</td>\n",
       "      <td>791</td>\n",
       "      <td>792.0</td>\n",
       "    </tr>\n",
       "    <tr>\n",
       "      <th>486</th>\n",
       "      <td>793</td>\n",
       "      <td>Delta</td>\n",
       "      <td>False</td>\n",
       "      <td>Tue Oct 31 22:52:37 +0000 2017</td>\n",
       "      <td>@115882 My apologies. If that flight never sho...</td>\n",
       "      <td>-1</td>\n",
       "      <td>791.0</td>\n",
       "    </tr>\n",
       "    <tr>\n",
       "      <th>488</th>\n",
       "      <td>794</td>\n",
       "      <td>Delta</td>\n",
       "      <td>False</td>\n",
       "      <td>Tue Oct 31 22:25:31 +0000 2017</td>\n",
       "      <td>@115883 Please share additional details about ...</td>\n",
       "      <td>795</td>\n",
       "      <td>796.0</td>\n",
       "    </tr>\n",
       "    <tr>\n",
       "      <th>490</th>\n",
       "      <td>797</td>\n",
       "      <td>Delta</td>\n",
       "      <td>False</td>\n",
       "      <td>Tue Oct 31 23:07:41 +0000 2017</td>\n",
       "      <td>@115883 Please do.  *AFC https://t.co/6iDGBJAc2m</td>\n",
       "      <td>798</td>\n",
       "      <td>795.0</td>\n",
       "    </tr>\n",
       "    <tr>\n",
       "      <th>493</th>\n",
       "      <td>799</td>\n",
       "      <td>Delta</td>\n",
       "      <td>False</td>\n",
       "      <td>Sun Oct 29 16:56:47 +0000 2017</td>\n",
       "      <td>@115883 I sincerely apologize, our IT team is ...</td>\n",
       "      <td>800,796</td>\n",
       "      <td>801.0</td>\n",
       "    </tr>\n",
       "    <tr>\n",
       "      <th>495</th>\n",
       "      <td>802</td>\n",
       "      <td>Delta</td>\n",
       "      <td>False</td>\n",
       "      <td>Tue Oct 31 22:23:07 +0000 2017</td>\n",
       "      <td>@115884 Oh, no! Please speak to a member of th...</td>\n",
       "      <td>-1</td>\n",
       "      <td>803.0</td>\n",
       "    </tr>\n",
       "    <tr>\n",
       "      <th>497</th>\n",
       "      <td>804</td>\n",
       "      <td>Delta</td>\n",
       "      <td>False</td>\n",
       "      <td>Tue Oct 31 22:22:01 +0000 2017</td>\n",
       "      <td>@115885 2/2 https://t.co/6iDGBJAc2m</td>\n",
       "      <td>805,806</td>\n",
       "      <td>807.0</td>\n",
       "    </tr>\n",
       "    <tr>\n",
       "      <th>501</th>\n",
       "      <td>809</td>\n",
       "      <td>Delta</td>\n",
       "      <td>False</td>\n",
       "      <td>Tue Oct 31 19:21:13 +0000 2017</td>\n",
       "      <td>@115885 Hello, Richard! Please DM your confirm...</td>\n",
       "      <td>807</td>\n",
       "      <td>810.0</td>\n",
       "    </tr>\n",
       "    <tr>\n",
       "      <th>504</th>\n",
       "      <td>813</td>\n",
       "      <td>Delta</td>\n",
       "      <td>False</td>\n",
       "      <td>Tue Oct 31 18:42:21 +0000 2017</td>\n",
       "      <td>@115885 Hi, Richard. Can you pls DM your confi...</td>\n",
       "      <td>811</td>\n",
       "      <td>814.0</td>\n",
       "    </tr>\n",
       "  </tbody>\n",
       "</table>\n",
       "</div>"
      ],
      "text/plain": [
       "     tweet_id author_id  inbound                      created_at  \\\n",
       "315       609     Delta    False  Sat Aug 06 01:44:03 +0000 2016   \n",
       "484       790     Delta    False  Tue Oct 31 22:27:38 +0000 2017   \n",
       "486       793     Delta    False  Tue Oct 31 22:52:37 +0000 2017   \n",
       "488       794     Delta    False  Tue Oct 31 22:25:31 +0000 2017   \n",
       "490       797     Delta    False  Tue Oct 31 23:07:41 +0000 2017   \n",
       "493       799     Delta    False  Sun Oct 29 16:56:47 +0000 2017   \n",
       "495       802     Delta    False  Tue Oct 31 22:23:07 +0000 2017   \n",
       "497       804     Delta    False  Tue Oct 31 22:22:01 +0000 2017   \n",
       "501       809     Delta    False  Tue Oct 31 19:21:13 +0000 2017   \n",
       "504       813     Delta    False  Tue Oct 31 18:42:21 +0000 2017   \n",
       "\n",
       "                                                  text response_tweet_id  \\\n",
       "315  @115818 Glad to check. Pls, DM your confirmati...               610   \n",
       "484  @115882 I'm sorry. The earlier flight may not ...               791   \n",
       "486  @115882 My apologies. If that flight never sho...                -1   \n",
       "488  @115883 Please share additional details about ...               795   \n",
       "490   @115883 Please do.  *AFC https://t.co/6iDGBJAc2m               798   \n",
       "493  @115883 I sincerely apologize, our IT team is ...           800,796   \n",
       "495  @115884 Oh, no! Please speak to a member of th...                -1   \n",
       "497                @115885 2/2 https://t.co/6iDGBJAc2m           805,806   \n",
       "501  @115885 Hello, Richard! Please DM your confirm...               807   \n",
       "504  @115885 Hi, Richard. Can you pls DM your confi...               811   \n",
       "\n",
       "     in_response_to_tweet_id  \n",
       "315                    611.0  \n",
       "484                    792.0  \n",
       "486                    791.0  \n",
       "488                    796.0  \n",
       "490                    795.0  \n",
       "493                    801.0  \n",
       "495                    803.0  \n",
       "497                    807.0  \n",
       "501                    810.0  \n",
       "504                    814.0  "
      ]
     },
     "execution_count": 131,
     "metadata": {},
     "output_type": "execute_result"
    }
   ],
   "source": [
    "filtered_data.head(10)"
   ]
  },
  {
   "cell_type": "code",
   "execution_count": 132,
   "id": "b8143062",
   "metadata": {},
   "outputs": [
    {
     "name": "stdout",
     "output_type": "stream",
     "text": [
      "tweet_id                   0\n",
      "author_id                  0\n",
      "inbound                    0\n",
      "created_at                 0\n",
      "text                       0\n",
      "response_tweet_id          0\n",
      "in_response_to_tweet_id    0\n",
      "dtype: int64\n"
     ]
    }
   ],
   "source": [
    "# Handle Missing Values\n",
    "filtered_data = data_set[data_set['author_id'].str.contains('delta|american', case=False)]\n",
    "filtered_data = data_set.dropna()\n",
    "print(filtered_data.isnull().sum())"
   ]
  },
  {
   "cell_type": "code",
   "execution_count": 133,
   "id": "915572ee",
   "metadata": {},
   "outputs": [
    {
     "data": {
      "text/html": [
       "<div>\n",
       "<style scoped>\n",
       "    .dataframe tbody tr th:only-of-type {\n",
       "        vertical-align: middle;\n",
       "    }\n",
       "\n",
       "    .dataframe tbody tr th {\n",
       "        vertical-align: top;\n",
       "    }\n",
       "\n",
       "    .dataframe thead th {\n",
       "        text-align: right;\n",
       "    }\n",
       "</style>\n",
       "<table border=\"1\" class=\"dataframe\">\n",
       "  <thead>\n",
       "    <tr style=\"text-align: right;\">\n",
       "      <th></th>\n",
       "      <th>author_id</th>\n",
       "      <th>inbound</th>\n",
       "      <th>count</th>\n",
       "    </tr>\n",
       "  </thead>\n",
       "  <tbody>\n",
       "    <tr>\n",
       "      <th>0</th>\n",
       "      <td>AmericanAir</td>\n",
       "      <td>False</td>\n",
       "      <td>36764</td>\n",
       "    </tr>\n",
       "    <tr>\n",
       "      <th>1</th>\n",
       "      <td>Delta</td>\n",
       "      <td>False</td>\n",
       "      <td>42253</td>\n",
       "    </tr>\n",
       "  </tbody>\n",
       "</table>\n",
       "</div>"
      ],
      "text/plain": [
       "     author_id  inbound  count\n",
       "0  AmericanAir    False  36764\n",
       "1        Delta    False  42253"
      ]
     },
     "execution_count": 133,
     "metadata": {},
     "output_type": "execute_result"
    }
   ],
   "source": [
    "# Group the filtered data and count the number of tweets in each company\n",
    "filtered_data = data_set[data_set['author_id'].str.contains('delta|american', case=False)]\n",
    "grouped_data = filtered_data.groupby(['author_id', 'inbound']).size().reset_index(name='count')\n",
    "grouped_data.head(10)"
   ]
  },
  {
   "cell_type": "markdown",
   "id": "92cc3c62",
   "metadata": {},
   "source": [
    "#### What company has the most and least amount of tweets?"
   ]
  },
  {
   "cell_type": "code",
   "execution_count": 134,
   "id": "0810f976",
   "metadata": {},
   "outputs": [
    {
     "data": {
      "application/vnd.plotly.v1+json": {
       "config": {
        "plotlyServerURL": "https://plot.ly"
       },
       "data": [
        {
         "alignmentgroup": "True",
         "hovertemplate": "author_id=AmericanAir<br>index=%{x}<br>count=%{y}<extra></extra>",
         "legendgroup": "AmericanAir",
         "marker": {
          "color": "#636efa",
          "pattern": {
           "shape": ""
          }
         },
         "name": "AmericanAir",
         "offsetgroup": "AmericanAir",
         "orientation": "v",
         "showlegend": true,
         "textposition": "auto",
         "type": "bar",
         "x": [
          0
         ],
         "xaxis": "x",
         "y": [
          36764
         ],
         "yaxis": "y"
        },
        {
         "alignmentgroup": "True",
         "hovertemplate": "author_id=Delta<br>index=%{x}<br>count=%{y}<extra></extra>",
         "legendgroup": "Delta",
         "marker": {
          "color": "#EF553B",
          "pattern": {
           "shape": ""
          }
         },
         "name": "Delta",
         "offsetgroup": "Delta",
         "orientation": "v",
         "showlegend": true,
         "textposition": "auto",
         "type": "bar",
         "x": [
          1
         ],
         "xaxis": "x",
         "y": [
          42253
         ],
         "yaxis": "y"
        }
       ],
       "layout": {
        "barmode": "relative",
        "legend": {
         "title": {
          "text": "author_id"
         },
         "tracegroupgap": 0
        },
        "template": {
         "data": {
          "bar": [
           {
            "error_x": {
             "color": "#2a3f5f"
            },
            "error_y": {
             "color": "#2a3f5f"
            },
            "marker": {
             "line": {
              "color": "#E5ECF6",
              "width": 0.5
             },
             "pattern": {
              "fillmode": "overlay",
              "size": 10,
              "solidity": 0.2
             }
            },
            "type": "bar"
           }
          ],
          "barpolar": [
           {
            "marker": {
             "line": {
              "color": "#E5ECF6",
              "width": 0.5
             },
             "pattern": {
              "fillmode": "overlay",
              "size": 10,
              "solidity": 0.2
             }
            },
            "type": "barpolar"
           }
          ],
          "carpet": [
           {
            "aaxis": {
             "endlinecolor": "#2a3f5f",
             "gridcolor": "white",
             "linecolor": "white",
             "minorgridcolor": "white",
             "startlinecolor": "#2a3f5f"
            },
            "baxis": {
             "endlinecolor": "#2a3f5f",
             "gridcolor": "white",
             "linecolor": "white",
             "minorgridcolor": "white",
             "startlinecolor": "#2a3f5f"
            },
            "type": "carpet"
           }
          ],
          "choropleth": [
           {
            "colorbar": {
             "outlinewidth": 0,
             "ticks": ""
            },
            "type": "choropleth"
           }
          ],
          "contour": [
           {
            "colorbar": {
             "outlinewidth": 0,
             "ticks": ""
            },
            "colorscale": [
             [
              0,
              "#0d0887"
             ],
             [
              0.1111111111111111,
              "#46039f"
             ],
             [
              0.2222222222222222,
              "#7201a8"
             ],
             [
              0.3333333333333333,
              "#9c179e"
             ],
             [
              0.4444444444444444,
              "#bd3786"
             ],
             [
              0.5555555555555556,
              "#d8576b"
             ],
             [
              0.6666666666666666,
              "#ed7953"
             ],
             [
              0.7777777777777778,
              "#fb9f3a"
             ],
             [
              0.8888888888888888,
              "#fdca26"
             ],
             [
              1,
              "#f0f921"
             ]
            ],
            "type": "contour"
           }
          ],
          "contourcarpet": [
           {
            "colorbar": {
             "outlinewidth": 0,
             "ticks": ""
            },
            "type": "contourcarpet"
           }
          ],
          "heatmap": [
           {
            "colorbar": {
             "outlinewidth": 0,
             "ticks": ""
            },
            "colorscale": [
             [
              0,
              "#0d0887"
             ],
             [
              0.1111111111111111,
              "#46039f"
             ],
             [
              0.2222222222222222,
              "#7201a8"
             ],
             [
              0.3333333333333333,
              "#9c179e"
             ],
             [
              0.4444444444444444,
              "#bd3786"
             ],
             [
              0.5555555555555556,
              "#d8576b"
             ],
             [
              0.6666666666666666,
              "#ed7953"
             ],
             [
              0.7777777777777778,
              "#fb9f3a"
             ],
             [
              0.8888888888888888,
              "#fdca26"
             ],
             [
              1,
              "#f0f921"
             ]
            ],
            "type": "heatmap"
           }
          ],
          "heatmapgl": [
           {
            "colorbar": {
             "outlinewidth": 0,
             "ticks": ""
            },
            "colorscale": [
             [
              0,
              "#0d0887"
             ],
             [
              0.1111111111111111,
              "#46039f"
             ],
             [
              0.2222222222222222,
              "#7201a8"
             ],
             [
              0.3333333333333333,
              "#9c179e"
             ],
             [
              0.4444444444444444,
              "#bd3786"
             ],
             [
              0.5555555555555556,
              "#d8576b"
             ],
             [
              0.6666666666666666,
              "#ed7953"
             ],
             [
              0.7777777777777778,
              "#fb9f3a"
             ],
             [
              0.8888888888888888,
              "#fdca26"
             ],
             [
              1,
              "#f0f921"
             ]
            ],
            "type": "heatmapgl"
           }
          ],
          "histogram": [
           {
            "marker": {
             "pattern": {
              "fillmode": "overlay",
              "size": 10,
              "solidity": 0.2
             }
            },
            "type": "histogram"
           }
          ],
          "histogram2d": [
           {
            "colorbar": {
             "outlinewidth": 0,
             "ticks": ""
            },
            "colorscale": [
             [
              0,
              "#0d0887"
             ],
             [
              0.1111111111111111,
              "#46039f"
             ],
             [
              0.2222222222222222,
              "#7201a8"
             ],
             [
              0.3333333333333333,
              "#9c179e"
             ],
             [
              0.4444444444444444,
              "#bd3786"
             ],
             [
              0.5555555555555556,
              "#d8576b"
             ],
             [
              0.6666666666666666,
              "#ed7953"
             ],
             [
              0.7777777777777778,
              "#fb9f3a"
             ],
             [
              0.8888888888888888,
              "#fdca26"
             ],
             [
              1,
              "#f0f921"
             ]
            ],
            "type": "histogram2d"
           }
          ],
          "histogram2dcontour": [
           {
            "colorbar": {
             "outlinewidth": 0,
             "ticks": ""
            },
            "colorscale": [
             [
              0,
              "#0d0887"
             ],
             [
              0.1111111111111111,
              "#46039f"
             ],
             [
              0.2222222222222222,
              "#7201a8"
             ],
             [
              0.3333333333333333,
              "#9c179e"
             ],
             [
              0.4444444444444444,
              "#bd3786"
             ],
             [
              0.5555555555555556,
              "#d8576b"
             ],
             [
              0.6666666666666666,
              "#ed7953"
             ],
             [
              0.7777777777777778,
              "#fb9f3a"
             ],
             [
              0.8888888888888888,
              "#fdca26"
             ],
             [
              1,
              "#f0f921"
             ]
            ],
            "type": "histogram2dcontour"
           }
          ],
          "mesh3d": [
           {
            "colorbar": {
             "outlinewidth": 0,
             "ticks": ""
            },
            "type": "mesh3d"
           }
          ],
          "parcoords": [
           {
            "line": {
             "colorbar": {
              "outlinewidth": 0,
              "ticks": ""
             }
            },
            "type": "parcoords"
           }
          ],
          "pie": [
           {
            "automargin": true,
            "type": "pie"
           }
          ],
          "scatter": [
           {
            "fillpattern": {
             "fillmode": "overlay",
             "size": 10,
             "solidity": 0.2
            },
            "type": "scatter"
           }
          ],
          "scatter3d": [
           {
            "line": {
             "colorbar": {
              "outlinewidth": 0,
              "ticks": ""
             }
            },
            "marker": {
             "colorbar": {
              "outlinewidth": 0,
              "ticks": ""
             }
            },
            "type": "scatter3d"
           }
          ],
          "scattercarpet": [
           {
            "marker": {
             "colorbar": {
              "outlinewidth": 0,
              "ticks": ""
             }
            },
            "type": "scattercarpet"
           }
          ],
          "scattergeo": [
           {
            "marker": {
             "colorbar": {
              "outlinewidth": 0,
              "ticks": ""
             }
            },
            "type": "scattergeo"
           }
          ],
          "scattergl": [
           {
            "marker": {
             "colorbar": {
              "outlinewidth": 0,
              "ticks": ""
             }
            },
            "type": "scattergl"
           }
          ],
          "scattermapbox": [
           {
            "marker": {
             "colorbar": {
              "outlinewidth": 0,
              "ticks": ""
             }
            },
            "type": "scattermapbox"
           }
          ],
          "scatterpolar": [
           {
            "marker": {
             "colorbar": {
              "outlinewidth": 0,
              "ticks": ""
             }
            },
            "type": "scatterpolar"
           }
          ],
          "scatterpolargl": [
           {
            "marker": {
             "colorbar": {
              "outlinewidth": 0,
              "ticks": ""
             }
            },
            "type": "scatterpolargl"
           }
          ],
          "scatterternary": [
           {
            "marker": {
             "colorbar": {
              "outlinewidth": 0,
              "ticks": ""
             }
            },
            "type": "scatterternary"
           }
          ],
          "surface": [
           {
            "colorbar": {
             "outlinewidth": 0,
             "ticks": ""
            },
            "colorscale": [
             [
              0,
              "#0d0887"
             ],
             [
              0.1111111111111111,
              "#46039f"
             ],
             [
              0.2222222222222222,
              "#7201a8"
             ],
             [
              0.3333333333333333,
              "#9c179e"
             ],
             [
              0.4444444444444444,
              "#bd3786"
             ],
             [
              0.5555555555555556,
              "#d8576b"
             ],
             [
              0.6666666666666666,
              "#ed7953"
             ],
             [
              0.7777777777777778,
              "#fb9f3a"
             ],
             [
              0.8888888888888888,
              "#fdca26"
             ],
             [
              1,
              "#f0f921"
             ]
            ],
            "type": "surface"
           }
          ],
          "table": [
           {
            "cells": {
             "fill": {
              "color": "#EBF0F8"
             },
             "line": {
              "color": "white"
             }
            },
            "header": {
             "fill": {
              "color": "#C8D4E3"
             },
             "line": {
              "color": "white"
             }
            },
            "type": "table"
           }
          ]
         },
         "layout": {
          "annotationdefaults": {
           "arrowcolor": "#2a3f5f",
           "arrowhead": 0,
           "arrowwidth": 1
          },
          "autotypenumbers": "strict",
          "coloraxis": {
           "colorbar": {
            "outlinewidth": 0,
            "ticks": ""
           }
          },
          "colorscale": {
           "diverging": [
            [
             0,
             "#8e0152"
            ],
            [
             0.1,
             "#c51b7d"
            ],
            [
             0.2,
             "#de77ae"
            ],
            [
             0.3,
             "#f1b6da"
            ],
            [
             0.4,
             "#fde0ef"
            ],
            [
             0.5,
             "#f7f7f7"
            ],
            [
             0.6,
             "#e6f5d0"
            ],
            [
             0.7,
             "#b8e186"
            ],
            [
             0.8,
             "#7fbc41"
            ],
            [
             0.9,
             "#4d9221"
            ],
            [
             1,
             "#276419"
            ]
           ],
           "sequential": [
            [
             0,
             "#0d0887"
            ],
            [
             0.1111111111111111,
             "#46039f"
            ],
            [
             0.2222222222222222,
             "#7201a8"
            ],
            [
             0.3333333333333333,
             "#9c179e"
            ],
            [
             0.4444444444444444,
             "#bd3786"
            ],
            [
             0.5555555555555556,
             "#d8576b"
            ],
            [
             0.6666666666666666,
             "#ed7953"
            ],
            [
             0.7777777777777778,
             "#fb9f3a"
            ],
            [
             0.8888888888888888,
             "#fdca26"
            ],
            [
             1,
             "#f0f921"
            ]
           ],
           "sequentialminus": [
            [
             0,
             "#0d0887"
            ],
            [
             0.1111111111111111,
             "#46039f"
            ],
            [
             0.2222222222222222,
             "#7201a8"
            ],
            [
             0.3333333333333333,
             "#9c179e"
            ],
            [
             0.4444444444444444,
             "#bd3786"
            ],
            [
             0.5555555555555556,
             "#d8576b"
            ],
            [
             0.6666666666666666,
             "#ed7953"
            ],
            [
             0.7777777777777778,
             "#fb9f3a"
            ],
            [
             0.8888888888888888,
             "#fdca26"
            ],
            [
             1,
             "#f0f921"
            ]
           ]
          },
          "colorway": [
           "#636efa",
           "#EF553B",
           "#00cc96",
           "#ab63fa",
           "#FFA15A",
           "#19d3f3",
           "#FF6692",
           "#B6E880",
           "#FF97FF",
           "#FECB52"
          ],
          "font": {
           "color": "#2a3f5f"
          },
          "geo": {
           "bgcolor": "white",
           "lakecolor": "white",
           "landcolor": "#E5ECF6",
           "showlakes": true,
           "showland": true,
           "subunitcolor": "white"
          },
          "hoverlabel": {
           "align": "left"
          },
          "hovermode": "closest",
          "mapbox": {
           "style": "light"
          },
          "paper_bgcolor": "white",
          "plot_bgcolor": "#E5ECF6",
          "polar": {
           "angularaxis": {
            "gridcolor": "white",
            "linecolor": "white",
            "ticks": ""
           },
           "bgcolor": "#E5ECF6",
           "radialaxis": {
            "gridcolor": "white",
            "linecolor": "white",
            "ticks": ""
           }
          },
          "scene": {
           "xaxis": {
            "backgroundcolor": "#E5ECF6",
            "gridcolor": "white",
            "gridwidth": 2,
            "linecolor": "white",
            "showbackground": true,
            "ticks": "",
            "zerolinecolor": "white"
           },
           "yaxis": {
            "backgroundcolor": "#E5ECF6",
            "gridcolor": "white",
            "gridwidth": 2,
            "linecolor": "white",
            "showbackground": true,
            "ticks": "",
            "zerolinecolor": "white"
           },
           "zaxis": {
            "backgroundcolor": "#E5ECF6",
            "gridcolor": "white",
            "gridwidth": 2,
            "linecolor": "white",
            "showbackground": true,
            "ticks": "",
            "zerolinecolor": "white"
           }
          },
          "shapedefaults": {
           "line": {
            "color": "#2a3f5f"
           }
          },
          "ternary": {
           "aaxis": {
            "gridcolor": "white",
            "linecolor": "white",
            "ticks": ""
           },
           "baxis": {
            "gridcolor": "white",
            "linecolor": "white",
            "ticks": ""
           },
           "bgcolor": "#E5ECF6",
           "caxis": {
            "gridcolor": "white",
            "linecolor": "white",
            "ticks": ""
           }
          },
          "title": {
           "x": 0.05
          },
          "xaxis": {
           "automargin": true,
           "gridcolor": "white",
           "linecolor": "white",
           "ticks": "",
           "title": {
            "standoff": 15
           },
           "zerolinecolor": "white",
           "zerolinewidth": 2
          },
          "yaxis": {
           "automargin": true,
           "gridcolor": "white",
           "linecolor": "white",
           "ticks": "",
           "title": {
            "standoff": 15
           },
           "zerolinecolor": "white",
           "zerolinewidth": 2
          }
         }
        },
        "title": {
         "text": "Inbound Tweets for Each Company"
        },
        "xaxis": {
         "anchor": "y",
         "domain": [
          0,
          1
         ],
         "title": {
          "text": "index"
         }
        },
        "yaxis": {
         "anchor": "x",
         "domain": [
          0,
          1
         ],
         "title": {
          "text": "count"
         }
        }
       }
      },
      "text/html": [
       "<div>                            <div id=\"295d8a3b-27c8-4f55-b7c2-baa48924ab26\" class=\"plotly-graph-div\" style=\"height:525px; width:100%;\"></div>            <script type=\"text/javascript\">                require([\"plotly\"], function(Plotly) {                    window.PLOTLYENV=window.PLOTLYENV || {};                                    if (document.getElementById(\"295d8a3b-27c8-4f55-b7c2-baa48924ab26\")) {                    Plotly.newPlot(                        \"295d8a3b-27c8-4f55-b7c2-baa48924ab26\",                        [{\"alignmentgroup\":\"True\",\"hovertemplate\":\"author_id=AmericanAir<br>index=%{x}<br>count=%{y}<extra></extra>\",\"legendgroup\":\"AmericanAir\",\"marker\":{\"color\":\"#636efa\",\"pattern\":{\"shape\":\"\"}},\"name\":\"AmericanAir\",\"offsetgroup\":\"AmericanAir\",\"orientation\":\"v\",\"showlegend\":true,\"textposition\":\"auto\",\"x\":[0],\"xaxis\":\"x\",\"y\":[36764],\"yaxis\":\"y\",\"type\":\"bar\"},{\"alignmentgroup\":\"True\",\"hovertemplate\":\"author_id=Delta<br>index=%{x}<br>count=%{y}<extra></extra>\",\"legendgroup\":\"Delta\",\"marker\":{\"color\":\"#EF553B\",\"pattern\":{\"shape\":\"\"}},\"name\":\"Delta\",\"offsetgroup\":\"Delta\",\"orientation\":\"v\",\"showlegend\":true,\"textposition\":\"auto\",\"x\":[1],\"xaxis\":\"x\",\"y\":[42253],\"yaxis\":\"y\",\"type\":\"bar\"}],                        {\"template\":{\"data\":{\"histogram2dcontour\":[{\"type\":\"histogram2dcontour\",\"colorbar\":{\"outlinewidth\":0,\"ticks\":\"\"},\"colorscale\":[[0.0,\"#0d0887\"],[0.1111111111111111,\"#46039f\"],[0.2222222222222222,\"#7201a8\"],[0.3333333333333333,\"#9c179e\"],[0.4444444444444444,\"#bd3786\"],[0.5555555555555556,\"#d8576b\"],[0.6666666666666666,\"#ed7953\"],[0.7777777777777778,\"#fb9f3a\"],[0.8888888888888888,\"#fdca26\"],[1.0,\"#f0f921\"]]}],\"choropleth\":[{\"type\":\"choropleth\",\"colorbar\":{\"outlinewidth\":0,\"ticks\":\"\"}}],\"histogram2d\":[{\"type\":\"histogram2d\",\"colorbar\":{\"outlinewidth\":0,\"ticks\":\"\"},\"colorscale\":[[0.0,\"#0d0887\"],[0.1111111111111111,\"#46039f\"],[0.2222222222222222,\"#7201a8\"],[0.3333333333333333,\"#9c179e\"],[0.4444444444444444,\"#bd3786\"],[0.5555555555555556,\"#d8576b\"],[0.6666666666666666,\"#ed7953\"],[0.7777777777777778,\"#fb9f3a\"],[0.8888888888888888,\"#fdca26\"],[1.0,\"#f0f921\"]]}],\"heatmap\":[{\"type\":\"heatmap\",\"colorbar\":{\"outlinewidth\":0,\"ticks\":\"\"},\"colorscale\":[[0.0,\"#0d0887\"],[0.1111111111111111,\"#46039f\"],[0.2222222222222222,\"#7201a8\"],[0.3333333333333333,\"#9c179e\"],[0.4444444444444444,\"#bd3786\"],[0.5555555555555556,\"#d8576b\"],[0.6666666666666666,\"#ed7953\"],[0.7777777777777778,\"#fb9f3a\"],[0.8888888888888888,\"#fdca26\"],[1.0,\"#f0f921\"]]}],\"heatmapgl\":[{\"type\":\"heatmapgl\",\"colorbar\":{\"outlinewidth\":0,\"ticks\":\"\"},\"colorscale\":[[0.0,\"#0d0887\"],[0.1111111111111111,\"#46039f\"],[0.2222222222222222,\"#7201a8\"],[0.3333333333333333,\"#9c179e\"],[0.4444444444444444,\"#bd3786\"],[0.5555555555555556,\"#d8576b\"],[0.6666666666666666,\"#ed7953\"],[0.7777777777777778,\"#fb9f3a\"],[0.8888888888888888,\"#fdca26\"],[1.0,\"#f0f921\"]]}],\"contourcarpet\":[{\"type\":\"contourcarpet\",\"colorbar\":{\"outlinewidth\":0,\"ticks\":\"\"}}],\"contour\":[{\"type\":\"contour\",\"colorbar\":{\"outlinewidth\":0,\"ticks\":\"\"},\"colorscale\":[[0.0,\"#0d0887\"],[0.1111111111111111,\"#46039f\"],[0.2222222222222222,\"#7201a8\"],[0.3333333333333333,\"#9c179e\"],[0.4444444444444444,\"#bd3786\"],[0.5555555555555556,\"#d8576b\"],[0.6666666666666666,\"#ed7953\"],[0.7777777777777778,\"#fb9f3a\"],[0.8888888888888888,\"#fdca26\"],[1.0,\"#f0f921\"]]}],\"surface\":[{\"type\":\"surface\",\"colorbar\":{\"outlinewidth\":0,\"ticks\":\"\"},\"colorscale\":[[0.0,\"#0d0887\"],[0.1111111111111111,\"#46039f\"],[0.2222222222222222,\"#7201a8\"],[0.3333333333333333,\"#9c179e\"],[0.4444444444444444,\"#bd3786\"],[0.5555555555555556,\"#d8576b\"],[0.6666666666666666,\"#ed7953\"],[0.7777777777777778,\"#fb9f3a\"],[0.8888888888888888,\"#fdca26\"],[1.0,\"#f0f921\"]]}],\"mesh3d\":[{\"type\":\"mesh3d\",\"colorbar\":{\"outlinewidth\":0,\"ticks\":\"\"}}],\"scatter\":[{\"fillpattern\":{\"fillmode\":\"overlay\",\"size\":10,\"solidity\":0.2},\"type\":\"scatter\"}],\"parcoords\":[{\"type\":\"parcoords\",\"line\":{\"colorbar\":{\"outlinewidth\":0,\"ticks\":\"\"}}}],\"scatterpolargl\":[{\"type\":\"scatterpolargl\",\"marker\":{\"colorbar\":{\"outlinewidth\":0,\"ticks\":\"\"}}}],\"bar\":[{\"error_x\":{\"color\":\"#2a3f5f\"},\"error_y\":{\"color\":\"#2a3f5f\"},\"marker\":{\"line\":{\"color\":\"#E5ECF6\",\"width\":0.5},\"pattern\":{\"fillmode\":\"overlay\",\"size\":10,\"solidity\":0.2}},\"type\":\"bar\"}],\"scattergeo\":[{\"type\":\"scattergeo\",\"marker\":{\"colorbar\":{\"outlinewidth\":0,\"ticks\":\"\"}}}],\"scatterpolar\":[{\"type\":\"scatterpolar\",\"marker\":{\"colorbar\":{\"outlinewidth\":0,\"ticks\":\"\"}}}],\"histogram\":[{\"marker\":{\"pattern\":{\"fillmode\":\"overlay\",\"size\":10,\"solidity\":0.2}},\"type\":\"histogram\"}],\"scattergl\":[{\"type\":\"scattergl\",\"marker\":{\"colorbar\":{\"outlinewidth\":0,\"ticks\":\"\"}}}],\"scatter3d\":[{\"type\":\"scatter3d\",\"line\":{\"colorbar\":{\"outlinewidth\":0,\"ticks\":\"\"}},\"marker\":{\"colorbar\":{\"outlinewidth\":0,\"ticks\":\"\"}}}],\"scattermapbox\":[{\"type\":\"scattermapbox\",\"marker\":{\"colorbar\":{\"outlinewidth\":0,\"ticks\":\"\"}}}],\"scatterternary\":[{\"type\":\"scatterternary\",\"marker\":{\"colorbar\":{\"outlinewidth\":0,\"ticks\":\"\"}}}],\"scattercarpet\":[{\"type\":\"scattercarpet\",\"marker\":{\"colorbar\":{\"outlinewidth\":0,\"ticks\":\"\"}}}],\"carpet\":[{\"aaxis\":{\"endlinecolor\":\"#2a3f5f\",\"gridcolor\":\"white\",\"linecolor\":\"white\",\"minorgridcolor\":\"white\",\"startlinecolor\":\"#2a3f5f\"},\"baxis\":{\"endlinecolor\":\"#2a3f5f\",\"gridcolor\":\"white\",\"linecolor\":\"white\",\"minorgridcolor\":\"white\",\"startlinecolor\":\"#2a3f5f\"},\"type\":\"carpet\"}],\"table\":[{\"cells\":{\"fill\":{\"color\":\"#EBF0F8\"},\"line\":{\"color\":\"white\"}},\"header\":{\"fill\":{\"color\":\"#C8D4E3\"},\"line\":{\"color\":\"white\"}},\"type\":\"table\"}],\"barpolar\":[{\"marker\":{\"line\":{\"color\":\"#E5ECF6\",\"width\":0.5},\"pattern\":{\"fillmode\":\"overlay\",\"size\":10,\"solidity\":0.2}},\"type\":\"barpolar\"}],\"pie\":[{\"automargin\":true,\"type\":\"pie\"}]},\"layout\":{\"autotypenumbers\":\"strict\",\"colorway\":[\"#636efa\",\"#EF553B\",\"#00cc96\",\"#ab63fa\",\"#FFA15A\",\"#19d3f3\",\"#FF6692\",\"#B6E880\",\"#FF97FF\",\"#FECB52\"],\"font\":{\"color\":\"#2a3f5f\"},\"hovermode\":\"closest\",\"hoverlabel\":{\"align\":\"left\"},\"paper_bgcolor\":\"white\",\"plot_bgcolor\":\"#E5ECF6\",\"polar\":{\"bgcolor\":\"#E5ECF6\",\"angularaxis\":{\"gridcolor\":\"white\",\"linecolor\":\"white\",\"ticks\":\"\"},\"radialaxis\":{\"gridcolor\":\"white\",\"linecolor\":\"white\",\"ticks\":\"\"}},\"ternary\":{\"bgcolor\":\"#E5ECF6\",\"aaxis\":{\"gridcolor\":\"white\",\"linecolor\":\"white\",\"ticks\":\"\"},\"baxis\":{\"gridcolor\":\"white\",\"linecolor\":\"white\",\"ticks\":\"\"},\"caxis\":{\"gridcolor\":\"white\",\"linecolor\":\"white\",\"ticks\":\"\"}},\"coloraxis\":{\"colorbar\":{\"outlinewidth\":0,\"ticks\":\"\"}},\"colorscale\":{\"sequential\":[[0.0,\"#0d0887\"],[0.1111111111111111,\"#46039f\"],[0.2222222222222222,\"#7201a8\"],[0.3333333333333333,\"#9c179e\"],[0.4444444444444444,\"#bd3786\"],[0.5555555555555556,\"#d8576b\"],[0.6666666666666666,\"#ed7953\"],[0.7777777777777778,\"#fb9f3a\"],[0.8888888888888888,\"#fdca26\"],[1.0,\"#f0f921\"]],\"sequentialminus\":[[0.0,\"#0d0887\"],[0.1111111111111111,\"#46039f\"],[0.2222222222222222,\"#7201a8\"],[0.3333333333333333,\"#9c179e\"],[0.4444444444444444,\"#bd3786\"],[0.5555555555555556,\"#d8576b\"],[0.6666666666666666,\"#ed7953\"],[0.7777777777777778,\"#fb9f3a\"],[0.8888888888888888,\"#fdca26\"],[1.0,\"#f0f921\"]],\"diverging\":[[0,\"#8e0152\"],[0.1,\"#c51b7d\"],[0.2,\"#de77ae\"],[0.3,\"#f1b6da\"],[0.4,\"#fde0ef\"],[0.5,\"#f7f7f7\"],[0.6,\"#e6f5d0\"],[0.7,\"#b8e186\"],[0.8,\"#7fbc41\"],[0.9,\"#4d9221\"],[1,\"#276419\"]]},\"xaxis\":{\"gridcolor\":\"white\",\"linecolor\":\"white\",\"ticks\":\"\",\"title\":{\"standoff\":15},\"zerolinecolor\":\"white\",\"automargin\":true,\"zerolinewidth\":2},\"yaxis\":{\"gridcolor\":\"white\",\"linecolor\":\"white\",\"ticks\":\"\",\"title\":{\"standoff\":15},\"zerolinecolor\":\"white\",\"automargin\":true,\"zerolinewidth\":2},\"scene\":{\"xaxis\":{\"backgroundcolor\":\"#E5ECF6\",\"gridcolor\":\"white\",\"linecolor\":\"white\",\"showbackground\":true,\"ticks\":\"\",\"zerolinecolor\":\"white\",\"gridwidth\":2},\"yaxis\":{\"backgroundcolor\":\"#E5ECF6\",\"gridcolor\":\"white\",\"linecolor\":\"white\",\"showbackground\":true,\"ticks\":\"\",\"zerolinecolor\":\"white\",\"gridwidth\":2},\"zaxis\":{\"backgroundcolor\":\"#E5ECF6\",\"gridcolor\":\"white\",\"linecolor\":\"white\",\"showbackground\":true,\"ticks\":\"\",\"zerolinecolor\":\"white\",\"gridwidth\":2}},\"shapedefaults\":{\"line\":{\"color\":\"#2a3f5f\"}},\"annotationdefaults\":{\"arrowcolor\":\"#2a3f5f\",\"arrowhead\":0,\"arrowwidth\":1},\"geo\":{\"bgcolor\":\"white\",\"landcolor\":\"#E5ECF6\",\"subunitcolor\":\"white\",\"showland\":true,\"showlakes\":true,\"lakecolor\":\"white\"},\"title\":{\"x\":0.05},\"mapbox\":{\"style\":\"light\"}}},\"xaxis\":{\"anchor\":\"y\",\"domain\":[0.0,1.0],\"title\":{\"text\":\"index\"}},\"yaxis\":{\"anchor\":\"x\",\"domain\":[0.0,1.0],\"title\":{\"text\":\"count\"}},\"legend\":{\"title\":{\"text\":\"author_id\"},\"tracegroupgap\":0},\"title\":{\"text\":\"Inbound Tweets for Each Company\"},\"barmode\":\"relative\"},                        {\"responsive\": true}                    ).then(function(){\n",
       "                            \n",
       "var gd = document.getElementById('295d8a3b-27c8-4f55-b7c2-baa48924ab26');\n",
       "var x = new MutationObserver(function (mutations, observer) {{\n",
       "        var display = window.getComputedStyle(gd).display;\n",
       "        if (!display || display === 'none') {{\n",
       "            console.log([gd, 'removed!']);\n",
       "            Plotly.purge(gd);\n",
       "            observer.disconnect();\n",
       "        }}\n",
       "}});\n",
       "\n",
       "// Listen for the removal of the full notebook cells\n",
       "var notebookContainer = gd.closest('#notebook-container');\n",
       "if (notebookContainer) {{\n",
       "    x.observe(notebookContainer, {childList: true});\n",
       "}}\n",
       "\n",
       "// Listen for the clearing of the current output cell\n",
       "var outputEl = gd.closest('.output');\n",
       "if (outputEl) {{\n",
       "    x.observe(outputEl, {childList: true});\n",
       "}}\n",
       "\n",
       "                        })                };                });            </script>        </div>"
      ]
     },
     "metadata": {},
     "output_type": "display_data"
    }
   ],
   "source": [
    "fig = px.bar(grouped_data, x=grouped_data.index, y='count', color='author_id', title='Inbound Tweets for Each Company')\n",
    "fig.show()"
   ]
  },
  {
   "cell_type": "code",
   "execution_count": 135,
   "id": "6005428a",
   "metadata": {},
   "outputs": [
    {
     "data": {
      "text/html": [
       "<div>\n",
       "<style scoped>\n",
       "    .dataframe tbody tr th:only-of-type {\n",
       "        vertical-align: middle;\n",
       "    }\n",
       "\n",
       "    .dataframe tbody tr th {\n",
       "        vertical-align: top;\n",
       "    }\n",
       "\n",
       "    .dataframe thead th {\n",
       "        text-align: right;\n",
       "    }\n",
       "</style>\n",
       "<table border=\"1\" class=\"dataframe\">\n",
       "  <thead>\n",
       "    <tr style=\"text-align: right;\">\n",
       "      <th></th>\n",
       "      <th>tweet_id</th>\n",
       "      <th>author_id</th>\n",
       "      <th>inbound</th>\n",
       "      <th>created_at</th>\n",
       "      <th>text</th>\n",
       "      <th>response_tweet_id</th>\n",
       "      <th>in_response_to_tweet_id</th>\n",
       "    </tr>\n",
       "  </thead>\n",
       "  <tbody>\n",
       "    <tr>\n",
       "      <th>315</th>\n",
       "      <td>609</td>\n",
       "      <td>Delta</td>\n",
       "      <td>False</td>\n",
       "      <td>Sat Aug 06 01:44:03 +0000 2016</td>\n",
       "      <td>@115818 Glad to check. Pls, DM your confirmati...</td>\n",
       "      <td>610.0</td>\n",
       "      <td>611.0</td>\n",
       "    </tr>\n",
       "    <tr>\n",
       "      <th>484</th>\n",
       "      <td>790</td>\n",
       "      <td>Delta</td>\n",
       "      <td>False</td>\n",
       "      <td>Tue Oct 31 22:27:38 +0000 2017</td>\n",
       "      <td>@115882 I'm sorry. The earlier flight may not ...</td>\n",
       "      <td>791.0</td>\n",
       "      <td>792.0</td>\n",
       "    </tr>\n",
       "    <tr>\n",
       "      <th>486</th>\n",
       "      <td>793</td>\n",
       "      <td>Delta</td>\n",
       "      <td>False</td>\n",
       "      <td>Tue Oct 31 22:52:37 +0000 2017</td>\n",
       "      <td>@115882 My apologies. If that flight never sho...</td>\n",
       "      <td>-1.0</td>\n",
       "      <td>791.0</td>\n",
       "    </tr>\n",
       "    <tr>\n",
       "      <th>488</th>\n",
       "      <td>794</td>\n",
       "      <td>Delta</td>\n",
       "      <td>False</td>\n",
       "      <td>Tue Oct 31 22:25:31 +0000 2017</td>\n",
       "      <td>@115883 Please share additional details about ...</td>\n",
       "      <td>795.0</td>\n",
       "      <td>796.0</td>\n",
       "    </tr>\n",
       "    <tr>\n",
       "      <th>490</th>\n",
       "      <td>797</td>\n",
       "      <td>Delta</td>\n",
       "      <td>False</td>\n",
       "      <td>Tue Oct 31 23:07:41 +0000 2017</td>\n",
       "      <td>@115883 Please do.  *AFC https://t.co/6iDGBJAc2m</td>\n",
       "      <td>798.0</td>\n",
       "      <td>795.0</td>\n",
       "    </tr>\n",
       "    <tr>\n",
       "      <th>493</th>\n",
       "      <td>799</td>\n",
       "      <td>Delta</td>\n",
       "      <td>False</td>\n",
       "      <td>Sun Oct 29 16:56:47 +0000 2017</td>\n",
       "      <td>@115883 I sincerely apologize, our IT team is ...</td>\n",
       "      <td>NaN</td>\n",
       "      <td>801.0</td>\n",
       "    </tr>\n",
       "    <tr>\n",
       "      <th>495</th>\n",
       "      <td>802</td>\n",
       "      <td>Delta</td>\n",
       "      <td>False</td>\n",
       "      <td>Tue Oct 31 22:23:07 +0000 2017</td>\n",
       "      <td>@115884 Oh, no! Please speak to a member of th...</td>\n",
       "      <td>-1.0</td>\n",
       "      <td>803.0</td>\n",
       "    </tr>\n",
       "    <tr>\n",
       "      <th>497</th>\n",
       "      <td>804</td>\n",
       "      <td>Delta</td>\n",
       "      <td>False</td>\n",
       "      <td>Tue Oct 31 22:22:01 +0000 2017</td>\n",
       "      <td>@115885 2/2 https://t.co/6iDGBJAc2m</td>\n",
       "      <td>NaN</td>\n",
       "      <td>807.0</td>\n",
       "    </tr>\n",
       "    <tr>\n",
       "      <th>501</th>\n",
       "      <td>809</td>\n",
       "      <td>Delta</td>\n",
       "      <td>False</td>\n",
       "      <td>Tue Oct 31 19:21:13 +0000 2017</td>\n",
       "      <td>@115885 Hello, Richard! Please DM your confirm...</td>\n",
       "      <td>807.0</td>\n",
       "      <td>810.0</td>\n",
       "    </tr>\n",
       "    <tr>\n",
       "      <th>504</th>\n",
       "      <td>813</td>\n",
       "      <td>Delta</td>\n",
       "      <td>False</td>\n",
       "      <td>Tue Oct 31 18:42:21 +0000 2017</td>\n",
       "      <td>@115885 Hi, Richard. Can you pls DM your confi...</td>\n",
       "      <td>811.0</td>\n",
       "      <td>814.0</td>\n",
       "    </tr>\n",
       "  </tbody>\n",
       "</table>\n",
       "</div>"
      ],
      "text/plain": [
       "     tweet_id author_id  inbound                      created_at  \\\n",
       "315       609     Delta    False  Sat Aug 06 01:44:03 +0000 2016   \n",
       "484       790     Delta    False  Tue Oct 31 22:27:38 +0000 2017   \n",
       "486       793     Delta    False  Tue Oct 31 22:52:37 +0000 2017   \n",
       "488       794     Delta    False  Tue Oct 31 22:25:31 +0000 2017   \n",
       "490       797     Delta    False  Tue Oct 31 23:07:41 +0000 2017   \n",
       "493       799     Delta    False  Sun Oct 29 16:56:47 +0000 2017   \n",
       "495       802     Delta    False  Tue Oct 31 22:23:07 +0000 2017   \n",
       "497       804     Delta    False  Tue Oct 31 22:22:01 +0000 2017   \n",
       "501       809     Delta    False  Tue Oct 31 19:21:13 +0000 2017   \n",
       "504       813     Delta    False  Tue Oct 31 18:42:21 +0000 2017   \n",
       "\n",
       "                                                  text  response_tweet_id  \\\n",
       "315  @115818 Glad to check. Pls, DM your confirmati...              610.0   \n",
       "484  @115882 I'm sorry. The earlier flight may not ...              791.0   \n",
       "486  @115882 My apologies. If that flight never sho...               -1.0   \n",
       "488  @115883 Please share additional details about ...              795.0   \n",
       "490   @115883 Please do.  *AFC https://t.co/6iDGBJAc2m              798.0   \n",
       "493  @115883 I sincerely apologize, our IT team is ...                NaN   \n",
       "495  @115884 Oh, no! Please speak to a member of th...               -1.0   \n",
       "497                @115885 2/2 https://t.co/6iDGBJAc2m                NaN   \n",
       "501  @115885 Hello, Richard! Please DM your confirm...              807.0   \n",
       "504  @115885 Hi, Richard. Can you pls DM your confi...              811.0   \n",
       "\n",
       "     in_response_to_tweet_id  \n",
       "315                    611.0  \n",
       "484                    792.0  \n",
       "486                    791.0  \n",
       "488                    796.0  \n",
       "490                    795.0  \n",
       "493                    801.0  \n",
       "495                    803.0  \n",
       "497                    807.0  \n",
       "501                    810.0  \n",
       "504                    814.0  "
      ]
     },
     "execution_count": 135,
     "metadata": {},
     "output_type": "execute_result"
    }
   ],
   "source": [
    "# Convert 'response_tweet_id' and 'in_response_to_tweet_id' to numeric \n",
    "filtered_data['response_tweet_id'] = pd.to_numeric(filtered_data['response_tweet_id'], errors='coerce')\n",
    "filtered_data['in_response_to_tweet_id'] = pd.to_numeric(filtered_data['in_response_to_tweet_id'], errors='coerce')\n",
    "filtered_data.head(10)"
   ]
  },
  {
   "cell_type": "code",
   "execution_count": 136,
   "id": "8bd0af07",
   "metadata": {},
   "outputs": [],
   "source": [
    "# Calculate response time in filtered data\n",
    "filtered_data['response_time'] = filtered_data['response_tweet_id'] - filtered_data['in_response_to_tweet_id']"
   ]
  },
  {
   "cell_type": "code",
   "execution_count": 137,
   "id": "9f3b4d24",
   "metadata": {},
   "outputs": [],
   "source": [
    "# Calculate average response time for each airline\n",
    "average_response_time = filtered_data.groupby('author_id')['response_time'].mean()"
   ]
  },
  {
   "cell_type": "markdown",
   "id": "e412d29a",
   "metadata": {},
   "source": [
    "#### Statistical Predicitions / Modeling"
   ]
  },
  {
   "cell_type": "code",
   "execution_count": 138,
   "id": "c0db84fe",
   "metadata": {},
   "outputs": [
    {
     "name": "stdout",
     "output_type": "stream",
     "text": [
      "author_id\n",
      "AmericanAir   -9.832385e+05\n",
      "Delta         -1.069096e+06\n",
      "Name: response_time, dtype: float64\n"
     ]
    }
   ],
   "source": [
    "correlation = filtered_data.corr(numeric_only=True)\n",
    "\n",
    "filtered_data['response_time'] = filtered_data['response_tweet_id'] - filtered_data['in_response_to_tweet_id']\n",
    "\n",
    "average_response_time = filtered_data.groupby('author_id')['response_time'].mean()\n",
    "\n",
    "print(average_response_time)"
   ]
  },
  {
   "cell_type": "markdown",
   "id": "ae3d145d",
   "metadata": {},
   "source": [
    "##### Convert to positive numbers for better analysis"
   ]
  },
  {
   "cell_type": "code",
   "execution_count": 139,
   "id": "c5b940e3",
   "metadata": {},
   "outputs": [
    {
     "name": "stdout",
     "output_type": "stream",
     "text": [
      "author_id\n",
      "AmericanAir    9.832385e+05\n",
      "Delta          1.069096e+06\n",
      "Name: response_time, dtype: float64\n"
     ]
    }
   ],
   "source": [
    "filtered_data['response_time'] = filtered_data['response_tweet_id'] - filtered_data['in_response_to_tweet_id']\n",
    "\n",
    "average_response_time = filtered_data.groupby('author_id')['response_time'].mean().abs()\n",
    "\n",
    "print(average_response_time)"
   ]
  },
  {
   "cell_type": "markdown",
   "id": "f7cfb8bd",
   "metadata": {},
   "source": [
    "#### What company has the slowest and fastest response time?"
   ]
  },
  {
   "cell_type": "code",
   "execution_count": 145,
   "id": "da44e325",
   "metadata": {},
   "outputs": [
    {
     "data": {
      "image/png": "[encoded data removed]",
      "text/plain": [
       "<Figure size 800x600 with 1 Axes>"
      ]
     },
     "metadata": {},
     "output_type": "display_data"
    }
   ],
   "source": [
    "# Visualize the data\n",
    "plt.figure(figsize=(8, 6))\n",
    "colors = ['red', 'blue'] \n",
    "average_response_time.plot(kind='bar', color=colors, edgecolor='black') \n",
    "plt.title('Average Response Time for American Airlines and Delta')\n",
    "plt.xlabel('Airline')\n",
    "plt.ylabel('Average Response Time')\n",
    "plt.xticks(range(len(average_response_time.index)), average_response_time.index, rotation=0)\n",
    "plt.show()"
   ]
  },
  {
   "cell_type": "markdown",
   "id": "61600688",
   "metadata": {},
   "source": [
    "#### Now let's compare the total inbound tweets and the repsonse time of both companies"
   ]
  },
  {
   "cell_type": "markdown",
   "id": "106e2d74",
   "metadata": {},
   "source": [
    "#### American Airlines"
   ]
  },
  {
   "cell_type": "code",
   "execution_count": 146,
   "id": "35dd51c2",
   "metadata": {},
   "outputs": [
    {
     "name": "stdout",
     "output_type": "stream",
     "text": [
      "Final Response Time for American Airline: 36147780214.0 milliseconds\n"
     ]
    }
   ],
   "source": [
    "average_response_time_american = 9.832385e+05\n",
    "inbound_tweet_count_american = 36764 \n",
    "final_response_time_american = inbound_tweet_count_american * average_response_time_american\n",
    "print(f\"Final Response Time for American Airline: {final_response_time_american} milliseconds\")"
   ]
  },
  {
   "cell_type": "code",
   "execution_count": 147,
   "id": "f832bf9d",
   "metadata": {},
   "outputs": [
    {
     "data": {
      "image/png": "[encoded data removed]",
      "text/plain": [
       "<Figure size 1000x700 with 1 Axes>"
      ]
     },
     "metadata": {},
     "output_type": "display_data"
    }
   ],
   "source": [
    "categories = ['Average Response Time', 'Total Inbound Tweets', 'Final Response Time']\n",
    "values = [average_response_time_american, inbound_tweet_count_american, final_response_time_american]\n",
    "\n",
    "plt.figure(figsize=(10, 7))\n",
    "plt.bar(categories, values, color=['skyblue', 'plum', 'aquamarine'],edgecolor='black')\n",
    "\n",
    "for i, v in enumerate(values):\n",
    "    plt.text(i, v + 0.2 * v, f\"{v:.0f}\", ha='center', va='bottom', fontsize=10)\n",
    "\n",
    "plt.ylabel('Values (Log Scale)')\n",
    "plt.yscale('log') \n",
    "plt.title('Final Response Time Analysis for American Airline')\n",
    "plt.show()\n"
   ]
  },
  {
   "cell_type": "markdown",
   "id": "04ec44d3",
   "metadata": {},
   "source": [
    "#### Delta Airlines"
   ]
  },
  {
   "cell_type": "code",
   "execution_count": 148,
   "id": "7f9d462f",
   "metadata": {},
   "outputs": [
    {
     "name": "stdout",
     "output_type": "stream",
     "text": [
      "Final Response Time for Delta Airlines: 45172513288.0 milliseconds\n"
     ]
    }
   ],
   "source": [
    "average_response_time_delta = 1.069096e+06\n",
    "inbound_tweet_count_delta = 42253\n",
    "final_response_time_delta = inbound_tweet_count_delta * average_response_time_delta\n",
    "print(f\"Final Response Time for Delta Airlines: {final_response_time_delta} milliseconds\")"
   ]
  },
  {
   "cell_type": "code",
   "execution_count": 149,
   "id": "36959c05",
   "metadata": {},
   "outputs": [
    {
     "data": {
      "image/png": "[encoded data removed]",
      "text/plain": [
       "<Figure size 1000x700 with 1 Axes>"
      ]
     },
     "metadata": {},
     "output_type": "display_data"
    }
   ],
   "source": [
    "categories = ['Average Response Time', 'Total Inbound Tweets', 'Final Response Time']\n",
    "values = [average_response_time_delta, inbound_tweet_count_delta, final_response_time_delta]\n",
    "\n",
    "plt.figure(figsize=(10, 7))\n",
    "plt.bar(categories, values, color=['mediumpurple', 'cornflowerblue', 'greenyellow'],edgecolor='black')\n",
    "\n",
    "for i, v in enumerate(values):\n",
    "    plt.text(i, v + 0.2 * v, f\"{v:.0f}\", ha='center', va='bottom', fontsize=10)\n",
    "\n",
    "plt.ylabel('Values (Log Scale)')\n",
    "plt.yscale('log') \n",
    "plt.title('Final Response Time Analysis for Delta Airline')\n",
    "plt.show()\n"
   ]
  },
  {
   "cell_type": "markdown",
   "id": "962ab4d7",
   "metadata": {},
   "source": [
    "#### Comparing final response times of American Airline and Delta Airline"
   ]
  },
  {
   "cell_type": "markdown",
   "id": "dd790b70",
   "metadata": {},
   "source": [
    "#### What company has a faster final response time?"
   ]
  },
  {
   "cell_type": "code",
   "execution_count": 150,
   "id": "0fef33bf",
   "metadata": {},
   "outputs": [
    {
     "data": {
      "image/png": "[encoded data removed]",
      "text/plain": [
       "<Figure size 800x600 with 1 Axes>"
      ]
     },
     "metadata": {},
     "output_type": "display_data"
    }
   ],
   "source": [
    "categories = ['American Airline', 'Delta Airline']\n",
    "values = [final_response_time_american, final_response_time_delta]\n",
    "\n",
    "plt.figure(figsize=(8, 6))\n",
    "plt.bar(categories, values, color=['palegreen','aquamarine'],edgecolor='black')\n",
    "\n",
    "for i, v in enumerate(values):\n",
    "    plt.text(i, v + 0 * v, f\"{v:.0f}\", ha='center', va='bottom', fontsize=10)\n",
    "\n",
    "plt.ylabel('Values (Log Scale)')\n",
    "plt.yscale('log') \n",
    "plt.title('Final Response Time Analysis for Airline Companies')\n",
    "plt.show()"
   ]
  },
  {
   "cell_type": "markdown",
   "id": "265df642",
   "metadata": {},
   "source": [
    "## Result\n",
    "American Airlines with an average response time of approximately 36,147,780,214 units is faster than Delta with an average response time of approximately 45,172,513,288 units. This can correlate to customers being more satified with American Airlines customer support via the tweet data set."
   ]
  }
 ],
 "metadata": {
  "kernelspec": {
   "display_name": "Python 3 (ipykernel)",
   "language": "python",
   "name": "python3"
  },
  "language_info": {
   "codemirror_mode": {
    "name": "ipython",
    "version": 3
   },
   "file_extension": ".py",
   "mimetype": "text/x-python",
   "name": "python",
   "nbconvert_exporter": "python",
   "pygments_lexer": "ipython3",
   "version": "3.11.4"
  }
 },
 "nbformat": 4,
 "nbformat_minor": 5
}
