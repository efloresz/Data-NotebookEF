{
 "cells": [
  {
   "cell_type": "markdown",
   "id": "4aaf7372",
   "metadata": {},
   "source": [
    "## Visualize Chatbot/Response Data to Inform Business Decisions\n",
    "#### Emily Flores\n",
    "\n",
    "Work on Customer Support Twitter dataset, modern corpus of tweets and replies. Check, analyze and understand the pattern and conversations, and for study of modern customer support practices and impact. Using the data, analyze and build interactive visualization to make business decision. \n"
   ]
  },
  {
   "cell_type": "markdown",
   "id": "530e03e9",
   "metadata": {},
   "source": [
    "####  Exploratory data analysis "
   ]
  },
  {
   "cell_type": "code",
   "execution_count": 1,
   "id": "3dda07d1",
   "metadata": {},
   "outputs": [],
   "source": [
    "import pandas as pd\n",
    "import numpy as np\n",
    "import string\n",
    "from nltk.corpus import stopwords\n",
    "from collections import Counter \n",
    "from nltk.stem import PorterStemmer\n",
    "from nltk.stem import WordNetLemmatizer\n",
    "from bs4 import BeautifulSoup\n",
    "from spellchecker import SpellChecker \n",
    "import matplotlib.pyplot as plt\n",
    "from sklearn.feature_extraction.text import CountVectorizer\n",
    "from sklearn.model_selection import train_test_split\n",
    "from sklearn.ensemble import RandomForestClassifier\n",
    "from sklearn.metrics import accuracy_score\n",
    "from textblob import TextBlob\n",
    "import plotly.figure_factory as ff\n",
    "import plotly.graph_objects as go\n",
    "import plotly.express as px"
   ]
  },
  {
   "cell_type": "code",
   "execution_count": 2,
   "id": "e72a58af",
   "metadata": {},
   "outputs": [],
   "source": [
    "file_path = 'twcs.csv'\n",
    "dataset = pd.read_csv('twcs.csv')"
   ]
  },
  {
   "cell_type": "code",
   "execution_count": 3,
   "id": "cdb2aaa4",
   "metadata": {},
   "outputs": [
    {
     "data": {
      "text/html": [
       "<div>\n",
       "<style scoped>\n",
       "    .dataframe tbody tr th:only-of-type {\n",
       "        vertical-align: middle;\n",
       "    }\n",
       "\n",
       "    .dataframe tbody tr th {\n",
       "        vertical-align: top;\n",
       "    }\n",
       "\n",
       "    .dataframe thead th {\n",
       "        text-align: right;\n",
       "    }\n",
       "</style>\n",
       "<table border=\"1\" class=\"dataframe\">\n",
       "  <thead>\n",
       "    <tr style=\"text-align: right;\">\n",
       "      <th></th>\n",
       "      <th>tweet_id</th>\n",
       "      <th>author_id</th>\n",
       "      <th>inbound</th>\n",
       "      <th>created_at</th>\n",
       "      <th>text</th>\n",
       "      <th>response_tweet_id</th>\n",
       "      <th>in_response_to_tweet_id</th>\n",
       "    </tr>\n",
       "  </thead>\n",
       "  <tbody>\n",
       "    <tr>\n",
       "      <th>0</th>\n",
       "      <td>1</td>\n",
       "      <td>sprintcare</td>\n",
       "      <td>False</td>\n",
       "      <td>Tue Oct 31 22:10:47 +0000 2017</td>\n",
       "      <td>@115712 I understand. I would like to assist y...</td>\n",
       "      <td>2</td>\n",
       "      <td>3.0</td>\n",
       "    </tr>\n",
       "    <tr>\n",
       "      <th>1</th>\n",
       "      <td>2</td>\n",
       "      <td>115712</td>\n",
       "      <td>True</td>\n",
       "      <td>Tue Oct 31 22:11:45 +0000 2017</td>\n",
       "      <td>@sprintcare and how do you propose we do that</td>\n",
       "      <td>NaN</td>\n",
       "      <td>1.0</td>\n",
       "    </tr>\n",
       "    <tr>\n",
       "      <th>2</th>\n",
       "      <td>3</td>\n",
       "      <td>115712</td>\n",
       "      <td>True</td>\n",
       "      <td>Tue Oct 31 22:08:27 +0000 2017</td>\n",
       "      <td>@sprintcare I have sent several private messag...</td>\n",
       "      <td>1</td>\n",
       "      <td>4.0</td>\n",
       "    </tr>\n",
       "    <tr>\n",
       "      <th>3</th>\n",
       "      <td>4</td>\n",
       "      <td>sprintcare</td>\n",
       "      <td>False</td>\n",
       "      <td>Tue Oct 31 21:54:49 +0000 2017</td>\n",
       "      <td>@115712 Please send us a Private Message so th...</td>\n",
       "      <td>3</td>\n",
       "      <td>5.0</td>\n",
       "    </tr>\n",
       "    <tr>\n",
       "      <th>4</th>\n",
       "      <td>5</td>\n",
       "      <td>115712</td>\n",
       "      <td>True</td>\n",
       "      <td>Tue Oct 31 21:49:35 +0000 2017</td>\n",
       "      <td>@sprintcare I did.</td>\n",
       "      <td>4</td>\n",
       "      <td>6.0</td>\n",
       "    </tr>\n",
       "  </tbody>\n",
       "</table>\n",
       "</div>"
      ],
      "text/plain": [
       "   tweet_id   author_id  inbound                      created_at  \\\n",
       "0         1  sprintcare    False  Tue Oct 31 22:10:47 +0000 2017   \n",
       "1         2      115712     True  Tue Oct 31 22:11:45 +0000 2017   \n",
       "2         3      115712     True  Tue Oct 31 22:08:27 +0000 2017   \n",
       "3         4  sprintcare    False  Tue Oct 31 21:54:49 +0000 2017   \n",
       "4         5      115712     True  Tue Oct 31 21:49:35 +0000 2017   \n",
       "\n",
       "                                                text response_tweet_id  \\\n",
       "0  @115712 I understand. I would like to assist y...                 2   \n",
       "1      @sprintcare and how do you propose we do that               NaN   \n",
       "2  @sprintcare I have sent several private messag...                 1   \n",
       "3  @115712 Please send us a Private Message so th...                 3   \n",
       "4                                 @sprintcare I did.                 4   \n",
       "\n",
       "   in_response_to_tweet_id  \n",
       "0                      3.0  \n",
       "1                      1.0  \n",
       "2                      4.0  \n",
       "3                      5.0  \n",
       "4                      6.0  "
      ]
     },
     "execution_count": 3,
     "metadata": {},
     "output_type": "execute_result"
    }
   ],
   "source": [
    "dataset.head()"
   ]
  },
  {
   "cell_type": "code",
   "execution_count": 4,
   "id": "d07b40fc",
   "metadata": {},
   "outputs": [],
   "source": [
    "rows, columns = dataset.shape"
   ]
  },
  {
   "cell_type": "code",
   "execution_count": 5,
   "id": "0fa8ade3",
   "metadata": {},
   "outputs": [
    {
     "name": "stdout",
     "output_type": "stream",
     "text": [
      "Number of Rows: 2811774\n"
     ]
    }
   ],
   "source": [
    "print(\"Number of Rows:\", rows)"
   ]
  },
  {
   "cell_type": "code",
   "execution_count": 6,
   "id": "6e6379e5",
   "metadata": {},
   "outputs": [
    {
     "name": "stdout",
     "output_type": "stream",
     "text": [
      "Number of Columns: 7\n"
     ]
    }
   ],
   "source": [
    "print(\"Number of Columns:\", columns)"
   ]
  },
  {
   "cell_type": "code",
   "execution_count": 7,
   "id": "24fb60ca",
   "metadata": {},
   "outputs": [
    {
     "name": "stdout",
     "output_type": "stream",
     "text": [
      "<class 'pandas.core.frame.DataFrame'>\n",
      "RangeIndex: 2811774 entries, 0 to 2811773\n",
      "Data columns (total 7 columns):\n",
      " #   Column                   Dtype  \n",
      "---  ------                   -----  \n",
      " 0   tweet_id                 int64  \n",
      " 1   author_id                object \n",
      " 2   inbound                  bool   \n",
      " 3   created_at               object \n",
      " 4   text                     object \n",
      " 5   response_tweet_id        object \n",
      " 6   in_response_to_tweet_id  float64\n",
      "dtypes: bool(1), float64(1), int64(1), object(4)\n",
      "memory usage: 131.4+ MB\n"
     ]
    }
   ],
   "source": [
    "dataset.info()"
   ]
  },
  {
   "cell_type": "code",
   "execution_count": 8,
   "id": "08d4be98",
   "metadata": {},
   "outputs": [],
   "source": [
    "description = dataset.describe()"
   ]
  },
  {
   "cell_type": "code",
   "execution_count": 9,
   "id": "12d069b3",
   "metadata": {},
   "outputs": [
    {
     "name": "stdout",
     "output_type": "stream",
     "text": [
      "           tweet_id  in_response_to_tweet_id\n",
      "count  2.811774e+06             2.017439e+06\n",
      "mean   1.504565e+06             1.463141e+06\n",
      "std    8.616450e+05             8.665730e+05\n",
      "min    1.000000e+00             1.000000e+00\n",
      "25%    7.601652e+05             7.155105e+05\n",
      "50%    1.507772e+06             1.439805e+06\n",
      "75%    2.253296e+06             2.220646e+06\n",
      "max    2.987950e+06             2.987950e+06\n"
     ]
    }
   ],
   "source": [
    "print(description)"
   ]
  },
  {
   "cell_type": "code",
   "execution_count": 10,
   "id": "9440b0eb",
   "metadata": {},
   "outputs": [
    {
     "data": {
      "text/plain": [
       "tweet_id                         0\n",
       "author_id                        0\n",
       "inbound                          0\n",
       "created_at                       0\n",
       "text                             0\n",
       "response_tweet_id          1040629\n",
       "in_response_to_tweet_id     794335\n",
       "dtype: int64"
      ]
     },
     "execution_count": 10,
     "metadata": {},
     "output_type": "execute_result"
    }
   ],
   "source": [
    "dataset.isnull().sum()"
   ]
  },
  {
   "cell_type": "code",
   "execution_count": 11,
   "id": "48b0106c",
   "metadata": {},
   "outputs": [],
   "source": [
    "duplicateValues = dataset.duplicated()"
   ]
  },
  {
   "cell_type": "code",
   "execution_count": 12,
   "id": "2b4132fd",
   "metadata": {},
   "outputs": [
    {
     "name": "stdout",
     "output_type": "stream",
     "text": [
      "0\n"
     ]
    }
   ],
   "source": [
    "print(duplicateValues.sum())"
   ]
  },
  {
   "cell_type": "code",
   "execution_count": 13,
   "id": "7cbe65a1",
   "metadata": {},
   "outputs": [
    {
     "data": {
      "text/html": [
       "<div>\n",
       "<style scoped>\n",
       "    .dataframe tbody tr th:only-of-type {\n",
       "        vertical-align: middle;\n",
       "    }\n",
       "\n",
       "    .dataframe tbody tr th {\n",
       "        vertical-align: top;\n",
       "    }\n",
       "\n",
       "    .dataframe thead th {\n",
       "        text-align: right;\n",
       "    }\n",
       "</style>\n",
       "<table border=\"1\" class=\"dataframe\">\n",
       "  <thead>\n",
       "    <tr style=\"text-align: right;\">\n",
       "      <th></th>\n",
       "      <th>tweet_id</th>\n",
       "      <th>author_id</th>\n",
       "      <th>inbound</th>\n",
       "      <th>created_at</th>\n",
       "      <th>text</th>\n",
       "      <th>response_tweet_id</th>\n",
       "      <th>in_response_to_tweet_id</th>\n",
       "    </tr>\n",
       "  </thead>\n",
       "  <tbody>\n",
       "  </tbody>\n",
       "</table>\n",
       "</div>"
      ],
      "text/plain": [
       "Empty DataFrame\n",
       "Columns: [tweet_id, author_id, inbound, created_at, text, response_tweet_id, in_response_to_tweet_id]\n",
       "Index: []"
      ]
     },
     "execution_count": 13,
     "metadata": {},
     "output_type": "execute_result"
    }
   ],
   "source": [
    "dataset[duplicateValues]"
   ]
  },
  {
   "cell_type": "markdown",
   "id": "65c7eb28",
   "metadata": {},
   "source": [
    "#### The data can be cleaned by reordering the 'created_at' attribute by date added.\n",
    "#### Most recent tweet at the top of data set * oldest at the end."
   ]
  },
  {
   "cell_type": "code",
   "execution_count": 14,
   "id": "a91c0d6e",
   "metadata": {},
   "outputs": [],
   "source": [
    "dataset.sort_values(by='created_at', ascending=True, inplace=True)"
   ]
  },
  {
   "cell_type": "code",
   "execution_count": 15,
   "id": "b75a3c09",
   "metadata": {},
   "outputs": [
    {
     "data": {
      "text/html": [
       "<div>\n",
       "<style scoped>\n",
       "    .dataframe tbody tr th:only-of-type {\n",
       "        vertical-align: middle;\n",
       "    }\n",
       "\n",
       "    .dataframe tbody tr th {\n",
       "        vertical-align: top;\n",
       "    }\n",
       "\n",
       "    .dataframe thead th {\n",
       "        text-align: right;\n",
       "    }\n",
       "</style>\n",
       "<table border=\"1\" class=\"dataframe\">\n",
       "  <thead>\n",
       "    <tr style=\"text-align: right;\">\n",
       "      <th></th>\n",
       "      <th>tweet_id</th>\n",
       "      <th>author_id</th>\n",
       "      <th>inbound</th>\n",
       "      <th>created_at</th>\n",
       "      <th>text</th>\n",
       "      <th>response_tweet_id</th>\n",
       "      <th>in_response_to_tweet_id</th>\n",
       "    </tr>\n",
       "  </thead>\n",
       "  <tbody>\n",
       "    <tr>\n",
       "      <th>2496505</th>\n",
       "      <td>2666295</td>\n",
       "      <td>751178</td>\n",
       "      <td>True</td>\n",
       "      <td>Fri Apr 01 17:37:48 +0000 2016</td>\n",
       "      <td>@AskSeagate Same issue Seagate. Is there a sol...</td>\n",
       "      <td>2666294</td>\n",
       "      <td>2666296.0</td>\n",
       "    </tr>\n",
       "    <tr>\n",
       "      <th>2496504</th>\n",
       "      <td>2666294</td>\n",
       "      <td>AskSeagate</td>\n",
       "      <td>False</td>\n",
       "      <td>Fri Apr 01 18:22:40 +0000 2016</td>\n",
       "      <td>@751178 Pls give us more clarification on your...</td>\n",
       "      <td>2666293</td>\n",
       "      <td>2666295.0</td>\n",
       "    </tr>\n",
       "    <tr>\n",
       "      <th>2496503</th>\n",
       "      <td>2666293</td>\n",
       "      <td>751178</td>\n",
       "      <td>True</td>\n",
       "      <td>Fri Apr 01 18:25:52 +0000 2016</td>\n",
       "      <td>@AskSeagate Bootstrap and media server daemon ...</td>\n",
       "      <td>2666291</td>\n",
       "      <td>2666294.0</td>\n",
       "    </tr>\n",
       "    <tr>\n",
       "      <th>2496501</th>\n",
       "      <td>2666291</td>\n",
       "      <td>AskSeagate</td>\n",
       "      <td>False</td>\n",
       "      <td>Fri Apr 01 19:53:33 +0000 2016</td>\n",
       "      <td>@751178 Pls use the link bellow to download th...</td>\n",
       "      <td>2666292</td>\n",
       "      <td>2666293.0</td>\n",
       "    </tr>\n",
       "    <tr>\n",
       "      <th>352823</th>\n",
       "      <td>402549</td>\n",
       "      <td>211231</td>\n",
       "      <td>True</td>\n",
       "      <td>Fri Apr 03 19:57:41 +0000 2015</td>\n",
       "      <td>@AsurionCares How do I get a receipt of my mon...</td>\n",
       "      <td>402547</td>\n",
       "      <td>NaN</td>\n",
       "    </tr>\n",
       "  </tbody>\n",
       "</table>\n",
       "</div>"
      ],
      "text/plain": [
       "         tweet_id   author_id  inbound                      created_at  \\\n",
       "2496505   2666295      751178     True  Fri Apr 01 17:37:48 +0000 2016   \n",
       "2496504   2666294  AskSeagate    False  Fri Apr 01 18:22:40 +0000 2016   \n",
       "2496503   2666293      751178     True  Fri Apr 01 18:25:52 +0000 2016   \n",
       "2496501   2666291  AskSeagate    False  Fri Apr 01 19:53:33 +0000 2016   \n",
       "352823     402549      211231     True  Fri Apr 03 19:57:41 +0000 2015   \n",
       "\n",
       "                                                      text response_tweet_id  \\\n",
       "2496505  @AskSeagate Same issue Seagate. Is there a sol...           2666294   \n",
       "2496504  @751178 Pls give us more clarification on your...           2666293   \n",
       "2496503  @AskSeagate Bootstrap and media server daemon ...           2666291   \n",
       "2496501  @751178 Pls use the link bellow to download th...           2666292   \n",
       "352823   @AsurionCares How do I get a receipt of my mon...            402547   \n",
       "\n",
       "         in_response_to_tweet_id  \n",
       "2496505                2666296.0  \n",
       "2496504                2666295.0  \n",
       "2496503                2666294.0  \n",
       "2496501                2666293.0  \n",
       "352823                       NaN  "
      ]
     },
     "execution_count": 15,
     "metadata": {},
     "output_type": "execute_result"
    }
   ],
   "source": [
    "dataset.head()"
   ]
  },
  {
   "cell_type": "markdown",
   "id": "ef63649e",
   "metadata": {},
   "source": [
    "#### The data can be cleaned by reorganizing the author_id by alphabetic order.\n",
    "#### Start with 'author_id' that starts with 'a' & ends with 'z'"
   ]
  },
  {
   "cell_type": "code",
   "execution_count": 16,
   "id": "6733a836",
   "metadata": {},
   "outputs": [],
   "source": [
    "dataset.sort_values(by='author_id', ascending=True, inplace=True)"
   ]
  },
  {
   "cell_type": "code",
   "execution_count": 17,
   "id": "0ef4860a",
   "metadata": {},
   "outputs": [
    {
     "data": {
      "text/html": [
       "<div>\n",
       "<style scoped>\n",
       "    .dataframe tbody tr th:only-of-type {\n",
       "        vertical-align: middle;\n",
       "    }\n",
       "\n",
       "    .dataframe tbody tr th {\n",
       "        vertical-align: top;\n",
       "    }\n",
       "\n",
       "    .dataframe thead th {\n",
       "        text-align: right;\n",
       "    }\n",
       "</style>\n",
       "<table border=\"1\" class=\"dataframe\">\n",
       "  <thead>\n",
       "    <tr style=\"text-align: right;\">\n",
       "      <th></th>\n",
       "      <th>tweet_id</th>\n",
       "      <th>author_id</th>\n",
       "      <th>inbound</th>\n",
       "      <th>created_at</th>\n",
       "      <th>text</th>\n",
       "      <th>response_tweet_id</th>\n",
       "      <th>in_response_to_tweet_id</th>\n",
       "    </tr>\n",
       "  </thead>\n",
       "  <tbody>\n",
       "    <tr>\n",
       "      <th>576082</th>\n",
       "      <td>648216</td>\n",
       "      <td>10026</td>\n",
       "      <td>True</td>\n",
       "      <td>Thu Oct 05 00:08:01 +0000 2017</td>\n",
       "      <td>Screw you @116016 and your stupid Blueprint pr...</td>\n",
       "      <td>648215</td>\n",
       "      <td>NaN</td>\n",
       "    </tr>\n",
       "    <tr>\n",
       "      <th>1543061</th>\n",
       "      <td>1693185</td>\n",
       "      <td>10026</td>\n",
       "      <td>True</td>\n",
       "      <td>Mon Nov 06 15:38:24 +0000 2017</td>\n",
       "      <td>Dear @ChaseSupport, it’s kinda hard to pay my ...</td>\n",
       "      <td>1693184</td>\n",
       "      <td>NaN</td>\n",
       "    </tr>\n",
       "    <tr>\n",
       "      <th>1543060</th>\n",
       "      <td>1693184</td>\n",
       "      <td>10026</td>\n",
       "      <td>True</td>\n",
       "      <td>Mon Nov 06 15:45:29 +0000 2017</td>\n",
       "      <td>@ChaseSupport Actually it just doesn’t work in...</td>\n",
       "      <td>1693183</td>\n",
       "      <td>1693185.0</td>\n",
       "    </tr>\n",
       "    <tr>\n",
       "      <th>637146</th>\n",
       "      <td>713796</td>\n",
       "      <td>100363</td>\n",
       "      <td>True</td>\n",
       "      <td>Tue Oct 10 22:25:39 +0000 2017</td>\n",
       "      <td>Now the flight @Delta is sending our bag back ...</td>\n",
       "      <td>713795</td>\n",
       "      <td>NaN</td>\n",
       "    </tr>\n",
       "    <tr>\n",
       "      <th>1752883</th>\n",
       "      <td>1906927</td>\n",
       "      <td>10103</td>\n",
       "      <td>True</td>\n",
       "      <td>Wed Oct 25 09:42:58 +0000 2017</td>\n",
       "      <td>@MOO Big thanks to Quentin for the exceptional...</td>\n",
       "      <td>1906926</td>\n",
       "      <td>NaN</td>\n",
       "    </tr>\n",
       "  </tbody>\n",
       "</table>\n",
       "</div>"
      ],
      "text/plain": [
       "         tweet_id author_id  inbound                      created_at  \\\n",
       "576082     648216     10026     True  Thu Oct 05 00:08:01 +0000 2017   \n",
       "1543061   1693185     10026     True  Mon Nov 06 15:38:24 +0000 2017   \n",
       "1543060   1693184     10026     True  Mon Nov 06 15:45:29 +0000 2017   \n",
       "637146     713796    100363     True  Tue Oct 10 22:25:39 +0000 2017   \n",
       "1752883   1906927     10103     True  Wed Oct 25 09:42:58 +0000 2017   \n",
       "\n",
       "                                                      text response_tweet_id  \\\n",
       "576082   Screw you @116016 and your stupid Blueprint pr...            648215   \n",
       "1543061  Dear @ChaseSupport, it’s kinda hard to pay my ...           1693184   \n",
       "1543060  @ChaseSupport Actually it just doesn’t work in...           1693183   \n",
       "637146   Now the flight @Delta is sending our bag back ...            713795   \n",
       "1752883  @MOO Big thanks to Quentin for the exceptional...           1906926   \n",
       "\n",
       "         in_response_to_tweet_id  \n",
       "576082                       NaN  \n",
       "1543061                      NaN  \n",
       "1543060                1693185.0  \n",
       "637146                       NaN  \n",
       "1752883                      NaN  "
      ]
     },
     "execution_count": 17,
     "metadata": {},
     "output_type": "execute_result"
    }
   ],
   "source": [
    "dataset.head()"
   ]
  },
  {
   "cell_type": "markdown",
   "id": "48824021",
   "metadata": {},
   "source": [
    "#### I noticed there are repeated 'author_id' we can group them together. \n",
    "#### While maintaing the 'author_id' in alphabetic order.\n",
    "#### This will make it easier to access tweets from specific users. "
   ]
  },
  {
   "cell_type": "code",
   "execution_count": 18,
   "id": "7234a02b",
   "metadata": {},
   "outputs": [],
   "source": [
    "grouped_data = dataset.groupby('author_id')"
   ]
  },
  {
   "cell_type": "code",
   "execution_count": 19,
   "id": "94ccf416",
   "metadata": {},
   "outputs": [
    {
     "data": {
      "text/html": [
       "<div>\n",
       "<style scoped>\n",
       "    .dataframe tbody tr th:only-of-type {\n",
       "        vertical-align: middle;\n",
       "    }\n",
       "\n",
       "    .dataframe tbody tr th {\n",
       "        vertical-align: top;\n",
       "    }\n",
       "\n",
       "    .dataframe thead th {\n",
       "        text-align: right;\n",
       "    }\n",
       "</style>\n",
       "<table border=\"1\" class=\"dataframe\">\n",
       "  <thead>\n",
       "    <tr style=\"text-align: right;\">\n",
       "      <th></th>\n",
       "      <th>tweet_id</th>\n",
       "      <th>author_id</th>\n",
       "      <th>inbound</th>\n",
       "      <th>created_at</th>\n",
       "      <th>text</th>\n",
       "      <th>response_tweet_id</th>\n",
       "      <th>in_response_to_tweet_id</th>\n",
       "    </tr>\n",
       "  </thead>\n",
       "  <tbody>\n",
       "    <tr>\n",
       "      <th>576082</th>\n",
       "      <td>648216</td>\n",
       "      <td>10026</td>\n",
       "      <td>True</td>\n",
       "      <td>Thu Oct 05 00:08:01 +0000 2017</td>\n",
       "      <td>Screw you @116016 and your stupid Blueprint pr...</td>\n",
       "      <td>648215</td>\n",
       "      <td>NaN</td>\n",
       "    </tr>\n",
       "    <tr>\n",
       "      <th>1543061</th>\n",
       "      <td>1693185</td>\n",
       "      <td>10026</td>\n",
       "      <td>True</td>\n",
       "      <td>Mon Nov 06 15:38:24 +0000 2017</td>\n",
       "      <td>Dear @ChaseSupport, it’s kinda hard to pay my ...</td>\n",
       "      <td>1693184</td>\n",
       "      <td>NaN</td>\n",
       "    </tr>\n",
       "    <tr>\n",
       "      <th>1543060</th>\n",
       "      <td>1693184</td>\n",
       "      <td>10026</td>\n",
       "      <td>True</td>\n",
       "      <td>Mon Nov 06 15:45:29 +0000 2017</td>\n",
       "      <td>@ChaseSupport Actually it just doesn’t work in...</td>\n",
       "      <td>1693183</td>\n",
       "      <td>1693185.0</td>\n",
       "    </tr>\n",
       "    <tr>\n",
       "      <th>637146</th>\n",
       "      <td>713796</td>\n",
       "      <td>100363</td>\n",
       "      <td>True</td>\n",
       "      <td>Tue Oct 10 22:25:39 +0000 2017</td>\n",
       "      <td>Now the flight @Delta is sending our bag back ...</td>\n",
       "      <td>713795</td>\n",
       "      <td>NaN</td>\n",
       "    </tr>\n",
       "    <tr>\n",
       "      <th>1752883</th>\n",
       "      <td>1906927</td>\n",
       "      <td>10103</td>\n",
       "      <td>True</td>\n",
       "      <td>Wed Oct 25 09:42:58 +0000 2017</td>\n",
       "      <td>@MOO Big thanks to Quentin for the exceptional...</td>\n",
       "      <td>1906926</td>\n",
       "      <td>NaN</td>\n",
       "    </tr>\n",
       "  </tbody>\n",
       "</table>\n",
       "</div>"
      ],
      "text/plain": [
       "         tweet_id author_id  inbound                      created_at  \\\n",
       "576082     648216     10026     True  Thu Oct 05 00:08:01 +0000 2017   \n",
       "1543061   1693185     10026     True  Mon Nov 06 15:38:24 +0000 2017   \n",
       "1543060   1693184     10026     True  Mon Nov 06 15:45:29 +0000 2017   \n",
       "637146     713796    100363     True  Tue Oct 10 22:25:39 +0000 2017   \n",
       "1752883   1906927     10103     True  Wed Oct 25 09:42:58 +0000 2017   \n",
       "\n",
       "                                                      text response_tweet_id  \\\n",
       "576082   Screw you @116016 and your stupid Blueprint pr...            648215   \n",
       "1543061  Dear @ChaseSupport, it’s kinda hard to pay my ...           1693184   \n",
       "1543060  @ChaseSupport Actually it just doesn’t work in...           1693183   \n",
       "637146   Now the flight @Delta is sending our bag back ...            713795   \n",
       "1752883  @MOO Big thanks to Quentin for the exceptional...           1906926   \n",
       "\n",
       "         in_response_to_tweet_id  \n",
       "576082                       NaN  \n",
       "1543061                      NaN  \n",
       "1543060                1693185.0  \n",
       "637146                       NaN  \n",
       "1752883                      NaN  "
      ]
     },
     "execution_count": 19,
     "metadata": {},
     "output_type": "execute_result"
    }
   ],
   "source": [
    "dataset.head()"
   ]
  },
  {
   "cell_type": "code",
   "execution_count": 20,
   "id": "b355013f",
   "metadata": {},
   "outputs": [],
   "source": [
    "inbound_count = dataset[dataset['inbound'] == True]['inbound'].count()"
   ]
  },
  {
   "cell_type": "code",
   "execution_count": 21,
   "id": "49741266",
   "metadata": {},
   "outputs": [
    {
     "name": "stdout",
     "output_type": "stream",
     "text": [
      "Number of inbound responses: 1537843\n"
     ]
    }
   ],
   "source": [
    "print(\"Number of inbound responses:\", inbound_count)"
   ]
  },
  {
   "cell_type": "code",
   "execution_count": 22,
   "id": "013dbe67",
   "metadata": {},
   "outputs": [],
   "source": [
    "outbound_count = dataset[dataset['inbound'] == False]['inbound'].count()"
   ]
  },
  {
   "cell_type": "code",
   "execution_count": 23,
   "id": "79abc7c6",
   "metadata": {},
   "outputs": [
    {
     "name": "stdout",
     "output_type": "stream",
     "text": [
      "Number of outbound responses: 1273931\n"
     ]
    }
   ],
   "source": [
    "print(\"Number of outbound responses:\", outbound_count)"
   ]
  },
  {
   "cell_type": "code",
   "execution_count": 24,
   "id": "dd2d402a",
   "metadata": {},
   "outputs": [],
   "source": [
    "unique_tweets_count = dataset['tweet_id'].nunique()"
   ]
  },
  {
   "cell_type": "code",
   "execution_count": 25,
   "id": "de0bd306",
   "metadata": {},
   "outputs": [
    {
     "name": "stdout",
     "output_type": "stream",
     "text": [
      "Number of unique tweets: 2811774\n"
     ]
    }
   ],
   "source": [
    "print(\"Number of unique tweets:\", unique_tweets_count)"
   ]
  },
  {
   "cell_type": "code",
   "execution_count": 26,
   "id": "24a73e2c",
   "metadata": {},
   "outputs": [],
   "source": [
    "top_20_users = dataset['author_id'].value_counts().head(20)"
   ]
  },
  {
   "cell_type": "code",
   "execution_count": 27,
   "id": "5f618a8f",
   "metadata": {},
   "outputs": [
    {
     "name": "stdout",
     "output_type": "stream",
     "text": [
      "Top 20 Twitter users:\n",
      " AmazonHelp         169840\n",
      "AppleSupport       106860\n",
      "Uber_Support        56270\n",
      "SpotifyCares        43265\n",
      "Delta               42253\n",
      "Tesco               38573\n",
      "AmericanAir         36764\n",
      "TMobileHelp         34317\n",
      "comcastcares        33031\n",
      "British_Airways     29361\n",
      "SouthwestAir        28977\n",
      "VirginTrains        27817\n",
      "Ask_Spectrum        25860\n",
      "XboxSupport         24557\n",
      "sprintcare          22381\n",
      "hulu_support        21872\n",
      "sainsburys          19466\n",
      "GWRHelp             19364\n",
      "AskPlayStation      19098\n",
      "ChipotleTweets      18749\n",
      "Name: author_id, dtype: int64\n"
     ]
    }
   ],
   "source": [
    "print(\"Top 20 Twitter users:\\n\", top_20_users)"
   ]
  },
  {
   "cell_type": "markdown",
   "id": "ac3be714",
   "metadata": {},
   "source": [
    "### Data Cleaning"
   ]
  },
  {
   "cell_type": "code",
   "execution_count": 28,
   "id": "f98816ec",
   "metadata": {},
   "outputs": [
    {
     "data": {
      "text/html": [
       "<div>\n",
       "<style scoped>\n",
       "    .dataframe tbody tr th:only-of-type {\n",
       "        vertical-align: middle;\n",
       "    }\n",
       "\n",
       "    .dataframe tbody tr th {\n",
       "        vertical-align: top;\n",
       "    }\n",
       "\n",
       "    .dataframe thead th {\n",
       "        text-align: right;\n",
       "    }\n",
       "</style>\n",
       "<table border=\"1\" class=\"dataframe\">\n",
       "  <thead>\n",
       "    <tr style=\"text-align: right;\">\n",
       "      <th></th>\n",
       "      <th>tweet_id</th>\n",
       "      <th>author_id</th>\n",
       "      <th>inbound</th>\n",
       "      <th>created_at</th>\n",
       "      <th>text</th>\n",
       "      <th>response_tweet_id</th>\n",
       "      <th>in_response_to_tweet_id</th>\n",
       "    </tr>\n",
       "  </thead>\n",
       "  <tbody>\n",
       "    <tr>\n",
       "      <th>576082</th>\n",
       "      <td>648216</td>\n",
       "      <td>10026</td>\n",
       "      <td>True</td>\n",
       "      <td>Thu Oct 05 00:08:01 +0000 2017</td>\n",
       "      <td>Screw you @116016 and your stupid Blueprint pr...</td>\n",
       "      <td>648215</td>\n",
       "      <td>NaN</td>\n",
       "    </tr>\n",
       "    <tr>\n",
       "      <th>1543061</th>\n",
       "      <td>1693185</td>\n",
       "      <td>10026</td>\n",
       "      <td>True</td>\n",
       "      <td>Mon Nov 06 15:38:24 +0000 2017</td>\n",
       "      <td>Dear @ChaseSupport, it’s kinda hard to pay my ...</td>\n",
       "      <td>1693184</td>\n",
       "      <td>NaN</td>\n",
       "    </tr>\n",
       "    <tr>\n",
       "      <th>1543060</th>\n",
       "      <td>1693184</td>\n",
       "      <td>10026</td>\n",
       "      <td>True</td>\n",
       "      <td>Mon Nov 06 15:45:29 +0000 2017</td>\n",
       "      <td>@ChaseSupport Actually it just doesn’t work in...</td>\n",
       "      <td>1693183</td>\n",
       "      <td>1693185.0</td>\n",
       "    </tr>\n",
       "    <tr>\n",
       "      <th>637146</th>\n",
       "      <td>713796</td>\n",
       "      <td>100363</td>\n",
       "      <td>True</td>\n",
       "      <td>Tue Oct 10 22:25:39 +0000 2017</td>\n",
       "      <td>Now the flight @Delta is sending our bag back ...</td>\n",
       "      <td>713795</td>\n",
       "      <td>NaN</td>\n",
       "    </tr>\n",
       "    <tr>\n",
       "      <th>1752883</th>\n",
       "      <td>1906927</td>\n",
       "      <td>10103</td>\n",
       "      <td>True</td>\n",
       "      <td>Wed Oct 25 09:42:58 +0000 2017</td>\n",
       "      <td>@MOO Big thanks to Quentin for the exceptional...</td>\n",
       "      <td>1906926</td>\n",
       "      <td>NaN</td>\n",
       "    </tr>\n",
       "  </tbody>\n",
       "</table>\n",
       "</div>"
      ],
      "text/plain": [
       "         tweet_id author_id  inbound                      created_at  \\\n",
       "576082     648216     10026     True  Thu Oct 05 00:08:01 +0000 2017   \n",
       "1543061   1693185     10026     True  Mon Nov 06 15:38:24 +0000 2017   \n",
       "1543060   1693184     10026     True  Mon Nov 06 15:45:29 +0000 2017   \n",
       "637146     713796    100363     True  Tue Oct 10 22:25:39 +0000 2017   \n",
       "1752883   1906927     10103     True  Wed Oct 25 09:42:58 +0000 2017   \n",
       "\n",
       "                                                      text response_tweet_id  \\\n",
       "576082   Screw you @116016 and your stupid Blueprint pr...            648215   \n",
       "1543061  Dear @ChaseSupport, it’s kinda hard to pay my ...           1693184   \n",
       "1543060  @ChaseSupport Actually it just doesn’t work in...           1693183   \n",
       "637146   Now the flight @Delta is sending our bag back ...            713795   \n",
       "1752883  @MOO Big thanks to Quentin for the exceptional...           1906926   \n",
       "\n",
       "         in_response_to_tweet_id  \n",
       "576082                       NaN  \n",
       "1543061                      NaN  \n",
       "1543060                1693185.0  \n",
       "637146                       NaN  \n",
       "1752883                      NaN  "
      ]
     },
     "execution_count": 28,
     "metadata": {},
     "output_type": "execute_result"
    }
   ],
   "source": [
    "dataset.head()"
   ]
  },
  {
   "cell_type": "code",
   "execution_count": 29,
   "id": "664c1d90",
   "metadata": {},
   "outputs": [],
   "source": [
    "userTweetCount = dataset.groupby('author_id').size().reset_index(name='tweetCount')"
   ]
  },
  {
   "cell_type": "code",
   "execution_count": 30,
   "id": "88e03fcc",
   "metadata": {},
   "outputs": [],
   "source": [
    "topUsers = userTweetCount.sort_values(by='tweetCount', ascending=False)"
   ]
  },
  {
   "cell_type": "code",
   "execution_count": 31,
   "id": "ec402a88",
   "metadata": {},
   "outputs": [
    {
     "name": "stdout",
     "output_type": "stream",
     "text": [
      "           author_id  tweetCount\n",
      "702677    AmazonHelp      169840\n",
      "702679  AppleSupport      106860\n",
      "702754  Uber_Support       56270\n",
      "702746  SpotifyCares       43265\n",
      "702709         Delta       42253\n"
     ]
    }
   ],
   "source": [
    "print(topUsers.head())"
   ]
  },
  {
   "cell_type": "code",
   "execution_count": 32,
   "id": "dce1ad3b",
   "metadata": {},
   "outputs": [],
   "source": [
    "authorResCount = dataset.groupby('author_id')['response_tweet_id'].count().reset_index(name='response_count')"
   ]
  },
  {
   "cell_type": "code",
   "execution_count": 33,
   "id": "9110807f",
   "metadata": {},
   "outputs": [],
   "source": [
    "topAuthorsRes = authorResCount.sort_values(by='response_count', ascending=False)"
   ]
  },
  {
   "cell_type": "code",
   "execution_count": 34,
   "id": "58c8dfb4",
   "metadata": {},
   "outputs": [
    {
     "name": "stdout",
     "output_type": "stream",
     "text": [
      "           author_id  response_count\n",
      "702677    AmazonHelp           85274\n",
      "702679  AppleSupport           31564\n",
      "702754  Uber_Support           18036\n",
      "702759  VirginTrains           15235\n",
      "702678   AmericanAir           14556\n"
     ]
    }
   ],
   "source": [
    "print(topAuthorsRes.head())"
   ]
  },
  {
   "cell_type": "code",
   "execution_count": 35,
   "id": "51f69d9f",
   "metadata": {},
   "outputs": [],
   "source": [
    "dataset['created_at'] = pd.to_datetime(dataset['created_at'])"
   ]
  },
  {
   "cell_type": "code",
   "execution_count": 36,
   "id": "f61e64b5",
   "metadata": {},
   "outputs": [],
   "source": [
    "tweetsByDate = dataset.groupby(dataset['created_at'].dt.date).size().reset_index(name='tweet_count')"
   ]
  },
  {
   "cell_type": "code",
   "execution_count": 37,
   "id": "dd77502e",
   "metadata": {},
   "outputs": [
    {
     "name": "stdout",
     "output_type": "stream",
     "text": [
      "     created_at  tweet_count\n",
      "0    2008-05-08            2\n",
      "1    2010-02-16            1\n",
      "2    2010-03-31            2\n",
      "3    2010-07-05            2\n",
      "4    2010-08-30            1\n",
      "..          ...          ...\n",
      "979  2017-11-29        53610\n",
      "980  2017-11-30        53476\n",
      "981  2017-12-01        53857\n",
      "982  2017-12-02        46988\n",
      "983  2017-12-03        38164\n",
      "\n",
      "[984 rows x 2 columns]\n"
     ]
    }
   ],
   "source": [
    "print(tweetsByDate)"
   ]
  },
  {
   "cell_type": "markdown",
   "id": "dd1f44e0",
   "metadata": {},
   "source": [
    "### Data Cleaning Part 2"
   ]
  },
  {
   "cell_type": "code",
   "execution_count": 38,
   "id": "4a582f02",
   "metadata": {},
   "outputs": [
    {
     "data": {
      "text/html": [
       "<div>\n",
       "<style scoped>\n",
       "    .dataframe tbody tr th:only-of-type {\n",
       "        vertical-align: middle;\n",
       "    }\n",
       "\n",
       "    .dataframe tbody tr th {\n",
       "        vertical-align: top;\n",
       "    }\n",
       "\n",
       "    .dataframe thead th {\n",
       "        text-align: right;\n",
       "    }\n",
       "</style>\n",
       "<table border=\"1\" class=\"dataframe\">\n",
       "  <thead>\n",
       "    <tr style=\"text-align: right;\">\n",
       "      <th></th>\n",
       "      <th>tweet_id</th>\n",
       "      <th>author_id</th>\n",
       "      <th>inbound</th>\n",
       "      <th>created_at</th>\n",
       "      <th>text</th>\n",
       "      <th>response_tweet_id</th>\n",
       "      <th>in_response_to_tweet_id</th>\n",
       "    </tr>\n",
       "  </thead>\n",
       "  <tbody>\n",
       "    <tr>\n",
       "      <th>576082</th>\n",
       "      <td>648216</td>\n",
       "      <td>10026</td>\n",
       "      <td>True</td>\n",
       "      <td>2017-10-05 00:08:01+00:00</td>\n",
       "      <td>Screw you @116016 and your stupid Blueprint pr...</td>\n",
       "      <td>648215</td>\n",
       "      <td>NaN</td>\n",
       "    </tr>\n",
       "    <tr>\n",
       "      <th>1543061</th>\n",
       "      <td>1693185</td>\n",
       "      <td>10026</td>\n",
       "      <td>True</td>\n",
       "      <td>2017-11-06 15:38:24+00:00</td>\n",
       "      <td>Dear @ChaseSupport, it’s kinda hard to pay my ...</td>\n",
       "      <td>1693184</td>\n",
       "      <td>NaN</td>\n",
       "    </tr>\n",
       "    <tr>\n",
       "      <th>1543060</th>\n",
       "      <td>1693184</td>\n",
       "      <td>10026</td>\n",
       "      <td>True</td>\n",
       "      <td>2017-11-06 15:45:29+00:00</td>\n",
       "      <td>@ChaseSupport Actually it just doesn’t work in...</td>\n",
       "      <td>1693183</td>\n",
       "      <td>1693185.0</td>\n",
       "    </tr>\n",
       "    <tr>\n",
       "      <th>637146</th>\n",
       "      <td>713796</td>\n",
       "      <td>100363</td>\n",
       "      <td>True</td>\n",
       "      <td>2017-10-10 22:25:39+00:00</td>\n",
       "      <td>Now the flight @Delta is sending our bag back ...</td>\n",
       "      <td>713795</td>\n",
       "      <td>NaN</td>\n",
       "    </tr>\n",
       "    <tr>\n",
       "      <th>1752883</th>\n",
       "      <td>1906927</td>\n",
       "      <td>10103</td>\n",
       "      <td>True</td>\n",
       "      <td>2017-10-25 09:42:58+00:00</td>\n",
       "      <td>@MOO Big thanks to Quentin for the exceptional...</td>\n",
       "      <td>1906926</td>\n",
       "      <td>NaN</td>\n",
       "    </tr>\n",
       "    <tr>\n",
       "      <th>2071249</th>\n",
       "      <td>2230369</td>\n",
       "      <td>10103</td>\n",
       "      <td>True</td>\n",
       "      <td>2017-11-10 12:20:40+00:00</td>\n",
       "      <td>The ribotRainbow! New #businesscards thanks to...</td>\n",
       "      <td>2230368</td>\n",
       "      <td>NaN</td>\n",
       "    </tr>\n",
       "    <tr>\n",
       "      <th>1871115</th>\n",
       "      <td>2027294</td>\n",
       "      <td>10221</td>\n",
       "      <td>True</td>\n",
       "      <td>2017-11-06 19:05:45+00:00</td>\n",
       "      <td>same. https://t.co/gxkJt8BNV6</td>\n",
       "      <td>2027293</td>\n",
       "      <td>NaN</td>\n",
       "    </tr>\n",
       "    <tr>\n",
       "      <th>815955</th>\n",
       "      <td>909357</td>\n",
       "      <td>10221</td>\n",
       "      <td>True</td>\n",
       "      <td>2017-10-21 05:20:48+00:00</td>\n",
       "      <td>Yup https://t.co/GpkFa9MfHQ</td>\n",
       "      <td>909356</td>\n",
       "      <td>NaN</td>\n",
       "    </tr>\n",
       "    <tr>\n",
       "      <th>2566140</th>\n",
       "      <td>2737084</td>\n",
       "      <td>10286</td>\n",
       "      <td>True</td>\n",
       "      <td>2017-11-18 00:40:34+00:00</td>\n",
       "      <td>@comcastcares Is it possible to get business c...</td>\n",
       "      <td>2737083</td>\n",
       "      <td>NaN</td>\n",
       "    </tr>\n",
       "    <tr>\n",
       "      <th>1082215</th>\n",
       "      <td>1197566</td>\n",
       "      <td>10297</td>\n",
       "      <td>True</td>\n",
       "      <td>2017-10-25 03:12:36+00:00</td>\n",
       "      <td>@Delta I will never fly your airline again</td>\n",
       "      <td>1197564</td>\n",
       "      <td>NaN</td>\n",
       "    </tr>\n",
       "  </tbody>\n",
       "</table>\n",
       "</div>"
      ],
      "text/plain": [
       "         tweet_id author_id  inbound                created_at  \\\n",
       "576082     648216     10026     True 2017-10-05 00:08:01+00:00   \n",
       "1543061   1693185     10026     True 2017-11-06 15:38:24+00:00   \n",
       "1543060   1693184     10026     True 2017-11-06 15:45:29+00:00   \n",
       "637146     713796    100363     True 2017-10-10 22:25:39+00:00   \n",
       "1752883   1906927     10103     True 2017-10-25 09:42:58+00:00   \n",
       "2071249   2230369     10103     True 2017-11-10 12:20:40+00:00   \n",
       "1871115   2027294     10221     True 2017-11-06 19:05:45+00:00   \n",
       "815955     909357     10221     True 2017-10-21 05:20:48+00:00   \n",
       "2566140   2737084     10286     True 2017-11-18 00:40:34+00:00   \n",
       "1082215   1197566     10297     True 2017-10-25 03:12:36+00:00   \n",
       "\n",
       "                                                      text response_tweet_id  \\\n",
       "576082   Screw you @116016 and your stupid Blueprint pr...            648215   \n",
       "1543061  Dear @ChaseSupport, it’s kinda hard to pay my ...           1693184   \n",
       "1543060  @ChaseSupport Actually it just doesn’t work in...           1693183   \n",
       "637146   Now the flight @Delta is sending our bag back ...            713795   \n",
       "1752883  @MOO Big thanks to Quentin for the exceptional...           1906926   \n",
       "2071249  The ribotRainbow! New #businesscards thanks to...           2230368   \n",
       "1871115                      same. https://t.co/gxkJt8BNV6           2027293   \n",
       "815955                         Yup https://t.co/GpkFa9MfHQ            909356   \n",
       "2566140  @comcastcares Is it possible to get business c...           2737083   \n",
       "1082215         @Delta I will never fly your airline again           1197564   \n",
       "\n",
       "         in_response_to_tweet_id  \n",
       "576082                       NaN  \n",
       "1543061                      NaN  \n",
       "1543060                1693185.0  \n",
       "637146                       NaN  \n",
       "1752883                      NaN  \n",
       "2071249                      NaN  \n",
       "1871115                      NaN  \n",
       "815955                       NaN  \n",
       "2566140                      NaN  \n",
       "1082215                      NaN  "
      ]
     },
     "execution_count": 38,
     "metadata": {},
     "output_type": "execute_result"
    }
   ],
   "source": [
    "dataset.head(10)"
   ]
  },
  {
   "cell_type": "code",
   "execution_count": 39,
   "id": "aae23e48",
   "metadata": {},
   "outputs": [],
   "source": [
    "# Lower casing\n",
    "dataset['text_lower'] = dataset['text'].str.lower()"
   ]
  },
  {
   "cell_type": "code",
   "execution_count": 40,
   "id": "cacc63b2",
   "metadata": {},
   "outputs": [
    {
     "name": "stdout",
     "output_type": "stream",
     "text": [
      "         tweet_id   author_id  inbound                created_at  \\\n",
      "576082     648216       10026     True 2017-10-05 00:08:01+00:00   \n",
      "1543061   1693185       10026     True 2017-11-06 15:38:24+00:00   \n",
      "1543060   1693184       10026     True 2017-11-06 15:45:29+00:00   \n",
      "637146     713796      100363     True 2017-10-10 22:25:39+00:00   \n",
      "1752883   1906927       10103     True 2017-10-25 09:42:58+00:00   \n",
      "...           ...         ...      ...                       ...   \n",
      "563523     634902  sprintcare    False 2017-11-22 16:50:06+00:00   \n",
      "1547778   1698065  sprintcare    False 2017-11-06 23:38:30+00:00   \n",
      "1444813   1589060  sprintcare    False 2017-11-04 23:20:15+00:00   \n",
      "2075585   2234492  sprintcare    False 2017-11-10 18:17:30+00:00   \n",
      "2325021   2491088  sprintcare    False 2017-11-15 17:13:42+00:00   \n",
      "\n",
      "                                                      text  \\\n",
      "576082   Screw you @116016 and your stupid Blueprint pr...   \n",
      "1543061  Dear @ChaseSupport, it’s kinda hard to pay my ...   \n",
      "1543060  @ChaseSupport Actually it just doesn’t work in...   \n",
      "637146   Now the flight @Delta is sending our bag back ...   \n",
      "1752883  @MOO Big thanks to Quentin for the exceptional...   \n",
      "...                                                    ...   \n",
      "563523   @270560 Let's see what's going on. Please send...   \n",
      "1547778  @515037 Let’s do some troubleshooting. Can you...   \n",
      "1444813  @488653 We apologize for the delay in helping ...   \n",
      "2075585  @196099 Please send us a Direct Message, so th...   \n",
      "2325021  @711261 Send me a DM so that I can take a look...   \n",
      "\n",
      "                       response_tweet_id  in_response_to_tweet_id  \\\n",
      "576082                            648215                      NaN   \n",
      "1543061                          1693184                      NaN   \n",
      "1543060                          1693183                1693185.0   \n",
      "637146                            713795                      NaN   \n",
      "1752883                          1906926                      NaN   \n",
      "...                                  ...                      ...   \n",
      "563523                               NaN                 634903.0   \n",
      "1547778                              NaN                1698066.0   \n",
      "1444813  1589061,1589062,1589063,1589064                1589065.0   \n",
      "2075585                              NaN                2234491.0   \n",
      "2325021                              NaN                2491089.0   \n",
      "\n",
      "                                                text_lower  \n",
      "576082   screw you @116016 and your stupid blueprint pr...  \n",
      "1543061  dear @chasesupport, it’s kinda hard to pay my ...  \n",
      "1543060  @chasesupport actually it just doesn’t work in...  \n",
      "637146   now the flight @delta is sending our bag back ...  \n",
      "1752883  @moo big thanks to quentin for the exceptional...  \n",
      "...                                                    ...  \n",
      "563523   @270560 let's see what's going on. please send...  \n",
      "1547778  @515037 let’s do some troubleshooting. can you...  \n",
      "1444813  @488653 we apologize for the delay in helping ...  \n",
      "2075585  @196099 please send us a direct message, so th...  \n",
      "2325021  @711261 send me a dm so that i can take a look...  \n",
      "\n",
      "[2811774 rows x 8 columns]\n"
     ]
    }
   ],
   "source": [
    "print(dataset)"
   ]
  },
  {
   "cell_type": "code",
   "execution_count": 41,
   "id": "d6f114d6",
   "metadata": {},
   "outputs": [],
   "source": [
    "# Removal of punctuation \n",
    "dataset['no_punct'] = dataset['text_lower'].apply(lambda text: text.translate(str.maketrans('', '', string.punctuation)))"
   ]
  },
  {
   "cell_type": "code",
   "execution_count": 42,
   "id": "228721c6",
   "metadata": {},
   "outputs": [
    {
     "name": "stdout",
     "output_type": "stream",
     "text": [
      "         tweet_id   author_id  inbound                created_at  \\\n",
      "576082     648216       10026     True 2017-10-05 00:08:01+00:00   \n",
      "1543061   1693185       10026     True 2017-11-06 15:38:24+00:00   \n",
      "1543060   1693184       10026     True 2017-11-06 15:45:29+00:00   \n",
      "637146     713796      100363     True 2017-10-10 22:25:39+00:00   \n",
      "1752883   1906927       10103     True 2017-10-25 09:42:58+00:00   \n",
      "...           ...         ...      ...                       ...   \n",
      "563523     634902  sprintcare    False 2017-11-22 16:50:06+00:00   \n",
      "1547778   1698065  sprintcare    False 2017-11-06 23:38:30+00:00   \n",
      "1444813   1589060  sprintcare    False 2017-11-04 23:20:15+00:00   \n",
      "2075585   2234492  sprintcare    False 2017-11-10 18:17:30+00:00   \n",
      "2325021   2491088  sprintcare    False 2017-11-15 17:13:42+00:00   \n",
      "\n",
      "                                                      text  \\\n",
      "576082   Screw you @116016 and your stupid Blueprint pr...   \n",
      "1543061  Dear @ChaseSupport, it’s kinda hard to pay my ...   \n",
      "1543060  @ChaseSupport Actually it just doesn’t work in...   \n",
      "637146   Now the flight @Delta is sending our bag back ...   \n",
      "1752883  @MOO Big thanks to Quentin for the exceptional...   \n",
      "...                                                    ...   \n",
      "563523   @270560 Let's see what's going on. Please send...   \n",
      "1547778  @515037 Let’s do some troubleshooting. Can you...   \n",
      "1444813  @488653 We apologize for the delay in helping ...   \n",
      "2075585  @196099 Please send us a Direct Message, so th...   \n",
      "2325021  @711261 Send me a DM so that I can take a look...   \n",
      "\n",
      "                       response_tweet_id  in_response_to_tweet_id  \\\n",
      "576082                            648215                      NaN   \n",
      "1543061                          1693184                      NaN   \n",
      "1543060                          1693183                1693185.0   \n",
      "637146                            713795                      NaN   \n",
      "1752883                          1906926                      NaN   \n",
      "...                                  ...                      ...   \n",
      "563523                               NaN                 634903.0   \n",
      "1547778                              NaN                1698066.0   \n",
      "1444813  1589061,1589062,1589063,1589064                1589065.0   \n",
      "2075585                              NaN                2234491.0   \n",
      "2325021                              NaN                2491089.0   \n",
      "\n",
      "                                                text_lower  \\\n",
      "576082   screw you @116016 and your stupid blueprint pr...   \n",
      "1543061  dear @chasesupport, it’s kinda hard to pay my ...   \n",
      "1543060  @chasesupport actually it just doesn’t work in...   \n",
      "637146   now the flight @delta is sending our bag back ...   \n",
      "1752883  @moo big thanks to quentin for the exceptional...   \n",
      "...                                                    ...   \n",
      "563523   @270560 let's see what's going on. please send...   \n",
      "1547778  @515037 let’s do some troubleshooting. can you...   \n",
      "1444813  @488653 we apologize for the delay in helping ...   \n",
      "2075585  @196099 please send us a direct message, so th...   \n",
      "2325021  @711261 send me a dm so that i can take a look...   \n",
      "\n",
      "                                                  no_punct  \n",
      "576082   screw you 116016 and your stupid blueprint pro...  \n",
      "1543061  dear chasesupport it’s kinda hard to pay my bi...  \n",
      "1543060  chasesupport actually it just doesn’t work in ...  \n",
      "637146   now the flight delta is sending our bag back o...  \n",
      "1752883  moo big thanks to quentin for the exceptional ...  \n",
      "...                                                    ...  \n",
      "563523   270560 lets see whats going on please send us ...  \n",
      "1547778  515037 let’s do some troubleshooting can you f...  \n",
      "1444813  488653 we apologize for the delay in helping y...  \n",
      "2075585  196099 please send us a direct message so that...  \n",
      "2325021  711261 send me a dm so that i can take a look ...  \n",
      "\n",
      "[2811774 rows x 9 columns]\n"
     ]
    }
   ],
   "source": [
    "print(dataset)"
   ]
  },
  {
   "cell_type": "markdown",
   "id": "a63e5dc8",
   "metadata": {},
   "source": [
    "#### Stemming (reduce words to their base form)"
   ]
  },
  {
   "cell_type": "code",
   "execution_count": 43,
   "id": "a48b7ca2",
   "metadata": {},
   "outputs": [],
   "source": [
    "stemmer = PorterStemmer()\n",
    "dataset['text'] = dataset['text'].apply(lambda x: ' '.join([stemmer.stem(word) for word in x.split()]))"
   ]
  },
  {
   "cell_type": "markdown",
   "id": "122aee14",
   "metadata": {},
   "source": [
    "#### Lemmatization (combines similar meaning words as one word)"
   ]
  },
  {
   "cell_type": "code",
   "execution_count": 44,
   "id": "f94e6cd0",
   "metadata": {},
   "outputs": [],
   "source": [
    "lemmatizer = WordNetLemmatizer()\n",
    "dataset['text'] = dataset['text'].apply(lambda x: ' '.join([lemmatizer.lemmatize(word) for word in x.split()]))"
   ]
  },
  {
   "cell_type": "code",
   "execution_count": 46,
   "id": "df026493",
   "metadata": {},
   "outputs": [
    {
     "name": "stdout",
     "output_type": "stream",
     "text": [
      "         tweet_id author_id  inbound                created_at  \\\n",
      "576082     648216     10026     True 2017-10-05 00:08:01+00:00   \n",
      "1543061   1693185     10026     True 2017-11-06 15:38:24+00:00   \n",
      "1543060   1693184     10026     True 2017-11-06 15:45:29+00:00   \n",
      "637146     713796    100363     True 2017-10-10 22:25:39+00:00   \n",
      "1752883   1906927     10103     True 2017-10-25 09:42:58+00:00   \n",
      "2071249   2230369     10103     True 2017-11-10 12:20:40+00:00   \n",
      "1871115   2027294     10221     True 2017-11-06 19:05:45+00:00   \n",
      "815955     909357     10221     True 2017-10-21 05:20:48+00:00   \n",
      "2566140   2737084     10286     True 2017-11-18 00:40:34+00:00   \n",
      "1082215   1197566     10297     True 2017-10-25 03:12:36+00:00   \n",
      "\n",
      "                                                      text response_tweet_id  \\\n",
      "576082   screw you @116016 and your stupid blueprint pr...            648215   \n",
      "1543061  dear @chasesupport, it’ kinda hard to pay my b...           1693184   \n",
      "1543060  @chasesupport actual it just doesn’t work in s...           1693183   \n",
      "637146   now the flight @delta is send our bag back on ...            713795   \n",
      "1752883  @moo big thank to quentin for the except servi...           1906926   \n",
      "2071249  the ribotrainbow! new #businesscard thank to @...           2230368   \n",
      "1871115                      same. https://t.co/gxkjt8bnv6           2027293   \n",
      "815955                         yup https://t.co/gpkfa9mfhq            909356   \n",
      "2566140  @comcastcar is it possibl to get busi class in...           2737083   \n",
      "1082215          @delta i will never fli your airlin again           1197564   \n",
      "\n",
      "         in_response_to_tweet_id  \\\n",
      "576082                       NaN   \n",
      "1543061                      NaN   \n",
      "1543060                1693185.0   \n",
      "637146                       NaN   \n",
      "1752883                      NaN   \n",
      "2071249                      NaN   \n",
      "1871115                      NaN   \n",
      "815955                       NaN   \n",
      "2566140                      NaN   \n",
      "1082215                      NaN   \n",
      "\n",
      "                                                text_lower  \\\n",
      "576082   screw you @116016 and your stupid blueprint pr...   \n",
      "1543061  dear @chasesupport, it’s kinda hard to pay my ...   \n",
      "1543060  @chasesupport actually it just doesn’t work in...   \n",
      "637146   now the flight @delta is sending our bag back ...   \n",
      "1752883  @moo big thanks to quentin for the exceptional...   \n",
      "2071249  the ribotrainbow! new #businesscards thanks to...   \n",
      "1871115                      same. https://t.co/gxkjt8bnv6   \n",
      "815955                         yup https://t.co/gpkfa9mfhq   \n",
      "2566140  @comcastcares is it possible to get business c...   \n",
      "1082215         @delta i will never fly your airline again   \n",
      "\n",
      "                                                  no_punct  \n",
      "576082   screw you 116016 and your stupid blueprint pro...  \n",
      "1543061  dear chasesupport it’s kinda hard to pay my bi...  \n",
      "1543060  chasesupport actually it just doesn’t work in ...  \n",
      "637146   now the flight delta is sending our bag back o...  \n",
      "1752883  moo big thanks to quentin for the exceptional ...  \n",
      "2071249  the ribotrainbow new businesscards thanks to m...  \n",
      "1871115                            same httpstcogxkjt8bnv6  \n",
      "815955                              yup httpstcogpkfa9mfhq  \n",
      "2566140  comcastcares is it possible to get business cl...  \n",
      "1082215          delta i will never fly your airline again  \n"
     ]
    }
   ],
   "source": [
    "print(dataset.head(10))"
   ]
  },
  {
   "cell_type": "markdown",
   "id": "ff55d811",
   "metadata": {},
   "source": [
    "#### Removal of Emoticons (punctuation marks, letters, and numbers)"
   ]
  },
  {
   "cell_type": "code",
   "execution_count": null,
   "id": "4ce73dfa",
   "metadata": {},
   "outputs": [],
   "source": [
    "def remove_emoticons(text):\n",
    "    emoticon_pattern = re.compile(u'(' + u'|'.join(k for k in EMOTICONS) + u')')\n",
    "    return emoticon_pattern.sub(r'', text)\n",
    "dataset['text'] = dataset['text'].apply(remove_emoticons)"
   ]
  },
  {
   "cell_type": "markdown",
   "id": "49a0721a",
   "metadata": {},
   "source": [
    "#### Remove URLs"
   ]
  },
  {
   "cell_type": "code",
   "execution_count": null,
   "id": "61b37b88",
   "metadata": {},
   "outputs": [],
   "source": [
    "dataset['text'] = dataset['text'].str.replace(r'http\\S+|www\\S+|https\\S+', '', case=False)"
   ]
  },
  {
   "cell_type": "markdown",
   "id": "948bd9a1",
   "metadata": {},
   "source": [
    "#### Remove HTML Tags"
   ]
  },
  {
   "cell_type": "code",
   "execution_count": null,
   "id": "6be11f31",
   "metadata": {},
   "outputs": [],
   "source": [
    "dataset['text'] = dataset['text'].apply(lambda x: BeautifulSoup(x, 'html.parser').get_text())"
   ]
  },
  {
   "cell_type": "markdown",
   "id": "4749929a",
   "metadata": {},
   "source": [
    "#### Spelling Corrector "
   ]
  },
  {
   "cell_type": "code",
   "execution_count": null,
   "id": "515175ca",
   "metadata": {},
   "outputs": [],
   "source": [
    "spell = SpellChecker()\n",
    "dataset['text'] = dataset['text'].apply(lambda x: ' '.join([spell.correction(word) for word in x.split()]))"
   ]
  },
  {
   "cell_type": "code",
   "execution_count": null,
   "id": "7418d934",
   "metadata": {},
   "outputs": [],
   "source": [
    "//////////////////////////////////////////////"
   ]
  },
  {
   "cell_type": "markdown",
   "id": "bc5a85fb",
   "metadata": {},
   "source": [
    "## Customer Support Twitter Analysis for Technology Companies\n",
    "\n",
    "##### Objective:\n",
    "This notebook explores customer interactions in a Customer Support Twitter dataset. We focus on understanding the relationship between response times and customer satisfaction for technology support services, including MicrosoftHelps, AppleSupport, DellCares, and HPSupport.\n",
    "\n",
    "##### Approach:\n",
    "Through meticulous analysis, we get into response times and customer sentiments in conversations. By examining these factors, we aim to uncover valuable patterns and trends, offering insights into effective customer support practices.\n",
    "\n",
    "##### Key Question: \n",
    "What is the relationship between average response time & customer satisfaction for each technology support service?\n",
    "\n",
    "##### Purpose impact:\n",
    "This analysis aims to help the analyzed companies by providing actionable insights derived from customer interactions. By understanding customer sentiments and response dynamics, these technology support companies can optimize their communication strategies, fostering improved customer satisfaction and engagement."
   ]
  },
  {
   "cell_type": "markdown",
   "id": "223c7c94",
   "metadata": {},
   "source": [
    "#### Load the Dataset"
   ]
  },
  {
   "cell_type": "code",
   "execution_count": 47,
   "id": "86ed1904",
   "metadata": {},
   "outputs": [
    {
     "data": {
      "text/html": [
       "<div>\n",
       "<style scoped>\n",
       "    .dataframe tbody tr th:only-of-type {\n",
       "        vertical-align: middle;\n",
       "    }\n",
       "\n",
       "    .dataframe tbody tr th {\n",
       "        vertical-align: top;\n",
       "    }\n",
       "\n",
       "    .dataframe thead th {\n",
       "        text-align: right;\n",
       "    }\n",
       "</style>\n",
       "<table border=\"1\" class=\"dataframe\">\n",
       "  <thead>\n",
       "    <tr style=\"text-align: right;\">\n",
       "      <th></th>\n",
       "      <th>tweet_id</th>\n",
       "      <th>author_id</th>\n",
       "      <th>inbound</th>\n",
       "      <th>created_at</th>\n",
       "      <th>text</th>\n",
       "      <th>response_tweet_id</th>\n",
       "      <th>in_response_to_tweet_id</th>\n",
       "    </tr>\n",
       "  </thead>\n",
       "  <tbody>\n",
       "    <tr>\n",
       "      <th>0</th>\n",
       "      <td>1</td>\n",
       "      <td>sprintcare</td>\n",
       "      <td>False</td>\n",
       "      <td>Tue Oct 31 22:10:47 +0000 2017</td>\n",
       "      <td>@115712 I understand. I would like to assist y...</td>\n",
       "      <td>2</td>\n",
       "      <td>3.0</td>\n",
       "    </tr>\n",
       "    <tr>\n",
       "      <th>1</th>\n",
       "      <td>2</td>\n",
       "      <td>115712</td>\n",
       "      <td>True</td>\n",
       "      <td>Tue Oct 31 22:11:45 +0000 2017</td>\n",
       "      <td>@sprintcare and how do you propose we do that</td>\n",
       "      <td>NaN</td>\n",
       "      <td>1.0</td>\n",
       "    </tr>\n",
       "    <tr>\n",
       "      <th>2</th>\n",
       "      <td>3</td>\n",
       "      <td>115712</td>\n",
       "      <td>True</td>\n",
       "      <td>Tue Oct 31 22:08:27 +0000 2017</td>\n",
       "      <td>@sprintcare I have sent several private messag...</td>\n",
       "      <td>1</td>\n",
       "      <td>4.0</td>\n",
       "    </tr>\n",
       "    <tr>\n",
       "      <th>3</th>\n",
       "      <td>4</td>\n",
       "      <td>sprintcare</td>\n",
       "      <td>False</td>\n",
       "      <td>Tue Oct 31 21:54:49 +0000 2017</td>\n",
       "      <td>@115712 Please send us a Private Message so th...</td>\n",
       "      <td>3</td>\n",
       "      <td>5.0</td>\n",
       "    </tr>\n",
       "    <tr>\n",
       "      <th>4</th>\n",
       "      <td>5</td>\n",
       "      <td>115712</td>\n",
       "      <td>True</td>\n",
       "      <td>Tue Oct 31 21:49:35 +0000 2017</td>\n",
       "      <td>@sprintcare I did.</td>\n",
       "      <td>4</td>\n",
       "      <td>6.0</td>\n",
       "    </tr>\n",
       "    <tr>\n",
       "      <th>5</th>\n",
       "      <td>6</td>\n",
       "      <td>sprintcare</td>\n",
       "      <td>False</td>\n",
       "      <td>Tue Oct 31 21:46:24 +0000 2017</td>\n",
       "      <td>@115712 Can you please send us a private messa...</td>\n",
       "      <td>5,7</td>\n",
       "      <td>8.0</td>\n",
       "    </tr>\n",
       "    <tr>\n",
       "      <th>6</th>\n",
       "      <td>8</td>\n",
       "      <td>115712</td>\n",
       "      <td>True</td>\n",
       "      <td>Tue Oct 31 21:45:10 +0000 2017</td>\n",
       "      <td>@sprintcare is the worst customer service</td>\n",
       "      <td>9,6,10</td>\n",
       "      <td>NaN</td>\n",
       "    </tr>\n",
       "    <tr>\n",
       "      <th>7</th>\n",
       "      <td>11</td>\n",
       "      <td>sprintcare</td>\n",
       "      <td>False</td>\n",
       "      <td>Tue Oct 31 22:10:35 +0000 2017</td>\n",
       "      <td>@115713 This is saddening to hear. Please shoo...</td>\n",
       "      <td>NaN</td>\n",
       "      <td>12.0</td>\n",
       "    </tr>\n",
       "    <tr>\n",
       "      <th>8</th>\n",
       "      <td>12</td>\n",
       "      <td>115713</td>\n",
       "      <td>True</td>\n",
       "      <td>Tue Oct 31 22:04:47 +0000 2017</td>\n",
       "      <td>@sprintcare You gonna magically change your co...</td>\n",
       "      <td>11,13,14</td>\n",
       "      <td>15.0</td>\n",
       "    </tr>\n",
       "    <tr>\n",
       "      <th>9</th>\n",
       "      <td>15</td>\n",
       "      <td>sprintcare</td>\n",
       "      <td>False</td>\n",
       "      <td>Tue Oct 31 20:03:31 +0000 2017</td>\n",
       "      <td>@115713 We understand your concerns and we'd l...</td>\n",
       "      <td>12</td>\n",
       "      <td>16.0</td>\n",
       "    </tr>\n",
       "  </tbody>\n",
       "</table>\n",
       "</div>"
      ],
      "text/plain": [
       "   tweet_id   author_id  inbound                      created_at  \\\n",
       "0         1  sprintcare    False  Tue Oct 31 22:10:47 +0000 2017   \n",
       "1         2      115712     True  Tue Oct 31 22:11:45 +0000 2017   \n",
       "2         3      115712     True  Tue Oct 31 22:08:27 +0000 2017   \n",
       "3         4  sprintcare    False  Tue Oct 31 21:54:49 +0000 2017   \n",
       "4         5      115712     True  Tue Oct 31 21:49:35 +0000 2017   \n",
       "5         6  sprintcare    False  Tue Oct 31 21:46:24 +0000 2017   \n",
       "6         8      115712     True  Tue Oct 31 21:45:10 +0000 2017   \n",
       "7        11  sprintcare    False  Tue Oct 31 22:10:35 +0000 2017   \n",
       "8        12      115713     True  Tue Oct 31 22:04:47 +0000 2017   \n",
       "9        15  sprintcare    False  Tue Oct 31 20:03:31 +0000 2017   \n",
       "\n",
       "                                                text response_tweet_id  \\\n",
       "0  @115712 I understand. I would like to assist y...                 2   \n",
       "1      @sprintcare and how do you propose we do that               NaN   \n",
       "2  @sprintcare I have sent several private messag...                 1   \n",
       "3  @115712 Please send us a Private Message so th...                 3   \n",
       "4                                 @sprintcare I did.                 4   \n",
       "5  @115712 Can you please send us a private messa...               5,7   \n",
       "6          @sprintcare is the worst customer service            9,6,10   \n",
       "7  @115713 This is saddening to hear. Please shoo...               NaN   \n",
       "8  @sprintcare You gonna magically change your co...          11,13,14   \n",
       "9  @115713 We understand your concerns and we'd l...                12   \n",
       "\n",
       "   in_response_to_tweet_id  \n",
       "0                      3.0  \n",
       "1                      1.0  \n",
       "2                      4.0  \n",
       "3                      5.0  \n",
       "4                      6.0  \n",
       "5                      8.0  \n",
       "6                      NaN  \n",
       "7                     12.0  \n",
       "8                     15.0  \n",
       "9                     16.0  "
      ]
     },
     "execution_count": 47,
     "metadata": {},
     "output_type": "execute_result"
    }
   ],
   "source": [
    "file_path = 'twcs.csv'\n",
    "data_set = pd.read_csv('twcs.csv')\n",
    "data_set.head(10)"
   ]
  },
  {
   "cell_type": "code",
   "execution_count": 48,
   "id": "d18809ee",
   "metadata": {},
   "outputs": [
    {
     "data": {
      "text/plain": [
       "(2811774, 7)"
      ]
     },
     "execution_count": 48,
     "metadata": {},
     "output_type": "execute_result"
    }
   ],
   "source": [
    "data_set.shape"
   ]
  },
  {
   "cell_type": "markdown",
   "id": "89a7e888",
   "metadata": {},
   "source": [
    "#### Exploring and cleaning the data to obtain specific companies "
   ]
  },
  {
   "cell_type": "code",
   "execution_count": 49,
   "id": "a72e0686",
   "metadata": {},
   "outputs": [],
   "source": [
    "filtered_data = data_set[data_set['author_id'].isin(['MicrosoftHelps', 'AppleSupport', 'DellCares', 'HPSupport'])]"
   ]
  },
  {
   "cell_type": "code",
   "execution_count": 50,
   "id": "89ffac24",
   "metadata": {},
   "outputs": [
    {
     "data": {
      "text/html": [
       "<div>\n",
       "<style scoped>\n",
       "    .dataframe tbody tr th:only-of-type {\n",
       "        vertical-align: middle;\n",
       "    }\n",
       "\n",
       "    .dataframe tbody tr th {\n",
       "        vertical-align: top;\n",
       "    }\n",
       "\n",
       "    .dataframe thead th {\n",
       "        text-align: right;\n",
       "    }\n",
       "</style>\n",
       "<table border=\"1\" class=\"dataframe\">\n",
       "  <thead>\n",
       "    <tr style=\"text-align: right;\">\n",
       "      <th></th>\n",
       "      <th>tweet_id</th>\n",
       "      <th>author_id</th>\n",
       "      <th>inbound</th>\n",
       "      <th>created_at</th>\n",
       "      <th>text</th>\n",
       "      <th>response_tweet_id</th>\n",
       "      <th>in_response_to_tweet_id</th>\n",
       "    </tr>\n",
       "  </thead>\n",
       "  <tbody>\n",
       "    <tr>\n",
       "      <th>120</th>\n",
       "      <td>203</td>\n",
       "      <td>MicrosoftHelps</td>\n",
       "      <td>False</td>\n",
       "      <td>Tue Oct 31 22:08:00 +0000 2017</td>\n",
       "      <td>@115751 Hello, Josh! To get better assistance ...</td>\n",
       "      <td>204</td>\n",
       "      <td>205.0</td>\n",
       "    </tr>\n",
       "    <tr>\n",
       "      <th>123</th>\n",
       "      <td>207</td>\n",
       "      <td>MicrosoftHelps</td>\n",
       "      <td>False</td>\n",
       "      <td>Tue Oct 31 22:04:21 +0000 2017</td>\n",
       "      <td>@115752 Help is here. To assist you in recover...</td>\n",
       "      <td>NaN</td>\n",
       "      <td>208.0</td>\n",
       "    </tr>\n",
       "    <tr>\n",
       "      <th>396</th>\n",
       "      <td>696</td>\n",
       "      <td>AppleSupport</td>\n",
       "      <td>False</td>\n",
       "      <td>Tue Oct 31 22:27:49 +0000 2017</td>\n",
       "      <td>@115854 We're here for you. Which version of t...</td>\n",
       "      <td>697</td>\n",
       "      <td>698.0</td>\n",
       "    </tr>\n",
       "    <tr>\n",
       "      <th>398</th>\n",
       "      <td>699</td>\n",
       "      <td>AppleSupport</td>\n",
       "      <td>False</td>\n",
       "      <td>Tue Oct 31 22:36:27 +0000 2017</td>\n",
       "      <td>@115854 Lets take a closer look into this issu...</td>\n",
       "      <td>NaN</td>\n",
       "      <td>697.0</td>\n",
       "    </tr>\n",
       "    <tr>\n",
       "      <th>401</th>\n",
       "      <td>701</td>\n",
       "      <td>AppleSupport</td>\n",
       "      <td>False</td>\n",
       "      <td>Tue Oct 31 22:26:49 +0000 2017</td>\n",
       "      <td>@115855 Let's go to DM for the next steps. DM ...</td>\n",
       "      <td>NaN</td>\n",
       "      <td>702.0</td>\n",
       "    </tr>\n",
       "    <tr>\n",
       "      <th>403</th>\n",
       "      <td>703</td>\n",
       "      <td>AppleSupport</td>\n",
       "      <td>False</td>\n",
       "      <td>Tue Oct 31 22:09:52 +0000 2017</td>\n",
       "      <td>@115855 Any steps tried since it started last ...</td>\n",
       "      <td>702</td>\n",
       "      <td>704.0</td>\n",
       "    </tr>\n",
       "    <tr>\n",
       "      <th>405</th>\n",
       "      <td>705</td>\n",
       "      <td>AppleSupport</td>\n",
       "      <td>False</td>\n",
       "      <td>Tue Oct 31 21:57:00 +0000 2017</td>\n",
       "      <td>@115855 That's great it has iOS 11.1 as we can...</td>\n",
       "      <td>706,704</td>\n",
       "      <td>707.0</td>\n",
       "    </tr>\n",
       "    <tr>\n",
       "      <th>407</th>\n",
       "      <td>708</td>\n",
       "      <td>AppleSupport</td>\n",
       "      <td>False</td>\n",
       "      <td>Tue Oct 31 21:43:15 +0000 2017</td>\n",
       "      <td>@115855 We'd like to look into this with you. ...</td>\n",
       "      <td>707</td>\n",
       "      <td>709.0</td>\n",
       "    </tr>\n",
       "    <tr>\n",
       "      <th>411</th>\n",
       "      <td>712</td>\n",
       "      <td>AppleSupport</td>\n",
       "      <td>False</td>\n",
       "      <td>Tue Oct 31 22:26:29 +0000 2017</td>\n",
       "      <td>@115856 Hey, let's work together to figure out...</td>\n",
       "      <td>713</td>\n",
       "      <td>714.0</td>\n",
       "    </tr>\n",
       "    <tr>\n",
       "      <th>414</th>\n",
       "      <td>716</td>\n",
       "      <td>AppleSupport</td>\n",
       "      <td>False</td>\n",
       "      <td>Tue Oct 31 22:24:54 +0000 2017</td>\n",
       "      <td>@115857 We'd like to investigate further with ...</td>\n",
       "      <td>NaN</td>\n",
       "      <td>717.0</td>\n",
       "    </tr>\n",
       "  </tbody>\n",
       "</table>\n",
       "</div>"
      ],
      "text/plain": [
       "     tweet_id       author_id  inbound                      created_at  \\\n",
       "120       203  MicrosoftHelps    False  Tue Oct 31 22:08:00 +0000 2017   \n",
       "123       207  MicrosoftHelps    False  Tue Oct 31 22:04:21 +0000 2017   \n",
       "396       696    AppleSupport    False  Tue Oct 31 22:27:49 +0000 2017   \n",
       "398       699    AppleSupport    False  Tue Oct 31 22:36:27 +0000 2017   \n",
       "401       701    AppleSupport    False  Tue Oct 31 22:26:49 +0000 2017   \n",
       "403       703    AppleSupport    False  Tue Oct 31 22:09:52 +0000 2017   \n",
       "405       705    AppleSupport    False  Tue Oct 31 21:57:00 +0000 2017   \n",
       "407       708    AppleSupport    False  Tue Oct 31 21:43:15 +0000 2017   \n",
       "411       712    AppleSupport    False  Tue Oct 31 22:26:29 +0000 2017   \n",
       "414       716    AppleSupport    False  Tue Oct 31 22:24:54 +0000 2017   \n",
       "\n",
       "                                                  text response_tweet_id  \\\n",
       "120  @115751 Hello, Josh! To get better assistance ...               204   \n",
       "123  @115752 Help is here. To assist you in recover...               NaN   \n",
       "396  @115854 We're here for you. Which version of t...               697   \n",
       "398  @115854 Lets take a closer look into this issu...               NaN   \n",
       "401  @115855 Let's go to DM for the next steps. DM ...               NaN   \n",
       "403  @115855 Any steps tried since it started last ...               702   \n",
       "405  @115855 That's great it has iOS 11.1 as we can...           706,704   \n",
       "407  @115855 We'd like to look into this with you. ...               707   \n",
       "411  @115856 Hey, let's work together to figure out...               713   \n",
       "414  @115857 We'd like to investigate further with ...               NaN   \n",
       "\n",
       "     in_response_to_tweet_id  \n",
       "120                    205.0  \n",
       "123                    208.0  \n",
       "396                    698.0  \n",
       "398                    697.0  \n",
       "401                    702.0  \n",
       "403                    704.0  \n",
       "405                    707.0  \n",
       "407                    709.0  \n",
       "411                    714.0  \n",
       "414                    717.0  "
      ]
     },
     "execution_count": 50,
     "metadata": {},
     "output_type": "execute_result"
    }
   ],
   "source": [
    "filtered_data.head(10)"
   ]
  },
  {
   "cell_type": "code",
   "execution_count": 51,
   "id": "f160fea9",
   "metadata": {},
   "outputs": [
    {
     "data": {
      "text/html": [
       "<div>\n",
       "<style scoped>\n",
       "    .dataframe tbody tr th:only-of-type {\n",
       "        vertical-align: middle;\n",
       "    }\n",
       "\n",
       "    .dataframe tbody tr th {\n",
       "        vertical-align: top;\n",
       "    }\n",
       "\n",
       "    .dataframe thead th {\n",
       "        text-align: right;\n",
       "    }\n",
       "</style>\n",
       "<table border=\"1\" class=\"dataframe\">\n",
       "  <thead>\n",
       "    <tr style=\"text-align: right;\">\n",
       "      <th></th>\n",
       "      <th>author_id</th>\n",
       "      <th>inbound</th>\n",
       "      <th>count</th>\n",
       "    </tr>\n",
       "  </thead>\n",
       "  <tbody>\n",
       "    <tr>\n",
       "      <th>0</th>\n",
       "      <td>AppleSupport</td>\n",
       "      <td>False</td>\n",
       "      <td>106860</td>\n",
       "    </tr>\n",
       "    <tr>\n",
       "      <th>1</th>\n",
       "      <td>DellCares</td>\n",
       "      <td>False</td>\n",
       "      <td>5336</td>\n",
       "    </tr>\n",
       "    <tr>\n",
       "      <th>2</th>\n",
       "      <td>HPSupport</td>\n",
       "      <td>False</td>\n",
       "      <td>7200</td>\n",
       "    </tr>\n",
       "    <tr>\n",
       "      <th>3</th>\n",
       "      <td>MicrosoftHelps</td>\n",
       "      <td>False</td>\n",
       "      <td>11304</td>\n",
       "    </tr>\n",
       "  </tbody>\n",
       "</table>\n",
       "</div>"
      ],
      "text/plain": [
       "        author_id  inbound   count\n",
       "0    AppleSupport    False  106860\n",
       "1       DellCares    False    5336\n",
       "2       HPSupport    False    7200\n",
       "3  MicrosoftHelps    False   11304"
      ]
     },
     "execution_count": 51,
     "metadata": {},
     "output_type": "execute_result"
    }
   ],
   "source": [
    "# Group the filtered data and count the number of tweets in each company\n",
    "grouped_data = filtered_data.groupby(['author_id', 'inbound']).size().reset_index(name='count')\n",
    "grouped_data.head(10)"
   ]
  },
  {
   "cell_type": "markdown",
   "id": "de73c081",
   "metadata": {},
   "source": [
    "#### How many null values does the filtered data contain?"
   ]
  },
  {
   "cell_type": "code",
   "execution_count": 52,
   "id": "5fe86d8b",
   "metadata": {},
   "outputs": [
    {
     "name": "stdout",
     "output_type": "stream",
     "text": [
      "tweet_id                       0\n",
      "author_id                      0\n",
      "inbound                        0\n",
      "created_at                     0\n",
      "text                           0\n",
      "response_tweet_id          91724\n",
      "in_response_to_tweet_id      332\n",
      "dtype: int64\n"
     ]
    }
   ],
   "source": [
    "print(filtered_data.isnull().sum())"
   ]
  },
  {
   "cell_type": "code",
   "execution_count": 53,
   "id": "4d44c310",
   "metadata": {},
   "outputs": [],
   "source": [
    "# Handle Missing Values\n",
    "filtered_data = data_set.dropna()"
   ]
  },
  {
   "cell_type": "code",
   "execution_count": 55,
   "id": "d6c867c8",
   "metadata": {},
   "outputs": [
    {
     "name": "stdout",
     "output_type": "stream",
     "text": [
      "tweet_id                   0\n",
      "author_id                  0\n",
      "inbound                    0\n",
      "created_at                 0\n",
      "text                       0\n",
      "response_tweet_id          0\n",
      "in_response_to_tweet_id    0\n",
      "dtype: int64\n"
     ]
    }
   ],
   "source": [
    "print(filtered_data.isnull().sum())"
   ]
  },
  {
   "cell_type": "markdown",
   "id": "15351f28",
   "metadata": {},
   "source": [
    "#### What company has the most and least amount of tweets?"
   ]
  },
  {
   "cell_type": "code",
   "execution_count": 56,
   "id": "4c1fc442",
   "metadata": {},
   "outputs": [
    {
     "data": {
      "image/png": "[encoded data removed]",
      "text/plain": [
       "<Figure size 700x400 with 1 Axes>"
      ]
     },
     "metadata": {},
     "output_type": "display_data"
    }
   ],
   "source": [
    "companies = grouped_data['author_id']\n",
    "inbound_counts = grouped_data['count']\n",
    "colors = ['red', 'blue', 'green', 'purple']\n",
    "plt.figure(figsize=(7, 4))\n",
    "plt.bar(companies, inbound_counts, color=colors, edgecolor='black')\n",
    "plt.xlabel('Company')\n",
    "plt.ylabel('Number of Tweets')\n",
    "plt.title('Number of Inbound Tweets for Each Company')\n",
    "plt.xticks(rotation=45) \n",
    "plt.show();"
   ]
  },
  {
   "cell_type": "markdown",
   "id": "f815dc46",
   "metadata": {},
   "source": [
    "#### Now let's find the average response times for each company"
   ]
  },
  {
   "cell_type": "code",
   "execution_count": 57,
   "id": "cc83dad0",
   "metadata": {},
   "outputs": [],
   "source": [
    "filtered_data = data_set[data_set['author_id'].str.contains('MicrosoftHelps|AppleSupport|DellCares|HPSupport', case=False)]"
   ]
  },
  {
   "cell_type": "code",
   "execution_count": 58,
   "id": "59b4f298",
   "metadata": {},
   "outputs": [],
   "source": [
    "# Convert 'created_at' and 'response_tweet_id' columns to datetime\n",
    "filtered_data['created_at'] = pd.to_datetime(filtered_data['created_at'], errors='coerce').dt.tz_localize(None)\n",
    "filtered_data['response_tweet_id'] = pd.to_datetime(filtered_data['response_tweet_id'], errors='coerce').dt.tz_localize(None)"
   ]
  },
  {
   "cell_type": "code",
   "execution_count": 59,
   "id": "c854985a",
   "metadata": {},
   "outputs": [],
   "source": [
    "# Filter out rows where 'response_tweet_id' or 'created_at' couldn't be parsed\n",
    "cleaned_filtered_data = filtered_data.dropna(subset=['created_at', 'response_tweet_id'])"
   ]
  },
  {
   "cell_type": "code",
   "execution_count": 60,
   "id": "2f442c12",
   "metadata": {},
   "outputs": [],
   "source": [
    "# Calculate response time in seconds \n",
    "cleaned_filtered_data['response_time'] = (cleaned_filtered_data['response_tweet_id'] - cleaned_filtered_data['created_at']).dt.total_seconds()"
   ]
  },
  {
   "cell_type": "markdown",
   "id": "53ad5e1e",
   "metadata": {},
   "source": [
    "#### Results for average response times"
   ]
  },
  {
   "cell_type": "code",
   "execution_count": 61,
   "id": "b70ac0e7",
   "metadata": {},
   "outputs": [
    {
     "name": "stdout",
     "output_type": "stream",
     "text": [
      "author_id\n",
      "AppleSupport      1.145536e+08\n",
      "DellCares         1.839929e+07\n",
      "HPSupport         7.365916e+08\n",
      "MicrosoftHelps    3.703211e+08\n",
      "Name: response_time, dtype: float64\n"
     ]
    }
   ],
   "source": [
    "average_response_time = cleaned_filtered_data.groupby('author_id')['response_time'].mean()\n",
    "print(average_response_time)"
   ]
  },
  {
   "cell_type": "markdown",
   "id": "baf21cbd",
   "metadata": {},
   "source": [
    "#### What companies have the fastest and slowest response time?"
   ]
  },
  {
   "cell_type": "code",
   "execution_count": 62,
   "id": "927bc3e0",
   "metadata": {
    "scrolled": true
   },
   "outputs": [
    {
     "data": {
      "image/png": "[encoded data removed]",
      "text/plain": [
       "<Figure size 800x400 with 1 Axes>"
      ]
     },
     "metadata": {},
     "output_type": "display_data"
    }
   ],
   "source": [
    "companies = average_response_time.index\n",
    "response_times = average_response_time.values\n",
    "plt.figure(figsize=(8, 4))\n",
    "colors = ['red', 'blue', 'green', 'purple']\n",
    "plt.bar(companies, response_times, color=colors, edgecolor='black')\n",
    "plt.xlabel('Company')\n",
    "plt.ylabel('Average Response Time')\n",
    "plt.title('Average Response Time for Each Company')\n",
    "plt.xticks(rotation=45)  \n",
    "plt.show()"
   ]
  },
  {
   "cell_type": "markdown",
   "id": "854f0bd4",
   "metadata": {},
   "source": [
    "#### Let's calculate the final response times for each company based on the information found"
   ]
  },
  {
   "cell_type": "markdown",
   "id": "31e720c0",
   "metadata": {},
   "source": [
    "#### AppleSupport"
   ]
  },
  {
   "cell_type": "code",
   "execution_count": 63,
   "id": "0a29f2fb",
   "metadata": {},
   "outputs": [
    {
     "name": "stdout",
     "output_type": "stream",
     "text": [
      "Final Response Time for AppleSupport: 12241197696000.0 milliseconds\n"
     ]
    }
   ],
   "source": [
    "average_response_time_apple = 1.145536e+08  \n",
    "inbound_tweet_count_apple = 106860 \n",
    "final_response_time_apple = inbound_tweet_count_apple * average_response_time_apple\n",
    "print(f\"Final Response Time for AppleSupport: {final_response_time_apple} milliseconds\")"
   ]
  },
  {
   "cell_type": "code",
   "execution_count": 64,
   "id": "e7fcb7ba",
   "metadata": {},
   "outputs": [
    {
     "data": {
      "image/png": "[encoded data removed]",
      "text/plain": [
       "<Figure size 1000x700 with 1 Axes>"
      ]
     },
     "metadata": {},
     "output_type": "display_data"
    }
   ],
   "source": [
    "categories = ['Average Response Time', 'Total Inbound Tweets', 'Final Response Time']\n",
    "values = [average_response_time_apple, inbound_tweet_count_apple, final_response_time_apple]\n",
    "\n",
    "plt.figure(figsize=(10, 7))\n",
    "plt.bar(categories, values, color=['skyblue', 'hotpink', 'greenyellow'],edgecolor='black')\n",
    "\n",
    "for i, v in enumerate(values):\n",
    "    plt.text(i, v + 0.2 * v, f\"{v:.0f}\", ha='center', va='bottom', fontsize=10)\n",
    "\n",
    "plt.ylabel('Values (Log Scale)')\n",
    "plt.yscale('log') \n",
    "plt.title('Final Response Time Analysis for AppleSupport')\n",
    "plt.show()"
   ]
  },
  {
   "cell_type": "markdown",
   "id": "ce424db6",
   "metadata": {},
   "source": [
    "#### DellCares"
   ]
  },
  {
   "cell_type": "code",
   "execution_count": 65,
   "id": "6b298805",
   "metadata": {},
   "outputs": [
    {
     "name": "stdout",
     "output_type": "stream",
     "text": [
      "Final Response Time for Dellcares: 98178611440.0 milliseconds\n"
     ]
    }
   ],
   "source": [
    "average_response_time_dell = 1.839929e+07\n",
    "inbound_tweet_count_dell = 5336\n",
    "final_response_time_dell = inbound_tweet_count_dell * average_response_time_dell\n",
    "print(f\"Final Response Time for Dellcares: {final_response_time_dell} milliseconds\")"
   ]
  },
  {
   "cell_type": "code",
   "execution_count": 66,
   "id": "c29bf5f3",
   "metadata": {},
   "outputs": [
    {
     "data": {
      "image/png": "[encoded data removed]",
      "text/plain": [
       "<Figure size 1000x700 with 1 Axes>"
      ]
     },
     "metadata": {},
     "output_type": "display_data"
    }
   ],
   "source": [
    "categories = ['Average Response Time', 'Total Inbound Tweets', 'Final Response Time']\n",
    "values = [average_response_time_dell, inbound_tweet_count_dell, final_response_time_dell]\n",
    "\n",
    "plt.figure(figsize=(10, 7))\n",
    "plt.bar(categories, values, color=['palegreen', 'deeppink', 'plum'],edgecolor='black')\n",
    "\n",
    "for i, v in enumerate(values):\n",
    "    plt.text(i, v + 0.2 * v, f\"{v:.0f}\", ha='center', va='bottom', fontsize=10)\n",
    "\n",
    "plt.ylabel('Values (Log Scale)')\n",
    "plt.yscale('log') \n",
    "plt.title('Final Response Time Analysis for DellCares')\n",
    "plt.show()"
   ]
  },
  {
   "cell_type": "markdown",
   "id": "e85e4337",
   "metadata": {},
   "source": [
    "#### HPSupport"
   ]
  },
  {
   "cell_type": "code",
   "execution_count": 67,
   "id": "b6a77c47",
   "metadata": {},
   "outputs": [
    {
     "name": "stdout",
     "output_type": "stream",
     "text": [
      "Final Response Time for HPSupport: 5303459520000.0 milliseconds\n"
     ]
    }
   ],
   "source": [
    "average_response_time_hp = 7.365916e+08\n",
    "inbound_tweet_count_hp = 7200\n",
    "final_response_time_hp = inbound_tweet_count_hp * average_response_time_hp\n",
    "print(f\"Final Response Time for HPSupport: {final_response_time_hp} milliseconds\")"
   ]
  },
  {
   "cell_type": "code",
   "execution_count": 68,
   "id": "de390ad4",
   "metadata": {},
   "outputs": [
    {
     "data": {
      "image/png": "[encoded data removed]",
      "text/plain": [
       "<Figure size 1000x700 with 1 Axes>"
      ]
     },
     "metadata": {},
     "output_type": "display_data"
    }
   ],
   "source": [
    "categories = ['Average Response Time', 'Total Inbound Tweets', 'Final Response Time']\n",
    "values = [average_response_time_hp, inbound_tweet_count_hp, final_response_time_hp]\n",
    "\n",
    "plt.figure(figsize=(10, 7))\n",
    "plt.bar(categories, values, color=['plum', 'yellow', 'aquamarine'],edgecolor='black')\n",
    "\n",
    "for i, v in enumerate(values):\n",
    "    plt.text(i, v + 0.2 * v, f\"{v:.0f}\", ha='center', va='bottom', fontsize=10)\n",
    "\n",
    "plt.ylabel('Values (Log Scale)')\n",
    "plt.yscale('log') \n",
    "plt.title('Final Response Time Analysis for HPSupport')\n",
    "plt.show()"
   ]
  },
  {
   "cell_type": "code",
   "execution_count": 69,
   "id": "6209bfc8",
   "metadata": {},
   "outputs": [
    {
     "name": "stdout",
     "output_type": "stream",
     "text": [
      "Final Response Time for MicrosoftHelps: 4186109714400.0 milliseconds\n"
     ]
    }
   ],
   "source": [
    "average_response_time_microsoft = 3.703211e+08\n",
    "inbound_tweet_count_microsoft = 11304\n",
    "final_response_time_microsoft = inbound_tweet_count_microsoft * average_response_time_microsoft\n",
    "print(f\"Final Response Time for MicrosoftHelps: {final_response_time_microsoft} milliseconds\")"
   ]
  },
  {
   "cell_type": "code",
   "execution_count": 70,
   "id": "93d209d4",
   "metadata": {},
   "outputs": [
    {
     "data": {
      "image/png": "[encoded data removed]",
      "text/plain": [
       "<Figure size 1000x700 with 1 Axes>"
      ]
     },
     "metadata": {},
     "output_type": "display_data"
    }
   ],
   "source": [
    "categories = ['Average Response Time', 'Total Inbound Tweets', 'Final Response Time']\n",
    "values = [average_response_time_microsoft, inbound_tweet_count_microsoft, final_response_time_microsoft]\n",
    "\n",
    "plt.figure(figsize=(10, 7))\n",
    "plt.bar(categories, values, color=['lightcyan', 'palegreen', 'hotpink'],edgecolor='black')\n",
    "\n",
    "for i, v in enumerate(values):\n",
    "    plt.text(i, v + 0.2 * v, f\"{v:.0f}\", ha='center', va='bottom', fontsize=10)\n",
    "\n",
    "plt.ylabel('Values (Log Scale)')\n",
    "plt.yscale('log') \n",
    "plt.title('Final Response Time Analysis for MicrosoftHelps')\n",
    "plt.show()"
   ]
  },
  {
   "cell_type": "markdown",
   "id": "e0cd3c59",
   "metadata": {},
   "source": [
    "##### Final response times for all companies"
   ]
  },
  {
   "cell_type": "code",
   "execution_count": 72,
   "id": "83c41dd3",
   "metadata": {},
   "outputs": [
    {
     "data": {
      "image/png": "[encoded data removed]",
      "text/plain": [
       "<Figure size 1000x700 with 1 Axes>"
      ]
     },
     "metadata": {},
     "output_type": "display_data"
    }
   ],
   "source": [
    "categories = ['AppleSupport', 'DellCares', 'HPSupport', 'MicrosoftHelps']\n",
    "values = [final_response_time_apple, final_response_time_dell,final_response_time_hp, final_response_time_microsoft]\n",
    "\n",
    "plt.figure(figsize=(10, 7))\n",
    "plt.bar(categories, values, color=['lightblue', 'magenta', 'limegreen','yellow'],edgecolor='black')\n",
    "\n",
    "for i, v in enumerate(values):\n",
    "    plt.text(i, v + 0 * v, f\"{v:.0f}\", ha='center', va='bottom', fontsize=10)\n",
    "\n",
    "plt.ylabel('Values (Log Scale)')\n",
    "plt.yscale('log') \n",
    "plt.title('Final Response Time Analysis for Technology Companies')\n",
    "plt.show()"
   ]
  },
  {
   "cell_type": "markdown",
   "id": "6118f26e",
   "metadata": {},
   "source": [
    "### Results\n",
    "\n",
    "'AppleSupport' has the highest average response time, while 'DellCares' has the lowest average response time.\n",
    "Shorter response times are often associated with higher customer satisfaction. Customers tend to be more satisfied when their issues are addressed promptly."
   ]
  },
  {
   "cell_type": "markdown",
   "id": "1cfb5a56",
   "metadata": {},
   "source": [
    "## Customer Support Twitter Analysis for Airline Companies\n",
    "\n",
    "##### Objective:\n",
    "This notebook explores customer interactions in a Customer Support Twitter dataset. We focus on understanding the relationship between response times and customer satisfaction for Airline companies, American and Delta.\n",
    "\n",
    "##### Approach:\n",
    "Through meticulous analysis, we get into response times and customer sentiments in conversations. By examining these factors, we aim to uncover valuable patterns and trends, offering insights into effective customer support practices.\n",
    "\n",
    "##### Key Question: \n",
    "How does response time correlate to customer satisfaction when comparing American Airlines & Delta?\n",
    "\n",
    "##### Purpose impact:\n",
    "This analysis aims to help the analyzed companies by providing actionable insights derived from customer interactions. By understanding customer sentiments and response dynamics, these technology support companies can optimize their communication strategies, fostering improved customer satisfaction and engagement."
   ]
  },
  {
   "cell_type": "code",
   "execution_count": 74,
   "id": "729dc57e",
   "metadata": {},
   "outputs": [
    {
     "data": {
      "text/html": [
       "<div>\n",
       "<style scoped>\n",
       "    .dataframe tbody tr th:only-of-type {\n",
       "        vertical-align: middle;\n",
       "    }\n",
       "\n",
       "    .dataframe tbody tr th {\n",
       "        vertical-align: top;\n",
       "    }\n",
       "\n",
       "    .dataframe thead th {\n",
       "        text-align: right;\n",
       "    }\n",
       "</style>\n",
       "<table border=\"1\" class=\"dataframe\">\n",
       "  <thead>\n",
       "    <tr style=\"text-align: right;\">\n",
       "      <th></th>\n",
       "      <th>tweet_id</th>\n",
       "      <th>author_id</th>\n",
       "      <th>inbound</th>\n",
       "      <th>created_at</th>\n",
       "      <th>text</th>\n",
       "      <th>response_tweet_id</th>\n",
       "      <th>in_response_to_tweet_id</th>\n",
       "    </tr>\n",
       "  </thead>\n",
       "  <tbody>\n",
       "    <tr>\n",
       "      <th>0</th>\n",
       "      <td>1</td>\n",
       "      <td>sprintcare</td>\n",
       "      <td>False</td>\n",
       "      <td>Tue Oct 31 22:10:47 +0000 2017</td>\n",
       "      <td>@115712 I understand. I would like to assist y...</td>\n",
       "      <td>2</td>\n",
       "      <td>3.0</td>\n",
       "    </tr>\n",
       "    <tr>\n",
       "      <th>1</th>\n",
       "      <td>2</td>\n",
       "      <td>115712</td>\n",
       "      <td>True</td>\n",
       "      <td>Tue Oct 31 22:11:45 +0000 2017</td>\n",
       "      <td>@sprintcare and how do you propose we do that</td>\n",
       "      <td>NaN</td>\n",
       "      <td>1.0</td>\n",
       "    </tr>\n",
       "    <tr>\n",
       "      <th>2</th>\n",
       "      <td>3</td>\n",
       "      <td>115712</td>\n",
       "      <td>True</td>\n",
       "      <td>Tue Oct 31 22:08:27 +0000 2017</td>\n",
       "      <td>@sprintcare I have sent several private messag...</td>\n",
       "      <td>1</td>\n",
       "      <td>4.0</td>\n",
       "    </tr>\n",
       "    <tr>\n",
       "      <th>3</th>\n",
       "      <td>4</td>\n",
       "      <td>sprintcare</td>\n",
       "      <td>False</td>\n",
       "      <td>Tue Oct 31 21:54:49 +0000 2017</td>\n",
       "      <td>@115712 Please send us a Private Message so th...</td>\n",
       "      <td>3</td>\n",
       "      <td>5.0</td>\n",
       "    </tr>\n",
       "    <tr>\n",
       "      <th>4</th>\n",
       "      <td>5</td>\n",
       "      <td>115712</td>\n",
       "      <td>True</td>\n",
       "      <td>Tue Oct 31 21:49:35 +0000 2017</td>\n",
       "      <td>@sprintcare I did.</td>\n",
       "      <td>4</td>\n",
       "      <td>6.0</td>\n",
       "    </tr>\n",
       "    <tr>\n",
       "      <th>5</th>\n",
       "      <td>6</td>\n",
       "      <td>sprintcare</td>\n",
       "      <td>False</td>\n",
       "      <td>Tue Oct 31 21:46:24 +0000 2017</td>\n",
       "      <td>@115712 Can you please send us a private messa...</td>\n",
       "      <td>5,7</td>\n",
       "      <td>8.0</td>\n",
       "    </tr>\n",
       "    <tr>\n",
       "      <th>6</th>\n",
       "      <td>8</td>\n",
       "      <td>115712</td>\n",
       "      <td>True</td>\n",
       "      <td>Tue Oct 31 21:45:10 +0000 2017</td>\n",
       "      <td>@sprintcare is the worst customer service</td>\n",
       "      <td>9,6,10</td>\n",
       "      <td>NaN</td>\n",
       "    </tr>\n",
       "    <tr>\n",
       "      <th>7</th>\n",
       "      <td>11</td>\n",
       "      <td>sprintcare</td>\n",
       "      <td>False</td>\n",
       "      <td>Tue Oct 31 22:10:35 +0000 2017</td>\n",
       "      <td>@115713 This is saddening to hear. Please shoo...</td>\n",
       "      <td>NaN</td>\n",
       "      <td>12.0</td>\n",
       "    </tr>\n",
       "    <tr>\n",
       "      <th>8</th>\n",
       "      <td>12</td>\n",
       "      <td>115713</td>\n",
       "      <td>True</td>\n",
       "      <td>Tue Oct 31 22:04:47 +0000 2017</td>\n",
       "      <td>@sprintcare You gonna magically change your co...</td>\n",
       "      <td>11,13,14</td>\n",
       "      <td>15.0</td>\n",
       "    </tr>\n",
       "    <tr>\n",
       "      <th>9</th>\n",
       "      <td>15</td>\n",
       "      <td>sprintcare</td>\n",
       "      <td>False</td>\n",
       "      <td>Tue Oct 31 20:03:31 +0000 2017</td>\n",
       "      <td>@115713 We understand your concerns and we'd l...</td>\n",
       "      <td>12</td>\n",
       "      <td>16.0</td>\n",
       "    </tr>\n",
       "  </tbody>\n",
       "</table>\n",
       "</div>"
      ],
      "text/plain": [
       "   tweet_id   author_id  inbound                      created_at  \\\n",
       "0         1  sprintcare    False  Tue Oct 31 22:10:47 +0000 2017   \n",
       "1         2      115712     True  Tue Oct 31 22:11:45 +0000 2017   \n",
       "2         3      115712     True  Tue Oct 31 22:08:27 +0000 2017   \n",
       "3         4  sprintcare    False  Tue Oct 31 21:54:49 +0000 2017   \n",
       "4         5      115712     True  Tue Oct 31 21:49:35 +0000 2017   \n",
       "5         6  sprintcare    False  Tue Oct 31 21:46:24 +0000 2017   \n",
       "6         8      115712     True  Tue Oct 31 21:45:10 +0000 2017   \n",
       "7        11  sprintcare    False  Tue Oct 31 22:10:35 +0000 2017   \n",
       "8        12      115713     True  Tue Oct 31 22:04:47 +0000 2017   \n",
       "9        15  sprintcare    False  Tue Oct 31 20:03:31 +0000 2017   \n",
       "\n",
       "                                                text response_tweet_id  \\\n",
       "0  @115712 I understand. I would like to assist y...                 2   \n",
       "1      @sprintcare and how do you propose we do that               NaN   \n",
       "2  @sprintcare I have sent several private messag...                 1   \n",
       "3  @115712 Please send us a Private Message so th...                 3   \n",
       "4                                 @sprintcare I did.                 4   \n",
       "5  @115712 Can you please send us a private messa...               5,7   \n",
       "6          @sprintcare is the worst customer service            9,6,10   \n",
       "7  @115713 This is saddening to hear. Please shoo...               NaN   \n",
       "8  @sprintcare You gonna magically change your co...          11,13,14   \n",
       "9  @115713 We understand your concerns and we'd l...                12   \n",
       "\n",
       "   in_response_to_tweet_id  \n",
       "0                      3.0  \n",
       "1                      1.0  \n",
       "2                      4.0  \n",
       "3                      5.0  \n",
       "4                      6.0  \n",
       "5                      8.0  \n",
       "6                      NaN  \n",
       "7                     12.0  \n",
       "8                     15.0  \n",
       "9                     16.0  "
      ]
     },
     "execution_count": 74,
     "metadata": {},
     "output_type": "execute_result"
    }
   ],
   "source": [
    "# Load the Dataset\n",
    "file_path = 'twcs.csv'\n",
    "data_set = pd.read_csv('twcs.csv')\n",
    "data_set.head(10)"
   ]
  },
  {
   "cell_type": "code",
   "execution_count": 75,
   "id": "9d613b10",
   "metadata": {},
   "outputs": [
    {
     "data": {
      "text/plain": [
       "(2811774, 7)"
      ]
     },
     "execution_count": 75,
     "metadata": {},
     "output_type": "execute_result"
    }
   ],
   "source": [
    "data_set.shape"
   ]
  },
  {
   "cell_type": "markdown",
   "id": "012b61fa",
   "metadata": {},
   "source": [
    "#### Exploring and cleaning the data to obtain specific companies "
   ]
  },
  {
   "cell_type": "code",
   "execution_count": 76,
   "id": "298a3614",
   "metadata": {},
   "outputs": [],
   "source": [
    "# Handle missing values\n",
    "data_set['response_tweet_id'].fillna(-1, inplace=True)\n",
    "data_set['in_response_to_tweet_id'].fillna(-1, inplace=True)"
   ]
  },
  {
   "cell_type": "code",
   "execution_count": 77,
   "id": "c60079e7",
   "metadata": {},
   "outputs": [],
   "source": [
    "filtered_data = data_set[data_set['author_id'].str.contains('delta|american', case=False)]"
   ]
  },
  {
   "cell_type": "code",
   "execution_count": 78,
   "id": "1568d320",
   "metadata": {},
   "outputs": [
    {
     "data": {
      "text/html": [
       "<div>\n",
       "<style scoped>\n",
       "    .dataframe tbody tr th:only-of-type {\n",
       "        vertical-align: middle;\n",
       "    }\n",
       "\n",
       "    .dataframe tbody tr th {\n",
       "        vertical-align: top;\n",
       "    }\n",
       "\n",
       "    .dataframe thead th {\n",
       "        text-align: right;\n",
       "    }\n",
       "</style>\n",
       "<table border=\"1\" class=\"dataframe\">\n",
       "  <thead>\n",
       "    <tr style=\"text-align: right;\">\n",
       "      <th></th>\n",
       "      <th>tweet_id</th>\n",
       "      <th>author_id</th>\n",
       "      <th>inbound</th>\n",
       "      <th>created_at</th>\n",
       "      <th>text</th>\n",
       "      <th>response_tweet_id</th>\n",
       "      <th>in_response_to_tweet_id</th>\n",
       "    </tr>\n",
       "  </thead>\n",
       "  <tbody>\n",
       "    <tr>\n",
       "      <th>315</th>\n",
       "      <td>609</td>\n",
       "      <td>Delta</td>\n",
       "      <td>False</td>\n",
       "      <td>Sat Aug 06 01:44:03 +0000 2016</td>\n",
       "      <td>@115818 Glad to check. Pls, DM your confirmati...</td>\n",
       "      <td>610</td>\n",
       "      <td>611.0</td>\n",
       "    </tr>\n",
       "    <tr>\n",
       "      <th>484</th>\n",
       "      <td>790</td>\n",
       "      <td>Delta</td>\n",
       "      <td>False</td>\n",
       "      <td>Tue Oct 31 22:27:38 +0000 2017</td>\n",
       "      <td>@115882 I'm sorry. The earlier flight may not ...</td>\n",
       "      <td>791</td>\n",
       "      <td>792.0</td>\n",
       "    </tr>\n",
       "    <tr>\n",
       "      <th>486</th>\n",
       "      <td>793</td>\n",
       "      <td>Delta</td>\n",
       "      <td>False</td>\n",
       "      <td>Tue Oct 31 22:52:37 +0000 2017</td>\n",
       "      <td>@115882 My apologies. If that flight never sho...</td>\n",
       "      <td>-1</td>\n",
       "      <td>791.0</td>\n",
       "    </tr>\n",
       "    <tr>\n",
       "      <th>488</th>\n",
       "      <td>794</td>\n",
       "      <td>Delta</td>\n",
       "      <td>False</td>\n",
       "      <td>Tue Oct 31 22:25:31 +0000 2017</td>\n",
       "      <td>@115883 Please share additional details about ...</td>\n",
       "      <td>795</td>\n",
       "      <td>796.0</td>\n",
       "    </tr>\n",
       "    <tr>\n",
       "      <th>490</th>\n",
       "      <td>797</td>\n",
       "      <td>Delta</td>\n",
       "      <td>False</td>\n",
       "      <td>Tue Oct 31 23:07:41 +0000 2017</td>\n",
       "      <td>@115883 Please do.  *AFC https://t.co/6iDGBJAc2m</td>\n",
       "      <td>798</td>\n",
       "      <td>795.0</td>\n",
       "    </tr>\n",
       "    <tr>\n",
       "      <th>493</th>\n",
       "      <td>799</td>\n",
       "      <td>Delta</td>\n",
       "      <td>False</td>\n",
       "      <td>Sun Oct 29 16:56:47 +0000 2017</td>\n",
       "      <td>@115883 I sincerely apologize, our IT team is ...</td>\n",
       "      <td>800,796</td>\n",
       "      <td>801.0</td>\n",
       "    </tr>\n",
       "    <tr>\n",
       "      <th>495</th>\n",
       "      <td>802</td>\n",
       "      <td>Delta</td>\n",
       "      <td>False</td>\n",
       "      <td>Tue Oct 31 22:23:07 +0000 2017</td>\n",
       "      <td>@115884 Oh, no! Please speak to a member of th...</td>\n",
       "      <td>-1</td>\n",
       "      <td>803.0</td>\n",
       "    </tr>\n",
       "    <tr>\n",
       "      <th>497</th>\n",
       "      <td>804</td>\n",
       "      <td>Delta</td>\n",
       "      <td>False</td>\n",
       "      <td>Tue Oct 31 22:22:01 +0000 2017</td>\n",
       "      <td>@115885 2/2 https://t.co/6iDGBJAc2m</td>\n",
       "      <td>805,806</td>\n",
       "      <td>807.0</td>\n",
       "    </tr>\n",
       "    <tr>\n",
       "      <th>501</th>\n",
       "      <td>809</td>\n",
       "      <td>Delta</td>\n",
       "      <td>False</td>\n",
       "      <td>Tue Oct 31 19:21:13 +0000 2017</td>\n",
       "      <td>@115885 Hello, Richard! Please DM your confirm...</td>\n",
       "      <td>807</td>\n",
       "      <td>810.0</td>\n",
       "    </tr>\n",
       "    <tr>\n",
       "      <th>504</th>\n",
       "      <td>813</td>\n",
       "      <td>Delta</td>\n",
       "      <td>False</td>\n",
       "      <td>Tue Oct 31 18:42:21 +0000 2017</td>\n",
       "      <td>@115885 Hi, Richard. Can you pls DM your confi...</td>\n",
       "      <td>811</td>\n",
       "      <td>814.0</td>\n",
       "    </tr>\n",
       "  </tbody>\n",
       "</table>\n",
       "</div>"
      ],
      "text/plain": [
       "     tweet_id author_id  inbound                      created_at  \\\n",
       "315       609     Delta    False  Sat Aug 06 01:44:03 +0000 2016   \n",
       "484       790     Delta    False  Tue Oct 31 22:27:38 +0000 2017   \n",
       "486       793     Delta    False  Tue Oct 31 22:52:37 +0000 2017   \n",
       "488       794     Delta    False  Tue Oct 31 22:25:31 +0000 2017   \n",
       "490       797     Delta    False  Tue Oct 31 23:07:41 +0000 2017   \n",
       "493       799     Delta    False  Sun Oct 29 16:56:47 +0000 2017   \n",
       "495       802     Delta    False  Tue Oct 31 22:23:07 +0000 2017   \n",
       "497       804     Delta    False  Tue Oct 31 22:22:01 +0000 2017   \n",
       "501       809     Delta    False  Tue Oct 31 19:21:13 +0000 2017   \n",
       "504       813     Delta    False  Tue Oct 31 18:42:21 +0000 2017   \n",
       "\n",
       "                                                  text response_tweet_id  \\\n",
       "315  @115818 Glad to check. Pls, DM your confirmati...               610   \n",
       "484  @115882 I'm sorry. The earlier flight may not ...               791   \n",
       "486  @115882 My apologies. If that flight never sho...                -1   \n",
       "488  @115883 Please share additional details about ...               795   \n",
       "490   @115883 Please do.  *AFC https://t.co/6iDGBJAc2m               798   \n",
       "493  @115883 I sincerely apologize, our IT team is ...           800,796   \n",
       "495  @115884 Oh, no! Please speak to a member of th...                -1   \n",
       "497                @115885 2/2 https://t.co/6iDGBJAc2m           805,806   \n",
       "501  @115885 Hello, Richard! Please DM your confirm...               807   \n",
       "504  @115885 Hi, Richard. Can you pls DM your confi...               811   \n",
       "\n",
       "     in_response_to_tweet_id  \n",
       "315                    611.0  \n",
       "484                    792.0  \n",
       "486                    791.0  \n",
       "488                    796.0  \n",
       "490                    795.0  \n",
       "493                    801.0  \n",
       "495                    803.0  \n",
       "497                    807.0  \n",
       "501                    810.0  \n",
       "504                    814.0  "
      ]
     },
     "execution_count": 78,
     "metadata": {},
     "output_type": "execute_result"
    }
   ],
   "source": [
    "filtered_data.head(10)"
   ]
  },
  {
   "cell_type": "code",
   "execution_count": 79,
   "id": "9c35bb3c",
   "metadata": {},
   "outputs": [
    {
     "name": "stdout",
     "output_type": "stream",
     "text": [
      "tweet_id                   0\n",
      "author_id                  0\n",
      "inbound                    0\n",
      "created_at                 0\n",
      "text                       0\n",
      "response_tweet_id          0\n",
      "in_response_to_tweet_id    0\n",
      "dtype: int64\n"
     ]
    }
   ],
   "source": [
    "# Handle Missing Values\n",
    "filtered_data = data_set[data_set['author_id'].str.contains('delta|american', case=False)]\n",
    "filtered_data = data_set.dropna()\n",
    "print(filtered_data.isnull().sum())"
   ]
  },
  {
   "cell_type": "code",
   "execution_count": 80,
   "id": "a85f7929",
   "metadata": {},
   "outputs": [
    {
     "data": {
      "text/html": [
       "<div>\n",
       "<style scoped>\n",
       "    .dataframe tbody tr th:only-of-type {\n",
       "        vertical-align: middle;\n",
       "    }\n",
       "\n",
       "    .dataframe tbody tr th {\n",
       "        vertical-align: top;\n",
       "    }\n",
       "\n",
       "    .dataframe thead th {\n",
       "        text-align: right;\n",
       "    }\n",
       "</style>\n",
       "<table border=\"1\" class=\"dataframe\">\n",
       "  <thead>\n",
       "    <tr style=\"text-align: right;\">\n",
       "      <th></th>\n",
       "      <th>author_id</th>\n",
       "      <th>inbound</th>\n",
       "      <th>count</th>\n",
       "    </tr>\n",
       "  </thead>\n",
       "  <tbody>\n",
       "    <tr>\n",
       "      <th>0</th>\n",
       "      <td>AmericanAir</td>\n",
       "      <td>False</td>\n",
       "      <td>36764</td>\n",
       "    </tr>\n",
       "    <tr>\n",
       "      <th>1</th>\n",
       "      <td>Delta</td>\n",
       "      <td>False</td>\n",
       "      <td>42253</td>\n",
       "    </tr>\n",
       "  </tbody>\n",
       "</table>\n",
       "</div>"
      ],
      "text/plain": [
       "     author_id  inbound  count\n",
       "0  AmericanAir    False  36764\n",
       "1        Delta    False  42253"
      ]
     },
     "execution_count": 80,
     "metadata": {},
     "output_type": "execute_result"
    }
   ],
   "source": [
    "# Group the filtered data and count the number of tweets in each company\n",
    "filtered_data = data_set[data_set['author_id'].str.contains('delta|american', case=False)]\n",
    "grouped_data = filtered_data.groupby(['author_id', 'inbound']).size().reset_index(name='count')\n",
    "grouped_data.head(10)"
   ]
  },
  {
   "cell_type": "markdown",
   "id": "6ea6fdd0",
   "metadata": {},
   "source": [
    "#### What company has the most and least amount of tweets?"
   ]
  },
  {
   "cell_type": "code",
   "execution_count": 99,
   "id": "9d5ea41d",
   "metadata": {},
   "outputs": [
    {
     "data": {
      "image/png": "[encoded data removed]",
      "text/plain": [
       "<Figure size 600x400 with 1 Axes>"
      ]
     },
     "metadata": {},
     "output_type": "display_data"
    }
   ],
   "source": [
    "companies = ['AmericanAir', 'Delta']\n",
    "counts = [36764, 42253]\n",
    "\n",
    "plt.figure(figsize=(6, 4))\n",
    "\n",
    "plt.plot(range(len(companies)), counts, marker='o', markersize=10, linestyle='', color='orange')\n",
    "\n",
    "plt.xticks(range(len(companies)), companies)\n",
    "\n",
    "plt.xlabel('Company')\n",
    "plt.ylabel('Number of Tweets')\n",
    "plt.title('Number of Tweets for American Airlines and Delta based on Inbound Status')\n",
    "plt.grid(True)\n",
    "plt.show()"
   ]
  },
  {
   "cell_type": "code",
   "execution_count": 100,
   "id": "67c7f385",
   "metadata": {},
   "outputs": [
    {
     "data": {
      "image/png": "[encoded data removed]",
      "text/plain": [
       "<Figure size 800x500 with 1 Axes>"
      ]
     },
     "metadata": {},
     "output_type": "display_data"
    }
   ],
   "source": [
    "companies = grouped_data['author_id']\n",
    "inbound_counts = grouped_data['count']\n",
    "colors = ['yellow', 'violet']\n",
    "plt.figure(figsize=(8, 5))\n",
    "plt.bar(companies, inbound_counts, color=colors, edgecolor='black')\n",
    "plt.xlabel('Company')\n",
    "plt.ylabel('Number of Tweets')\n",
    "plt.title('Number of Inbound Tweets for Each Company')\n",
    "plt.xticks(rotation=45) \n",
    "plt.show();"
   ]
  },
  {
   "cell_type": "code",
   "execution_count": 101,
   "id": "0df8d4aa",
   "metadata": {},
   "outputs": [
    {
     "data": {
      "text/html": [
       "<div>\n",
       "<style scoped>\n",
       "    .dataframe tbody tr th:only-of-type {\n",
       "        vertical-align: middle;\n",
       "    }\n",
       "\n",
       "    .dataframe tbody tr th {\n",
       "        vertical-align: top;\n",
       "    }\n",
       "\n",
       "    .dataframe thead th {\n",
       "        text-align: right;\n",
       "    }\n",
       "</style>\n",
       "<table border=\"1\" class=\"dataframe\">\n",
       "  <thead>\n",
       "    <tr style=\"text-align: right;\">\n",
       "      <th></th>\n",
       "      <th>tweet_id</th>\n",
       "      <th>author_id</th>\n",
       "      <th>inbound</th>\n",
       "      <th>created_at</th>\n",
       "      <th>text</th>\n",
       "      <th>response_tweet_id</th>\n",
       "      <th>in_response_to_tweet_id</th>\n",
       "    </tr>\n",
       "  </thead>\n",
       "  <tbody>\n",
       "    <tr>\n",
       "      <th>315</th>\n",
       "      <td>609</td>\n",
       "      <td>Delta</td>\n",
       "      <td>False</td>\n",
       "      <td>Sat Aug 06 01:44:03 +0000 2016</td>\n",
       "      <td>@115818 Glad to check. Pls, DM your confirmati...</td>\n",
       "      <td>610.0</td>\n",
       "      <td>611.0</td>\n",
       "    </tr>\n",
       "    <tr>\n",
       "      <th>484</th>\n",
       "      <td>790</td>\n",
       "      <td>Delta</td>\n",
       "      <td>False</td>\n",
       "      <td>Tue Oct 31 22:27:38 +0000 2017</td>\n",
       "      <td>@115882 I'm sorry. The earlier flight may not ...</td>\n",
       "      <td>791.0</td>\n",
       "      <td>792.0</td>\n",
       "    </tr>\n",
       "    <tr>\n",
       "      <th>486</th>\n",
       "      <td>793</td>\n",
       "      <td>Delta</td>\n",
       "      <td>False</td>\n",
       "      <td>Tue Oct 31 22:52:37 +0000 2017</td>\n",
       "      <td>@115882 My apologies. If that flight never sho...</td>\n",
       "      <td>-1.0</td>\n",
       "      <td>791.0</td>\n",
       "    </tr>\n",
       "    <tr>\n",
       "      <th>488</th>\n",
       "      <td>794</td>\n",
       "      <td>Delta</td>\n",
       "      <td>False</td>\n",
       "      <td>Tue Oct 31 22:25:31 +0000 2017</td>\n",
       "      <td>@115883 Please share additional details about ...</td>\n",
       "      <td>795.0</td>\n",
       "      <td>796.0</td>\n",
       "    </tr>\n",
       "    <tr>\n",
       "      <th>490</th>\n",
       "      <td>797</td>\n",
       "      <td>Delta</td>\n",
       "      <td>False</td>\n",
       "      <td>Tue Oct 31 23:07:41 +0000 2017</td>\n",
       "      <td>@115883 Please do.  *AFC https://t.co/6iDGBJAc2m</td>\n",
       "      <td>798.0</td>\n",
       "      <td>795.0</td>\n",
       "    </tr>\n",
       "    <tr>\n",
       "      <th>493</th>\n",
       "      <td>799</td>\n",
       "      <td>Delta</td>\n",
       "      <td>False</td>\n",
       "      <td>Sun Oct 29 16:56:47 +0000 2017</td>\n",
       "      <td>@115883 I sincerely apologize, our IT team is ...</td>\n",
       "      <td>NaN</td>\n",
       "      <td>801.0</td>\n",
       "    </tr>\n",
       "    <tr>\n",
       "      <th>495</th>\n",
       "      <td>802</td>\n",
       "      <td>Delta</td>\n",
       "      <td>False</td>\n",
       "      <td>Tue Oct 31 22:23:07 +0000 2017</td>\n",
       "      <td>@115884 Oh, no! Please speak to a member of th...</td>\n",
       "      <td>-1.0</td>\n",
       "      <td>803.0</td>\n",
       "    </tr>\n",
       "    <tr>\n",
       "      <th>497</th>\n",
       "      <td>804</td>\n",
       "      <td>Delta</td>\n",
       "      <td>False</td>\n",
       "      <td>Tue Oct 31 22:22:01 +0000 2017</td>\n",
       "      <td>@115885 2/2 https://t.co/6iDGBJAc2m</td>\n",
       "      <td>NaN</td>\n",
       "      <td>807.0</td>\n",
       "    </tr>\n",
       "    <tr>\n",
       "      <th>501</th>\n",
       "      <td>809</td>\n",
       "      <td>Delta</td>\n",
       "      <td>False</td>\n",
       "      <td>Tue Oct 31 19:21:13 +0000 2017</td>\n",
       "      <td>@115885 Hello, Richard! Please DM your confirm...</td>\n",
       "      <td>807.0</td>\n",
       "      <td>810.0</td>\n",
       "    </tr>\n",
       "    <tr>\n",
       "      <th>504</th>\n",
       "      <td>813</td>\n",
       "      <td>Delta</td>\n",
       "      <td>False</td>\n",
       "      <td>Tue Oct 31 18:42:21 +0000 2017</td>\n",
       "      <td>@115885 Hi, Richard. Can you pls DM your confi...</td>\n",
       "      <td>811.0</td>\n",
       "      <td>814.0</td>\n",
       "    </tr>\n",
       "  </tbody>\n",
       "</table>\n",
       "</div>"
      ],
      "text/plain": [
       "     tweet_id author_id  inbound                      created_at  \\\n",
       "315       609     Delta    False  Sat Aug 06 01:44:03 +0000 2016   \n",
       "484       790     Delta    False  Tue Oct 31 22:27:38 +0000 2017   \n",
       "486       793     Delta    False  Tue Oct 31 22:52:37 +0000 2017   \n",
       "488       794     Delta    False  Tue Oct 31 22:25:31 +0000 2017   \n",
       "490       797     Delta    False  Tue Oct 31 23:07:41 +0000 2017   \n",
       "493       799     Delta    False  Sun Oct 29 16:56:47 +0000 2017   \n",
       "495       802     Delta    False  Tue Oct 31 22:23:07 +0000 2017   \n",
       "497       804     Delta    False  Tue Oct 31 22:22:01 +0000 2017   \n",
       "501       809     Delta    False  Tue Oct 31 19:21:13 +0000 2017   \n",
       "504       813     Delta    False  Tue Oct 31 18:42:21 +0000 2017   \n",
       "\n",
       "                                                  text  response_tweet_id  \\\n",
       "315  @115818 Glad to check. Pls, DM your confirmati...              610.0   \n",
       "484  @115882 I'm sorry. The earlier flight may not ...              791.0   \n",
       "486  @115882 My apologies. If that flight never sho...               -1.0   \n",
       "488  @115883 Please share additional details about ...              795.0   \n",
       "490   @115883 Please do.  *AFC https://t.co/6iDGBJAc2m              798.0   \n",
       "493  @115883 I sincerely apologize, our IT team is ...                NaN   \n",
       "495  @115884 Oh, no! Please speak to a member of th...               -1.0   \n",
       "497                @115885 2/2 https://t.co/6iDGBJAc2m                NaN   \n",
       "501  @115885 Hello, Richard! Please DM your confirm...              807.0   \n",
       "504  @115885 Hi, Richard. Can you pls DM your confi...              811.0   \n",
       "\n",
       "     in_response_to_tweet_id  \n",
       "315                    611.0  \n",
       "484                    792.0  \n",
       "486                    791.0  \n",
       "488                    796.0  \n",
       "490                    795.0  \n",
       "493                    801.0  \n",
       "495                    803.0  \n",
       "497                    807.0  \n",
       "501                    810.0  \n",
       "504                    814.0  "
      ]
     },
     "execution_count": 101,
     "metadata": {},
     "output_type": "execute_result"
    }
   ],
   "source": [
    "# Convert 'response_tweet_id' and 'in_response_to_tweet_id' to numeric \n",
    "filtered_data['response_tweet_id'] = pd.to_numeric(filtered_data['response_tweet_id'], errors='coerce')\n",
    "filtered_data['in_response_to_tweet_id'] = pd.to_numeric(filtered_data['in_response_to_tweet_id'], errors='coerce')\n",
    "filtered_data.head(10)"
   ]
  },
  {
   "cell_type": "code",
   "execution_count": 102,
   "id": "d5f7e005",
   "metadata": {},
   "outputs": [],
   "source": [
    "# Calculate response time in filtered data\n",
    "filtered_data['response_time'] = filtered_data['response_tweet_id'] - filtered_data['in_response_to_tweet_id']"
   ]
  },
  {
   "cell_type": "code",
   "execution_count": 103,
   "id": "c2a20e67",
   "metadata": {},
   "outputs": [],
   "source": [
    "# Calculate average response time for each airline\n",
    "average_response_time = filtered_data.groupby('author_id')['response_time'].mean()"
   ]
  },
  {
   "cell_type": "markdown",
   "id": "6d29617c",
   "metadata": {},
   "source": [
    "#### Statistical Predicitions / Modeling"
   ]
  },
  {
   "cell_type": "code",
   "execution_count": 104,
   "id": "a78fea00",
   "metadata": {},
   "outputs": [
    {
     "name": "stdout",
     "output_type": "stream",
     "text": [
      "author_id\n",
      "AmericanAir   -9.832385e+05\n",
      "Delta         -1.069096e+06\n",
      "Name: response_time, dtype: float64\n"
     ]
    }
   ],
   "source": [
    "correlation = filtered_data.corr(numeric_only=True)\n",
    "\n",
    "filtered_data['response_time'] = filtered_data['response_tweet_id'] - filtered_data['in_response_to_tweet_id']\n",
    "\n",
    "average_response_time = filtered_data.groupby('author_id')['response_time'].mean()\n",
    "\n",
    "print(average_response_time)"
   ]
  },
  {
   "cell_type": "markdown",
   "id": "5dc53cdc",
   "metadata": {},
   "source": [
    "##### Convert to positive numbers for better analysis"
   ]
  },
  {
   "cell_type": "code",
   "execution_count": 105,
   "id": "f06d8bc9",
   "metadata": {},
   "outputs": [
    {
     "name": "stdout",
     "output_type": "stream",
     "text": [
      "author_id\n",
      "AmericanAir    9.832385e+05\n",
      "Delta          1.069096e+06\n",
      "Name: response_time, dtype: float64\n"
     ]
    }
   ],
   "source": [
    "filtered_data['response_time'] = filtered_data['response_tweet_id'] - filtered_data['in_response_to_tweet_id']\n",
    "\n",
    "average_response_time = filtered_data.groupby('author_id')['response_time'].mean().abs()\n",
    "\n",
    "print(average_response_time)"
   ]
  },
  {
   "cell_type": "markdown",
   "id": "280f820f",
   "metadata": {},
   "source": [
    "#### What company has the slowest and fastest response time?"
   ]
  },
  {
   "cell_type": "code",
   "execution_count": 106,
   "id": "2c173b90",
   "metadata": {},
   "outputs": [
    {
     "data": {
      "image/png": "[encoded data removed]",
      "text/plain": [
       "<Figure size 800x600 with 1 Axes>"
      ]
     },
     "metadata": {},
     "output_type": "display_data"
    }
   ],
   "source": [
    "# Visualize the data\n",
    "plt.figure(figsize=(8, 6))\n",
    "colors = ['red', 'blue'] \n",
    "average_response_time.plot(kind='bar', color=colors, edgecolor='black') \n",
    "plt.title('Average Response Time for American Airlines and Delta')\n",
    "plt.xlabel('Airline')\n",
    "plt.ylabel('Average Response Time')\n",
    "plt.xticks(range(len(average_response_time.index)), average_response_time.index, rotation=0)\n",
    "plt.show()"
   ]
  },
  {
   "cell_type": "markdown",
   "id": "6f5bba79",
   "metadata": {},
   "source": [
    "#### Now let's compare the total inbound tweets and the repsonse time of both companies"
   ]
  },
  {
   "cell_type": "markdown",
   "id": "c3995b5d",
   "metadata": {},
   "source": [
    "#### American Airlines"
   ]
  },
  {
   "cell_type": "code",
   "execution_count": 107,
   "id": "7924ab13",
   "metadata": {},
   "outputs": [
    {
     "name": "stdout",
     "output_type": "stream",
     "text": [
      "Final Response Time for American Airline: 36147780214.0 milliseconds\n"
     ]
    }
   ],
   "source": [
    "average_response_time_american = 9.832385e+05\n",
    "inbound_tweet_count_american = 36764 \n",
    "final_response_time_american = inbound_tweet_count_american * average_response_time_american\n",
    "print(f\"Final Response Time for American Airline: {final_response_time_american} milliseconds\")"
   ]
  },
  {
   "cell_type": "code",
   "execution_count": 108,
   "id": "50ad43ae",
   "metadata": {},
   "outputs": [
    {
     "data": {
      "image/png": "[encoded data removed]",
      "text/plain": [
       "<Figure size 1000x700 with 1 Axes>"
      ]
     },
     "metadata": {},
     "output_type": "display_data"
    }
   ],
   "source": [
    "categories = ['Average Response Time', 'Total Inbound Tweets', 'Final Response Time']\n",
    "values = [average_response_time_american, inbound_tweet_count_american, final_response_time_american]\n",
    "\n",
    "plt.figure(figsize=(10, 7))\n",
    "plt.bar(categories, values, color=['skyblue', 'plum', 'aquamarine'],edgecolor='black')\n",
    "\n",
    "for i, v in enumerate(values):\n",
    "    plt.text(i, v + 0.2 * v, f\"{v:.0f}\", ha='center', va='bottom', fontsize=10)\n",
    "\n",
    "plt.ylabel('Values (Log Scale)')\n",
    "plt.yscale('log') \n",
    "plt.title('Final Response Time Analysis for American Airline')\n",
    "plt.show()\n"
   ]
  },
  {
   "cell_type": "markdown",
   "id": "523cc891",
   "metadata": {},
   "source": [
    "#### Delta Airlines"
   ]
  },
  {
   "cell_type": "code",
   "execution_count": 109,
   "id": "e88c1716",
   "metadata": {},
   "outputs": [
    {
     "name": "stdout",
     "output_type": "stream",
     "text": [
      "Final Response Time for Delta Airlines: 45172513288.0 milliseconds\n"
     ]
    }
   ],
   "source": [
    "average_response_time_delta = 1.069096e+06\n",
    "inbound_tweet_count_delta = 42253\n",
    "final_response_time_delta = inbound_tweet_count_delta * average_response_time_delta\n",
    "print(f\"Final Response Time for Delta Airlines: {final_response_time_delta} milliseconds\")"
   ]
  },
  {
   "cell_type": "code",
   "execution_count": 110,
   "id": "856febaa",
   "metadata": {},
   "outputs": [
    {
     "data": {
      "image/png": "[encoded data removed]",
      "text/plain": [
       "<Figure size 1000x700 with 1 Axes>"
      ]
     },
     "metadata": {},
     "output_type": "display_data"
    }
   ],
   "source": [
    "categories = ['Average Response Time', 'Total Inbound Tweets', 'Final Response Time']\n",
    "values = [average_response_time_delta, inbound_tweet_count_delta, final_response_time_delta]\n",
    "\n",
    "plt.figure(figsize=(10, 7))\n",
    "plt.bar(categories, values, color=['mediumpurple', 'cornflowerblue', 'greenyellow'],edgecolor='black')\n",
    "\n",
    "for i, v in enumerate(values):\n",
    "    plt.text(i, v + 0.2 * v, f\"{v:.0f}\", ha='center', va='bottom', fontsize=10)\n",
    "\n",
    "plt.ylabel('Values (Log Scale)')\n",
    "plt.yscale('log') \n",
    "plt.title('Final Response Time Analysis for Delta Airline')\n",
    "plt.show()\n"
   ]
  },
  {
   "cell_type": "markdown",
   "id": "dc5fb90f",
   "metadata": {},
   "source": [
    "#### Comparing final response times of American Airline and Delta Airline"
   ]
  },
  {
   "cell_type": "markdown",
   "id": "ce2ca66d",
   "metadata": {},
   "source": [
    "#### What company has a faster final response time?"
   ]
  },
  {
   "cell_type": "code",
   "execution_count": 111,
   "id": "0a8fc5a6",
   "metadata": {},
   "outputs": [
    {
     "data": {
      "image/png": "[encoded data removed]",
      "text/plain": [
       "<Figure size 800x600 with 1 Axes>"
      ]
     },
     "metadata": {},
     "output_type": "display_data"
    }
   ],
   "source": [
    "categories = ['American Airline', 'Delta Airline']\n",
    "values = [final_response_time_american, final_response_time_delta]\n",
    "\n",
    "plt.figure(figsize=(8, 6))\n",
    "plt.bar(categories, values, color=['palegreen','aquamarine'],edgecolor='black')\n",
    "\n",
    "for i, v in enumerate(values):\n",
    "    plt.text(i, v + 0 * v, f\"{v:.0f}\", ha='center', va='bottom', fontsize=10)\n",
    "\n",
    "plt.ylabel('Values (Log Scale)')\n",
    "plt.yscale('log') \n",
    "plt.title('Final Response Time Analysis for Airline Companies')\n",
    "plt.show()"
   ]
  },
  {
   "cell_type": "markdown",
   "id": "f6d2f3d6",
   "metadata": {},
   "source": [
    "## Result\n",
    "American Airlines with an average response time of approximately 36,147,780,214 units is faster than Delta with an average response time of approximately 45,172,513,288 units. This can correlate to customers being more satified with American Airlines customer support via the tweet data set."
   ]
  }
 ],
 "metadata": {
  "kernelspec": {
   "display_name": "Python 3 (ipykernel)",
   "language": "python",
   "name": "python3"
  },
  "language_info": {
   "codemirror_mode": {
    "name": "ipython",
    "version": 3
   },
   "file_extension": ".py",
   "mimetype": "text/x-python",
   "name": "python",
   "nbconvert_exporter": "python",
   "pygments_lexer": "ipython3",
   "version": "3.11.4"
  }
 },
 "nbformat": 4,
 "nbformat_minor": 5
}
