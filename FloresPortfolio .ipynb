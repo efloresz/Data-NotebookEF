{
 "cells": [
  {
   "cell_type": "markdown",
   "id": "06e43a7a",
   "metadata": {},
   "source": [
    "### Visualize Chatbot/Response Data to Inform Business Decisions\n",
    "#### Emily Flores: Week 2-7 project deliverables portfolio\n",
    "\n",
    "Work on Customer Support Twitter dataset, modern corpus of tweets and replies. Check, analyze and understand the pattern and conversations, and for study of modern customer support practices and impact. Using the data, analyze and build interactive visualization to make business decision. \n"
   ]
  },
  {
   "cell_type": "markdown",
   "id": "a64e59eb",
   "metadata": {},
   "source": [
    "####  Exploratory data analysis "
   ]
  },
  {
   "cell_type": "code",
   "execution_count": 1,
   "id": "d4c1ceda",
   "metadata": {},
   "outputs": [],
   "source": [
    "import pandas as pd"
   ]
  },
  {
   "cell_type": "code",
   "execution_count": 2,
   "id": "978f44ea",
   "metadata": {},
   "outputs": [],
   "source": [
    "file_path = 'twcs.csv'\n",
    "dataset = pd.read_csv('twcs.csv')"
   ]
  },
  {
   "cell_type": "code",
   "execution_count": 3,
   "id": "d7c4d27c",
   "metadata": {},
   "outputs": [
    {
     "data": {
      "text/html": [
       "<div>\n",
       "<style scoped>\n",
       "    .dataframe tbody tr th:only-of-type {\n",
       "        vertical-align: middle;\n",
       "    }\n",
       "\n",
       "    .dataframe tbody tr th {\n",
       "        vertical-align: top;\n",
       "    }\n",
       "\n",
       "    .dataframe thead th {\n",
       "        text-align: right;\n",
       "    }\n",
       "</style>\n",
       "<table border=\"1\" class=\"dataframe\">\n",
       "  <thead>\n",
       "    <tr style=\"text-align: right;\">\n",
       "      <th></th>\n",
       "      <th>tweet_id</th>\n",
       "      <th>author_id</th>\n",
       "      <th>inbound</th>\n",
       "      <th>created_at</th>\n",
       "      <th>text</th>\n",
       "      <th>response_tweet_id</th>\n",
       "      <th>in_response_to_tweet_id</th>\n",
       "    </tr>\n",
       "  </thead>\n",
       "  <tbody>\n",
       "    <tr>\n",
       "      <th>0</th>\n",
       "      <td>1</td>\n",
       "      <td>sprintcare</td>\n",
       "      <td>False</td>\n",
       "      <td>Tue Oct 31 22:10:47 +0000 2017</td>\n",
       "      <td>@115712 I understand. I would like to assist y...</td>\n",
       "      <td>2</td>\n",
       "      <td>3.0</td>\n",
       "    </tr>\n",
       "    <tr>\n",
       "      <th>1</th>\n",
       "      <td>2</td>\n",
       "      <td>115712</td>\n",
       "      <td>True</td>\n",
       "      <td>Tue Oct 31 22:11:45 +0000 2017</td>\n",
       "      <td>@sprintcare and how do you propose we do that</td>\n",
       "      <td>NaN</td>\n",
       "      <td>1.0</td>\n",
       "    </tr>\n",
       "    <tr>\n",
       "      <th>2</th>\n",
       "      <td>3</td>\n",
       "      <td>115712</td>\n",
       "      <td>True</td>\n",
       "      <td>Tue Oct 31 22:08:27 +0000 2017</td>\n",
       "      <td>@sprintcare I have sent several private messag...</td>\n",
       "      <td>1</td>\n",
       "      <td>4.0</td>\n",
       "    </tr>\n",
       "    <tr>\n",
       "      <th>3</th>\n",
       "      <td>4</td>\n",
       "      <td>sprintcare</td>\n",
       "      <td>False</td>\n",
       "      <td>Tue Oct 31 21:54:49 +0000 2017</td>\n",
       "      <td>@115712 Please send us a Private Message so th...</td>\n",
       "      <td>3</td>\n",
       "      <td>5.0</td>\n",
       "    </tr>\n",
       "    <tr>\n",
       "      <th>4</th>\n",
       "      <td>5</td>\n",
       "      <td>115712</td>\n",
       "      <td>True</td>\n",
       "      <td>Tue Oct 31 21:49:35 +0000 2017</td>\n",
       "      <td>@sprintcare I did.</td>\n",
       "      <td>4</td>\n",
       "      <td>6.0</td>\n",
       "    </tr>\n",
       "  </tbody>\n",
       "</table>\n",
       "</div>"
      ],
      "text/plain": [
       "   tweet_id   author_id  inbound                      created_at  \\\n",
       "0         1  sprintcare    False  Tue Oct 31 22:10:47 +0000 2017   \n",
       "1         2      115712     True  Tue Oct 31 22:11:45 +0000 2017   \n",
       "2         3      115712     True  Tue Oct 31 22:08:27 +0000 2017   \n",
       "3         4  sprintcare    False  Tue Oct 31 21:54:49 +0000 2017   \n",
       "4         5      115712     True  Tue Oct 31 21:49:35 +0000 2017   \n",
       "\n",
       "                                                text response_tweet_id  \\\n",
       "0  @115712 I understand. I would like to assist y...                 2   \n",
       "1      @sprintcare and how do you propose we do that               NaN   \n",
       "2  @sprintcare I have sent several private messag...                 1   \n",
       "3  @115712 Please send us a Private Message so th...                 3   \n",
       "4                                 @sprintcare I did.                 4   \n",
       "\n",
       "   in_response_to_tweet_id  \n",
       "0                      3.0  \n",
       "1                      1.0  \n",
       "2                      4.0  \n",
       "3                      5.0  \n",
       "4                      6.0  "
      ]
     },
     "execution_count": 3,
     "metadata": {},
     "output_type": "execute_result"
    }
   ],
   "source": [
    "dataset.head()"
   ]
  },
  {
   "cell_type": "code",
   "execution_count": 4,
   "id": "62c8412a",
   "metadata": {},
   "outputs": [],
   "source": [
    "rows, columns = dataset.shape"
   ]
  },
  {
   "cell_type": "code",
   "execution_count": 5,
   "id": "1f8ef542",
   "metadata": {},
   "outputs": [
    {
     "name": "stdout",
     "output_type": "stream",
     "text": [
      "Number of Rows: 2811774\n"
     ]
    }
   ],
   "source": [
    "print(\"Number of Rows:\", rows)"
   ]
  },
  {
   "cell_type": "code",
   "execution_count": 6,
   "id": "e71047db",
   "metadata": {},
   "outputs": [
    {
     "name": "stdout",
     "output_type": "stream",
     "text": [
      "Number of Columns: 7\n"
     ]
    }
   ],
   "source": [
    "print(\"Number of Columns:\", columns)"
   ]
  },
  {
   "cell_type": "code",
   "execution_count": 7,
   "id": "3b4ec22d",
   "metadata": {},
   "outputs": [
    {
     "name": "stdout",
     "output_type": "stream",
     "text": [
      "<class 'pandas.core.frame.DataFrame'>\n",
      "RangeIndex: 2811774 entries, 0 to 2811773\n",
      "Data columns (total 7 columns):\n",
      " #   Column                   Dtype  \n",
      "---  ------                   -----  \n",
      " 0   tweet_id                 int64  \n",
      " 1   author_id                object \n",
      " 2   inbound                  bool   \n",
      " 3   created_at               object \n",
      " 4   text                     object \n",
      " 5   response_tweet_id        object \n",
      " 6   in_response_to_tweet_id  float64\n",
      "dtypes: bool(1), float64(1), int64(1), object(4)\n",
      "memory usage: 131.4+ MB\n"
     ]
    }
   ],
   "source": [
    "dataset.info()"
   ]
  },
  {
   "cell_type": "code",
   "execution_count": 8,
   "id": "f45f9cad",
   "metadata": {},
   "outputs": [],
   "source": [
    "description = dataset.describe()"
   ]
  },
  {
   "cell_type": "code",
   "execution_count": 9,
   "id": "0c17a56e",
   "metadata": {},
   "outputs": [
    {
     "name": "stdout",
     "output_type": "stream",
     "text": [
      "           tweet_id  in_response_to_tweet_id\n",
      "count  2.811774e+06             2.017439e+06\n",
      "mean   1.504565e+06             1.463141e+06\n",
      "std    8.616450e+05             8.665730e+05\n",
      "min    1.000000e+00             1.000000e+00\n",
      "25%    7.601652e+05             7.155105e+05\n",
      "50%    1.507772e+06             1.439805e+06\n",
      "75%    2.253296e+06             2.220646e+06\n",
      "max    2.987950e+06             2.987950e+06\n"
     ]
    }
   ],
   "source": [
    "print(description)"
   ]
  },
  {
   "cell_type": "code",
   "execution_count": 10,
   "id": "77e0c384",
   "metadata": {},
   "outputs": [
    {
     "data": {
      "text/plain": [
       "tweet_id                         0\n",
       "author_id                        0\n",
       "inbound                          0\n",
       "created_at                       0\n",
       "text                             0\n",
       "response_tweet_id          1040629\n",
       "in_response_to_tweet_id     794335\n",
       "dtype: int64"
      ]
     },
     "execution_count": 10,
     "metadata": {},
     "output_type": "execute_result"
    }
   ],
   "source": [
    "dataset.isnull().sum()"
   ]
  },
  {
   "cell_type": "code",
   "execution_count": 11,
   "id": "e7acf4cb",
   "metadata": {},
   "outputs": [],
   "source": [
    "duplicateValues = dataset.duplicated()"
   ]
  },
  {
   "cell_type": "code",
   "execution_count": 12,
   "id": "8287c280",
   "metadata": {},
   "outputs": [
    {
     "name": "stdout",
     "output_type": "stream",
     "text": [
      "0\n"
     ]
    }
   ],
   "source": [
    "print(duplicateValues.sum())"
   ]
  },
  {
   "cell_type": "code",
   "execution_count": 13,
   "id": "dd23757d",
   "metadata": {},
   "outputs": [
    {
     "data": {
      "text/html": [
       "<div>\n",
       "<style scoped>\n",
       "    .dataframe tbody tr th:only-of-type {\n",
       "        vertical-align: middle;\n",
       "    }\n",
       "\n",
       "    .dataframe tbody tr th {\n",
       "        vertical-align: top;\n",
       "    }\n",
       "\n",
       "    .dataframe thead th {\n",
       "        text-align: right;\n",
       "    }\n",
       "</style>\n",
       "<table border=\"1\" class=\"dataframe\">\n",
       "  <thead>\n",
       "    <tr style=\"text-align: right;\">\n",
       "      <th></th>\n",
       "      <th>tweet_id</th>\n",
       "      <th>author_id</th>\n",
       "      <th>inbound</th>\n",
       "      <th>created_at</th>\n",
       "      <th>text</th>\n",
       "      <th>response_tweet_id</th>\n",
       "      <th>in_response_to_tweet_id</th>\n",
       "    </tr>\n",
       "  </thead>\n",
       "  <tbody>\n",
       "  </tbody>\n",
       "</table>\n",
       "</div>"
      ],
      "text/plain": [
       "Empty DataFrame\n",
       "Columns: [tweet_id, author_id, inbound, created_at, text, response_tweet_id, in_response_to_tweet_id]\n",
       "Index: []"
      ]
     },
     "execution_count": 13,
     "metadata": {},
     "output_type": "execute_result"
    }
   ],
   "source": [
    "dataset[duplicateValues]"
   ]
  },
  {
   "cell_type": "markdown",
   "id": "b9aa9342",
   "metadata": {},
   "source": [
    "#### The data can be cleaned by reordering the 'created_at' attribute by date added.\n",
    "#### Most recent tweet at the top of data set * oldest at the end."
   ]
  },
  {
   "cell_type": "code",
   "execution_count": 14,
   "id": "8b618444",
   "metadata": {},
   "outputs": [],
   "source": [
    "dataset.sort_values(by='created_at', ascending=True, inplace=True)"
   ]
  },
  {
   "cell_type": "code",
   "execution_count": 15,
   "id": "f7946fe8",
   "metadata": {},
   "outputs": [
    {
     "data": {
      "text/html": [
       "<div>\n",
       "<style scoped>\n",
       "    .dataframe tbody tr th:only-of-type {\n",
       "        vertical-align: middle;\n",
       "    }\n",
       "\n",
       "    .dataframe tbody tr th {\n",
       "        vertical-align: top;\n",
       "    }\n",
       "\n",
       "    .dataframe thead th {\n",
       "        text-align: right;\n",
       "    }\n",
       "</style>\n",
       "<table border=\"1\" class=\"dataframe\">\n",
       "  <thead>\n",
       "    <tr style=\"text-align: right;\">\n",
       "      <th></th>\n",
       "      <th>tweet_id</th>\n",
       "      <th>author_id</th>\n",
       "      <th>inbound</th>\n",
       "      <th>created_at</th>\n",
       "      <th>text</th>\n",
       "      <th>response_tweet_id</th>\n",
       "      <th>in_response_to_tweet_id</th>\n",
       "    </tr>\n",
       "  </thead>\n",
       "  <tbody>\n",
       "    <tr>\n",
       "      <th>2496505</th>\n",
       "      <td>2666295</td>\n",
       "      <td>751178</td>\n",
       "      <td>True</td>\n",
       "      <td>Fri Apr 01 17:37:48 +0000 2016</td>\n",
       "      <td>@AskSeagate Same issue Seagate. Is there a sol...</td>\n",
       "      <td>2666294</td>\n",
       "      <td>2666296.0</td>\n",
       "    </tr>\n",
       "    <tr>\n",
       "      <th>2496504</th>\n",
       "      <td>2666294</td>\n",
       "      <td>AskSeagate</td>\n",
       "      <td>False</td>\n",
       "      <td>Fri Apr 01 18:22:40 +0000 2016</td>\n",
       "      <td>@751178 Pls give us more clarification on your...</td>\n",
       "      <td>2666293</td>\n",
       "      <td>2666295.0</td>\n",
       "    </tr>\n",
       "    <tr>\n",
       "      <th>2496503</th>\n",
       "      <td>2666293</td>\n",
       "      <td>751178</td>\n",
       "      <td>True</td>\n",
       "      <td>Fri Apr 01 18:25:52 +0000 2016</td>\n",
       "      <td>@AskSeagate Bootstrap and media server daemon ...</td>\n",
       "      <td>2666291</td>\n",
       "      <td>2666294.0</td>\n",
       "    </tr>\n",
       "    <tr>\n",
       "      <th>2496501</th>\n",
       "      <td>2666291</td>\n",
       "      <td>AskSeagate</td>\n",
       "      <td>False</td>\n",
       "      <td>Fri Apr 01 19:53:33 +0000 2016</td>\n",
       "      <td>@751178 Pls use the link bellow to download th...</td>\n",
       "      <td>2666292</td>\n",
       "      <td>2666293.0</td>\n",
       "    </tr>\n",
       "    <tr>\n",
       "      <th>352823</th>\n",
       "      <td>402549</td>\n",
       "      <td>211231</td>\n",
       "      <td>True</td>\n",
       "      <td>Fri Apr 03 19:57:41 +0000 2015</td>\n",
       "      <td>@AsurionCares How do I get a receipt of my mon...</td>\n",
       "      <td>402547</td>\n",
       "      <td>NaN</td>\n",
       "    </tr>\n",
       "  </tbody>\n",
       "</table>\n",
       "</div>"
      ],
      "text/plain": [
       "         tweet_id   author_id  inbound                      created_at  \\\n",
       "2496505   2666295      751178     True  Fri Apr 01 17:37:48 +0000 2016   \n",
       "2496504   2666294  AskSeagate    False  Fri Apr 01 18:22:40 +0000 2016   \n",
       "2496503   2666293      751178     True  Fri Apr 01 18:25:52 +0000 2016   \n",
       "2496501   2666291  AskSeagate    False  Fri Apr 01 19:53:33 +0000 2016   \n",
       "352823     402549      211231     True  Fri Apr 03 19:57:41 +0000 2015   \n",
       "\n",
       "                                                      text response_tweet_id  \\\n",
       "2496505  @AskSeagate Same issue Seagate. Is there a sol...           2666294   \n",
       "2496504  @751178 Pls give us more clarification on your...           2666293   \n",
       "2496503  @AskSeagate Bootstrap and media server daemon ...           2666291   \n",
       "2496501  @751178 Pls use the link bellow to download th...           2666292   \n",
       "352823   @AsurionCares How do I get a receipt of my mon...            402547   \n",
       "\n",
       "         in_response_to_tweet_id  \n",
       "2496505                2666296.0  \n",
       "2496504                2666295.0  \n",
       "2496503                2666294.0  \n",
       "2496501                2666293.0  \n",
       "352823                       NaN  "
      ]
     },
     "execution_count": 15,
     "metadata": {},
     "output_type": "execute_result"
    }
   ],
   "source": [
    "dataset.head()"
   ]
  },
  {
   "cell_type": "markdown",
   "id": "b3bed5e4",
   "metadata": {},
   "source": [
    "#### The data can be cleaned by reorganizing the author_id by alphabetic order.\n",
    "#### Start with 'author_id' that starts with 'a' & ends with 'z'"
   ]
  },
  {
   "cell_type": "code",
   "execution_count": 17,
   "id": "d62b7427",
   "metadata": {},
   "outputs": [],
   "source": [
    "dataset.sort_values(by='author_id', ascending=True, inplace=True)"
   ]
  },
  {
   "cell_type": "code",
   "execution_count": 18,
   "id": "9bd1a319",
   "metadata": {},
   "outputs": [
    {
     "data": {
      "text/html": [
       "<div>\n",
       "<style scoped>\n",
       "    .dataframe tbody tr th:only-of-type {\n",
       "        vertical-align: middle;\n",
       "    }\n",
       "\n",
       "    .dataframe tbody tr th {\n",
       "        vertical-align: top;\n",
       "    }\n",
       "\n",
       "    .dataframe thead th {\n",
       "        text-align: right;\n",
       "    }\n",
       "</style>\n",
       "<table border=\"1\" class=\"dataframe\">\n",
       "  <thead>\n",
       "    <tr style=\"text-align: right;\">\n",
       "      <th></th>\n",
       "      <th>tweet_id</th>\n",
       "      <th>author_id</th>\n",
       "      <th>inbound</th>\n",
       "      <th>created_at</th>\n",
       "      <th>text</th>\n",
       "      <th>response_tweet_id</th>\n",
       "      <th>in_response_to_tweet_id</th>\n",
       "    </tr>\n",
       "  </thead>\n",
       "  <tbody>\n",
       "    <tr>\n",
       "      <th>576082</th>\n",
       "      <td>648216</td>\n",
       "      <td>10026</td>\n",
       "      <td>True</td>\n",
       "      <td>Thu Oct 05 00:08:01 +0000 2017</td>\n",
       "      <td>Screw you @116016 and your stupid Blueprint pr...</td>\n",
       "      <td>648215</td>\n",
       "      <td>NaN</td>\n",
       "    </tr>\n",
       "    <tr>\n",
       "      <th>1543061</th>\n",
       "      <td>1693185</td>\n",
       "      <td>10026</td>\n",
       "      <td>True</td>\n",
       "      <td>Mon Nov 06 15:38:24 +0000 2017</td>\n",
       "      <td>Dear @ChaseSupport, it’s kinda hard to pay my ...</td>\n",
       "      <td>1693184</td>\n",
       "      <td>NaN</td>\n",
       "    </tr>\n",
       "    <tr>\n",
       "      <th>1543060</th>\n",
       "      <td>1693184</td>\n",
       "      <td>10026</td>\n",
       "      <td>True</td>\n",
       "      <td>Mon Nov 06 15:45:29 +0000 2017</td>\n",
       "      <td>@ChaseSupport Actually it just doesn’t work in...</td>\n",
       "      <td>1693183</td>\n",
       "      <td>1693185.0</td>\n",
       "    </tr>\n",
       "    <tr>\n",
       "      <th>637146</th>\n",
       "      <td>713796</td>\n",
       "      <td>100363</td>\n",
       "      <td>True</td>\n",
       "      <td>Tue Oct 10 22:25:39 +0000 2017</td>\n",
       "      <td>Now the flight @Delta is sending our bag back ...</td>\n",
       "      <td>713795</td>\n",
       "      <td>NaN</td>\n",
       "    </tr>\n",
       "    <tr>\n",
       "      <th>1752883</th>\n",
       "      <td>1906927</td>\n",
       "      <td>10103</td>\n",
       "      <td>True</td>\n",
       "      <td>Wed Oct 25 09:42:58 +0000 2017</td>\n",
       "      <td>@MOO Big thanks to Quentin for the exceptional...</td>\n",
       "      <td>1906926</td>\n",
       "      <td>NaN</td>\n",
       "    </tr>\n",
       "  </tbody>\n",
       "</table>\n",
       "</div>"
      ],
      "text/plain": [
       "         tweet_id author_id  inbound                      created_at  \\\n",
       "576082     648216     10026     True  Thu Oct 05 00:08:01 +0000 2017   \n",
       "1543061   1693185     10026     True  Mon Nov 06 15:38:24 +0000 2017   \n",
       "1543060   1693184     10026     True  Mon Nov 06 15:45:29 +0000 2017   \n",
       "637146     713796    100363     True  Tue Oct 10 22:25:39 +0000 2017   \n",
       "1752883   1906927     10103     True  Wed Oct 25 09:42:58 +0000 2017   \n",
       "\n",
       "                                                      text response_tweet_id  \\\n",
       "576082   Screw you @116016 and your stupid Blueprint pr...            648215   \n",
       "1543061  Dear @ChaseSupport, it’s kinda hard to pay my ...           1693184   \n",
       "1543060  @ChaseSupport Actually it just doesn’t work in...           1693183   \n",
       "637146   Now the flight @Delta is sending our bag back ...            713795   \n",
       "1752883  @MOO Big thanks to Quentin for the exceptional...           1906926   \n",
       "\n",
       "         in_response_to_tweet_id  \n",
       "576082                       NaN  \n",
       "1543061                      NaN  \n",
       "1543060                1693185.0  \n",
       "637146                       NaN  \n",
       "1752883                      NaN  "
      ]
     },
     "execution_count": 18,
     "metadata": {},
     "output_type": "execute_result"
    }
   ],
   "source": [
    "dataset.head()"
   ]
  },
  {
   "cell_type": "markdown",
   "id": "5698b197",
   "metadata": {},
   "source": [
    "#### I noticed there are repeated 'author_id' we can group them together. \n",
    "#### While maintaing the 'author_id' in alphabetic order.\n",
    "#### This will make it easier to access tweets from specific users. "
   ]
  },
  {
   "cell_type": "code",
   "execution_count": 19,
   "id": "77338e63",
   "metadata": {},
   "outputs": [],
   "source": [
    "grouped_data = dataset.groupby('author_id')"
   ]
  },
  {
   "cell_type": "code",
   "execution_count": 20,
   "id": "f039a240",
   "metadata": {},
   "outputs": [
    {
     "data": {
      "text/html": [
       "<div>\n",
       "<style scoped>\n",
       "    .dataframe tbody tr th:only-of-type {\n",
       "        vertical-align: middle;\n",
       "    }\n",
       "\n",
       "    .dataframe tbody tr th {\n",
       "        vertical-align: top;\n",
       "    }\n",
       "\n",
       "    .dataframe thead th {\n",
       "        text-align: right;\n",
       "    }\n",
       "</style>\n",
       "<table border=\"1\" class=\"dataframe\">\n",
       "  <thead>\n",
       "    <tr style=\"text-align: right;\">\n",
       "      <th></th>\n",
       "      <th>tweet_id</th>\n",
       "      <th>author_id</th>\n",
       "      <th>inbound</th>\n",
       "      <th>created_at</th>\n",
       "      <th>text</th>\n",
       "      <th>response_tweet_id</th>\n",
       "      <th>in_response_to_tweet_id</th>\n",
       "    </tr>\n",
       "  </thead>\n",
       "  <tbody>\n",
       "    <tr>\n",
       "      <th>576082</th>\n",
       "      <td>648216</td>\n",
       "      <td>10026</td>\n",
       "      <td>True</td>\n",
       "      <td>Thu Oct 05 00:08:01 +0000 2017</td>\n",
       "      <td>Screw you @116016 and your stupid Blueprint pr...</td>\n",
       "      <td>648215</td>\n",
       "      <td>NaN</td>\n",
       "    </tr>\n",
       "    <tr>\n",
       "      <th>1543061</th>\n",
       "      <td>1693185</td>\n",
       "      <td>10026</td>\n",
       "      <td>True</td>\n",
       "      <td>Mon Nov 06 15:38:24 +0000 2017</td>\n",
       "      <td>Dear @ChaseSupport, it’s kinda hard to pay my ...</td>\n",
       "      <td>1693184</td>\n",
       "      <td>NaN</td>\n",
       "    </tr>\n",
       "    <tr>\n",
       "      <th>1543060</th>\n",
       "      <td>1693184</td>\n",
       "      <td>10026</td>\n",
       "      <td>True</td>\n",
       "      <td>Mon Nov 06 15:45:29 +0000 2017</td>\n",
       "      <td>@ChaseSupport Actually it just doesn’t work in...</td>\n",
       "      <td>1693183</td>\n",
       "      <td>1693185.0</td>\n",
       "    </tr>\n",
       "    <tr>\n",
       "      <th>637146</th>\n",
       "      <td>713796</td>\n",
       "      <td>100363</td>\n",
       "      <td>True</td>\n",
       "      <td>Tue Oct 10 22:25:39 +0000 2017</td>\n",
       "      <td>Now the flight @Delta is sending our bag back ...</td>\n",
       "      <td>713795</td>\n",
       "      <td>NaN</td>\n",
       "    </tr>\n",
       "    <tr>\n",
       "      <th>1752883</th>\n",
       "      <td>1906927</td>\n",
       "      <td>10103</td>\n",
       "      <td>True</td>\n",
       "      <td>Wed Oct 25 09:42:58 +0000 2017</td>\n",
       "      <td>@MOO Big thanks to Quentin for the exceptional...</td>\n",
       "      <td>1906926</td>\n",
       "      <td>NaN</td>\n",
       "    </tr>\n",
       "  </tbody>\n",
       "</table>\n",
       "</div>"
      ],
      "text/plain": [
       "         tweet_id author_id  inbound                      created_at  \\\n",
       "576082     648216     10026     True  Thu Oct 05 00:08:01 +0000 2017   \n",
       "1543061   1693185     10026     True  Mon Nov 06 15:38:24 +0000 2017   \n",
       "1543060   1693184     10026     True  Mon Nov 06 15:45:29 +0000 2017   \n",
       "637146     713796    100363     True  Tue Oct 10 22:25:39 +0000 2017   \n",
       "1752883   1906927     10103     True  Wed Oct 25 09:42:58 +0000 2017   \n",
       "\n",
       "                                                      text response_tweet_id  \\\n",
       "576082   Screw you @116016 and your stupid Blueprint pr...            648215   \n",
       "1543061  Dear @ChaseSupport, it’s kinda hard to pay my ...           1693184   \n",
       "1543060  @ChaseSupport Actually it just doesn’t work in...           1693183   \n",
       "637146   Now the flight @Delta is sending our bag back ...            713795   \n",
       "1752883  @MOO Big thanks to Quentin for the exceptional...           1906926   \n",
       "\n",
       "         in_response_to_tweet_id  \n",
       "576082                       NaN  \n",
       "1543061                      NaN  \n",
       "1543060                1693185.0  \n",
       "637146                       NaN  \n",
       "1752883                      NaN  "
      ]
     },
     "execution_count": 20,
     "metadata": {},
     "output_type": "execute_result"
    }
   ],
   "source": [
    "dataset.head()"
   ]
  },
  {
   "cell_type": "code",
   "execution_count": 21,
   "id": "24d0b361",
   "metadata": {},
   "outputs": [],
   "source": [
    "inbound_count = dataset[dataset['inbound'] == True]['inbound'].count()"
   ]
  },
  {
   "cell_type": "code",
   "execution_count": 22,
   "id": "d7b3e0be",
   "metadata": {},
   "outputs": [
    {
     "name": "stdout",
     "output_type": "stream",
     "text": [
      "Number of inbound responses: 1537843\n"
     ]
    }
   ],
   "source": [
    "print(\"Number of inbound responses:\", inbound_count)"
   ]
  },
  {
   "cell_type": "code",
   "execution_count": 23,
   "id": "183f54cb",
   "metadata": {},
   "outputs": [],
   "source": [
    "outbound_count = dataset[dataset['inbound'] == False]['inbound'].count()"
   ]
  },
  {
   "cell_type": "code",
   "execution_count": 24,
   "id": "78ce7a1b",
   "metadata": {},
   "outputs": [
    {
     "name": "stdout",
     "output_type": "stream",
     "text": [
      "Number of outbound responses: 1273931\n"
     ]
    }
   ],
   "source": [
    "print(\"Number of outbound responses:\", outbound_count)"
   ]
  },
  {
   "cell_type": "code",
   "execution_count": 25,
   "id": "02a05b1c",
   "metadata": {},
   "outputs": [],
   "source": [
    "unique_tweets_count = dataset['tweet_id'].nunique()"
   ]
  },
  {
   "cell_type": "code",
   "execution_count": 26,
   "id": "02a33478",
   "metadata": {},
   "outputs": [
    {
     "name": "stdout",
     "output_type": "stream",
     "text": [
      "Number of unique tweets: 2811774\n"
     ]
    }
   ],
   "source": [
    "print(\"Number of unique tweets:\", unique_tweets_count)"
   ]
  },
  {
   "cell_type": "code",
   "execution_count": 27,
   "id": "df4bc67e",
   "metadata": {},
   "outputs": [],
   "source": [
    "top_20_users = dataset['author_id'].value_counts().head(20)"
   ]
  },
  {
   "cell_type": "code",
   "execution_count": 28,
   "id": "d69ddafc",
   "metadata": {},
   "outputs": [
    {
     "name": "stdout",
     "output_type": "stream",
     "text": [
      "Top 20 Twitter users:\n",
      " AmazonHelp         169840\n",
      "AppleSupport       106860\n",
      "Uber_Support        56270\n",
      "SpotifyCares        43265\n",
      "Delta               42253\n",
      "Tesco               38573\n",
      "AmericanAir         36764\n",
      "TMobileHelp         34317\n",
      "comcastcares        33031\n",
      "British_Airways     29361\n",
      "SouthwestAir        28977\n",
      "VirginTrains        27817\n",
      "Ask_Spectrum        25860\n",
      "XboxSupport         24557\n",
      "sprintcare          22381\n",
      "hulu_support        21872\n",
      "sainsburys          19466\n",
      "GWRHelp             19364\n",
      "AskPlayStation      19098\n",
      "ChipotleTweets      18749\n",
      "Name: author_id, dtype: int64\n"
     ]
    }
   ],
   "source": [
    "print(\"Top 20 Twitter users:\\n\", top_20_users)"
   ]
  }
 ],
 "metadata": {
  "kernelspec": {
   "display_name": "Python 3 (ipykernel)",
   "language": "python",
   "name": "python3"
  },
  "language_info": {
   "codemirror_mode": {
    "name": "ipython",
    "version": 3
   },
   "file_extension": ".py",
   "mimetype": "text/x-python",
   "name": "python",
   "nbconvert_exporter": "python",
   "pygments_lexer": "ipython3",
   "version": "3.11.4"
  }
 },
 "nbformat": 4,
 "nbformat_minor": 5
}
