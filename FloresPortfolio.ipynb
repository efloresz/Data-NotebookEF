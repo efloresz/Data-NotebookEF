{
 "cells": [
  {
   "cell_type": "markdown",
   "id": "4aaf7372",
   "metadata": {},
   "source": [
    "## Visualize Chatbot/Response Data to Inform Business Decisions\n",
    "#### Emily Flores: Week 2-7 project deliverables portfolio\n",
    "\n",
    "Work on Customer Support Twitter dataset, modern corpus of tweets and replies. Check, analyze and understand the pattern and conversations, and for study of modern customer support practices and impact. Using the data, analyze and build interactive visualization to make business decision. \n"
   ]
  },
  {
   "cell_type": "markdown",
   "id": "530e03e9",
   "metadata": {},
   "source": [
    "####  Exploratory data analysis "
   ]
  },
  {
   "cell_type": "code",
   "execution_count": null,
   "id": "3dda07d1",
   "metadata": {},
   "outputs": [],
   "source": [
    "import pandas as pd\n",
    "import numpy as np\n",
    "import string\n",
    "from nltk.corpus import stopwords\n",
    "from collections import Counter \n",
    "from nltk.stem import PorterStemmer\n",
    "from nltk.stem import WordNetLemmatizer\n",
    "from bs4 import BeautifulSoup\n",
    "from spellchecker import SpellChecker \n",
    "import matplotlib.pyplot as plt\n",
    "from sklearn.feature_extraction.text import CountVectorizer\n",
    "from sklearn.model_selection import train_test_split\n",
    "from sklearn.ensemble import RandomForestClassifier\n",
    "from sklearn.metrics import accuracy_score\n",
    "from textblob import TextBlob\n",
    "import plotly.figure_factory as ff\n",
    "import plotly.graph_objects as go\n",
    "import plotly.express as px"
   ]
  },
  {
   "cell_type": "code",
   "execution_count": null,
   "id": "e72a58af",
   "metadata": {},
   "outputs": [],
   "source": [
    "file_path = 'twcs.csv'\n",
    "dataset = pd.read_csv('twcs.csv')"
   ]
  },
  {
   "cell_type": "code",
   "execution_count": null,
   "id": "cdb2aaa4",
   "metadata": {},
   "outputs": [],
   "source": [
    "dataset.head()"
   ]
  },
  {
   "cell_type": "code",
   "execution_count": null,
   "id": "d07b40fc",
   "metadata": {},
   "outputs": [],
   "source": [
    "rows, columns = dataset.shape"
   ]
  },
  {
   "cell_type": "code",
   "execution_count": null,
   "id": "0fa8ade3",
   "metadata": {},
   "outputs": [],
   "source": [
    "print(\"Number of Rows:\", rows)"
   ]
  },
  {
   "cell_type": "code",
   "execution_count": null,
   "id": "6e6379e5",
   "metadata": {},
   "outputs": [],
   "source": [
    "print(\"Number of Columns:\", columns)"
   ]
  },
  {
   "cell_type": "code",
   "execution_count": null,
   "id": "24fb60ca",
   "metadata": {},
   "outputs": [],
   "source": [
    "dataset.info()"
   ]
  },
  {
   "cell_type": "code",
   "execution_count": null,
   "id": "08d4be98",
   "metadata": {},
   "outputs": [],
   "source": [
    "description = dataset.describe()"
   ]
  },
  {
   "cell_type": "code",
   "execution_count": null,
   "id": "12d069b3",
   "metadata": {},
   "outputs": [],
   "source": [
    "print(description)"
   ]
  },
  {
   "cell_type": "code",
   "execution_count": null,
   "id": "9440b0eb",
   "metadata": {},
   "outputs": [],
   "source": [
    "dataset.isnull().sum()"
   ]
  },
  {
   "cell_type": "code",
   "execution_count": null,
   "id": "48b0106c",
   "metadata": {},
   "outputs": [],
   "source": [
    "duplicateValues = dataset.duplicated()"
   ]
  },
  {
   "cell_type": "code",
   "execution_count": null,
   "id": "2b4132fd",
   "metadata": {},
   "outputs": [],
   "source": [
    "print(duplicateValues.sum())"
   ]
  },
  {
   "cell_type": "code",
   "execution_count": null,
   "id": "7cbe65a1",
   "metadata": {},
   "outputs": [],
   "source": [
    "dataset[duplicateValues]"
   ]
  },
  {
   "cell_type": "markdown",
   "id": "65c7eb28",
   "metadata": {},
   "source": [
    "#### The data can be cleaned by reordering the 'created_at' attribute by date added.\n",
    "#### Most recent tweet at the top of data set * oldest at the end."
   ]
  },
  {
   "cell_type": "code",
   "execution_count": null,
   "id": "a91c0d6e",
   "metadata": {},
   "outputs": [],
   "source": [
    "dataset.sort_values(by='created_at', ascending=True, inplace=True)"
   ]
  },
  {
   "cell_type": "code",
   "execution_count": null,
   "id": "b75a3c09",
   "metadata": {},
   "outputs": [],
   "source": [
    "dataset.head()"
   ]
  },
  {
   "cell_type": "markdown",
   "id": "ef63649e",
   "metadata": {},
   "source": [
    "#### The data can be cleaned by reorganizing the author_id by alphabetic order.\n",
    "#### Start with 'author_id' that starts with 'a' & ends with 'z'"
   ]
  },
  {
   "cell_type": "code",
   "execution_count": null,
   "id": "6733a836",
   "metadata": {},
   "outputs": [],
   "source": [
    "dataset.sort_values(by='author_id', ascending=True, inplace=True)"
   ]
  },
  {
   "cell_type": "code",
   "execution_count": null,
   "id": "0ef4860a",
   "metadata": {},
   "outputs": [],
   "source": [
    "dataset.head()"
   ]
  },
  {
   "cell_type": "markdown",
   "id": "48824021",
   "metadata": {},
   "source": [
    "#### I noticed there are repeated 'author_id' we can group them together. \n",
    "#### While maintaing the 'author_id' in alphabetic order.\n",
    "#### This will make it easier to access tweets from specific users. "
   ]
  },
  {
   "cell_type": "code",
   "execution_count": null,
   "id": "7234a02b",
   "metadata": {},
   "outputs": [],
   "source": [
    "grouped_data = dataset.groupby('author_id')"
   ]
  },
  {
   "cell_type": "code",
   "execution_count": null,
   "id": "94ccf416",
   "metadata": {},
   "outputs": [],
   "source": [
    "dataset.head()"
   ]
  },
  {
   "cell_type": "code",
   "execution_count": null,
   "id": "b355013f",
   "metadata": {},
   "outputs": [],
   "source": [
    "inbound_count = dataset[dataset['inbound'] == True]['inbound'].count()"
   ]
  },
  {
   "cell_type": "code",
   "execution_count": null,
   "id": "49741266",
   "metadata": {},
   "outputs": [],
   "source": [
    "print(\"Number of inbound responses:\", inbound_count)"
   ]
  },
  {
   "cell_type": "code",
   "execution_count": null,
   "id": "013dbe67",
   "metadata": {},
   "outputs": [],
   "source": [
    "outbound_count = dataset[dataset['inbound'] == False]['inbound'].count()"
   ]
  },
  {
   "cell_type": "code",
   "execution_count": null,
   "id": "79abc7c6",
   "metadata": {},
   "outputs": [],
   "source": [
    "print(\"Number of outbound responses:\", outbound_count)"
   ]
  },
  {
   "cell_type": "code",
   "execution_count": null,
   "id": "dd2d402a",
   "metadata": {},
   "outputs": [],
   "source": [
    "unique_tweets_count = dataset['tweet_id'].nunique()"
   ]
  },
  {
   "cell_type": "code",
   "execution_count": null,
   "id": "de0bd306",
   "metadata": {},
   "outputs": [],
   "source": [
    "print(\"Number of unique tweets:\", unique_tweets_count)"
   ]
  },
  {
   "cell_type": "code",
   "execution_count": null,
   "id": "24a73e2c",
   "metadata": {},
   "outputs": [],
   "source": [
    "top_20_users = dataset['author_id'].value_counts().head(20)"
   ]
  },
  {
   "cell_type": "code",
   "execution_count": null,
   "id": "5f618a8f",
   "metadata": {},
   "outputs": [],
   "source": [
    "print(\"Top 20 Twitter users:\\n\", top_20_users)"
   ]
  },
  {
   "cell_type": "markdown",
   "id": "ac3be714",
   "metadata": {},
   "source": [
    "### Data Cleaning"
   ]
  },
  {
   "cell_type": "code",
   "execution_count": null,
   "id": "f98816ec",
   "metadata": {},
   "outputs": [],
   "source": [
    "dataset.head()"
   ]
  },
  {
   "cell_type": "code",
   "execution_count": null,
   "id": "664c1d90",
   "metadata": {},
   "outputs": [],
   "source": [
    "userTweetCount = dataset.groupby('author_id').size().reset_index(name='tweetCount')"
   ]
  },
  {
   "cell_type": "code",
   "execution_count": null,
   "id": "88e03fcc",
   "metadata": {},
   "outputs": [],
   "source": [
    "topUsers = userTweetCount.sort_values(by='tweetCount', ascending=False)"
   ]
  },
  {
   "cell_type": "code",
   "execution_count": null,
   "id": "ec402a88",
   "metadata": {},
   "outputs": [],
   "source": [
    "print(topUsers.head())"
   ]
  },
  {
   "cell_type": "code",
   "execution_count": null,
   "id": "dce1ad3b",
   "metadata": {},
   "outputs": [],
   "source": [
    "authorResCount = dataset.groupby('author_id')['response_tweet_id'].count().reset_index(name='response_count')"
   ]
  },
  {
   "cell_type": "code",
   "execution_count": null,
   "id": "9110807f",
   "metadata": {},
   "outputs": [],
   "source": [
    "topAuthorsRes = authorResCount.sort_values(by='response_count', ascending=False)"
   ]
  },
  {
   "cell_type": "code",
   "execution_count": null,
   "id": "58c8dfb4",
   "metadata": {},
   "outputs": [],
   "source": [
    "print(topAuthorsRes.head())"
   ]
  },
  {
   "cell_type": "code",
   "execution_count": null,
   "id": "51f69d9f",
   "metadata": {},
   "outputs": [],
   "source": [
    "dataset['created_at'] = pd.to_datetime(dataset['created_at'])"
   ]
  },
  {
   "cell_type": "code",
   "execution_count": null,
   "id": "f61e64b5",
   "metadata": {},
   "outputs": [],
   "source": [
    "tweetsByDate = dataset.groupby(dataset['created_at'].dt.date).size().reset_index(name='tweet_count')"
   ]
  },
  {
   "cell_type": "code",
   "execution_count": null,
   "id": "dd77502e",
   "metadata": {},
   "outputs": [],
   "source": [
    "print(tweetsByDate)"
   ]
  },
  {
   "cell_type": "markdown",
   "id": "dd1f44e0",
   "metadata": {},
   "source": [
    "### Data Cleaning Part 2"
   ]
  },
  {
   "cell_type": "code",
   "execution_count": null,
   "id": "4a582f02",
   "metadata": {},
   "outputs": [],
   "source": [
    "dataset.head(10)"
   ]
  },
  {
   "cell_type": "code",
   "execution_count": null,
   "id": "aae23e48",
   "metadata": {},
   "outputs": [],
   "source": [
    "# Lower casing\n",
    "dataset['text_lower'] = dataset['text'].str.lower()"
   ]
  },
  {
   "cell_type": "code",
   "execution_count": null,
   "id": "cacc63b2",
   "metadata": {},
   "outputs": [],
   "source": [
    "print(dataset)"
   ]
  },
  {
   "cell_type": "code",
   "execution_count": null,
   "id": "d6f114d6",
   "metadata": {},
   "outputs": [],
   "source": [
    "# Removal of punctuation \n",
    "dataset['no_punct'] = dataset['text_lower'].apply(lambda text: text.translate(str.maketrans('', '', string.punctuation)))"
   ]
  },
  {
   "cell_type": "code",
   "execution_count": null,
   "id": "228721c6",
   "metadata": {},
   "outputs": [],
   "source": [
    "print(dataset)"
   ]
  },
  {
   "cell_type": "markdown",
   "id": "a63e5dc8",
   "metadata": {},
   "source": [
    "#### Stemming (reduce words to their base form)"
   ]
  },
  {
   "cell_type": "code",
   "execution_count": null,
   "id": "a48b7ca2",
   "metadata": {},
   "outputs": [],
   "source": [
    "stemmer = PorterStemmer()\n",
    "dataset['text'] = dataset['text'].apply(lambda x: ' '.join([stemmer.stem(word) for word in x.split()]))"
   ]
  },
  {
   "cell_type": "markdown",
   "id": "122aee14",
   "metadata": {},
   "source": [
    "#### Lemmatization (combines similar meaning words as one word)"
   ]
  },
  {
   "cell_type": "code",
   "execution_count": null,
   "id": "f94e6cd0",
   "metadata": {},
   "outputs": [],
   "source": [
    "lemmatizer = WordNetLemmatizer()\n",
    "dataset['text'] = dataset['text'].apply(lambda x: ' '.join([lemmatizer.lemmatize(word) for word in x.split()]))"
   ]
  },
  {
   "cell_type": "code",
   "execution_count": null,
   "id": "df026493",
   "metadata": {},
   "outputs": [],
   "source": [
    "print(data_set.head(10))"
   ]
  },
  {
   "cell_type": "markdown",
   "id": "ff55d811",
   "metadata": {},
   "source": [
    "#### Removal of Emoticons (punctuation marks, letters, and numbers)"
   ]
  },
  {
   "cell_type": "code",
   "execution_count": null,
   "id": "4ce73dfa",
   "metadata": {},
   "outputs": [],
   "source": [
    "def remove_emoticons(text):\n",
    "    emoticon_pattern = re.compile(u'(' + u'|'.join(k for k in EMOTICONS) + u')')\n",
    "    return emoticon_pattern.sub(r'', text)\n",
    "dataset['text'] = dataset['text'].apply(remove_emoticons)"
   ]
  },
  {
   "cell_type": "markdown",
   "id": "49a0721a",
   "metadata": {},
   "source": [
    "#### Remove URLs"
   ]
  },
  {
   "cell_type": "code",
   "execution_count": null,
   "id": "61b37b88",
   "metadata": {},
   "outputs": [],
   "source": [
    "dataset['text'] = dataset['text'].str.replace(r'http\\S+|www\\S+|https\\S+', '', case=False)"
   ]
  },
  {
   "cell_type": "markdown",
   "id": "948bd9a1",
   "metadata": {},
   "source": [
    "#### Remove HTML Tags"
   ]
  },
  {
   "cell_type": "code",
   "execution_count": null,
   "id": "6be11f31",
   "metadata": {},
   "outputs": [],
   "source": [
    "dataset['text'] = dataset['text'].apply(lambda x: BeautifulSoup(x, 'html.parser').get_text())"
   ]
  },
  {
   "cell_type": "markdown",
   "id": "4749929a",
   "metadata": {},
   "source": [
    "#### Spelling Corrector "
   ]
  },
  {
   "cell_type": "code",
   "execution_count": null,
   "id": "515175ca",
   "metadata": {},
   "outputs": [],
   "source": [
    "spell = SpellChecker()\n",
    "dataset['text'] = dataset['text'].apply(lambda x: ' '.join([spell.correction(word) for word in x.split()]))"
   ]
  },
  {
   "cell_type": "markdown",
   "id": "22a5b2f8",
   "metadata": {},
   "source": [
    "### Data Analysis "
   ]
  },
  {
   "cell_type": "markdown",
   "id": "0f19dac9",
   "metadata": {},
   "source": [
    "#### Telecommunication data analysis"
   ]
  },
  {
   "cell_type": "markdown",
   "id": "b08c990f",
   "metadata": {},
   "source": [
    "What are the most common issues customer are facing based on their tweets to telecommunication companies?\n",
    "\n",
    "How does response time correlate to customer satisfaction? \n",
    "\n",
    "Telecommunication companies such as VerizonSupport, Ask_Spectrum, sprintcare, ect."
   ]
  },
  {
   "cell_type": "code",
   "execution_count": null,
   "id": "576f617d",
   "metadata": {},
   "outputs": [],
   "source": [
    "data_set.head(50)"
   ]
  },
  {
   "cell_type": "code",
   "execution_count": null,
   "id": "8831e607",
   "metadata": {},
   "outputs": [],
   "source": [
    "# Handle missing values\n",
    "data_set.dropna(subset=['text'], inplace=True)"
   ]
  },
  {
   "cell_type": "code",
   "execution_count": null,
   "id": "67762246",
   "metadata": {},
   "outputs": [],
   "source": [
    "# Convert 'created_at' to datetime\n",
    "data_set['created_at'] = pd.to_datetime(data_set['created_at'])"
   ]
  },
  {
   "cell_type": "code",
   "execution_count": null,
   "id": "1fbd74e2",
   "metadata": {},
   "outputs": [],
   "source": [
    "# Explore distribution of inbound and outbound tweets\n",
    "inbound_outbound_counts = data_set['inbound'].value_counts()"
   ]
  },
  {
   "cell_type": "code",
   "execution_count": null,
   "id": "789f2c39",
   "metadata": {},
   "outputs": [],
   "source": [
    "# Plot bar chart\n",
    "plt.bar(inbound_outbound_counts.keys(), inbound_outbound_counts.values, color=['pink', 'green'], edgecolor='black') \n",
    "plt.xlabel('Tweet Type')\n",
    "plt.ylabel('Count')\n",
    "plt.title('Inbound vs. Outbound Tweets Distribution')\n",
    "plt.show()"
   ]
  },
  {
   "cell_type": "markdown",
   "id": "02956d66",
   "metadata": {},
   "source": [
    "#### Sentiment analysis "
   ]
  },
  {
   "cell_type": "code",
   "execution_count": null,
   "id": "9e23a2d2",
   "metadata": {},
   "outputs": [],
   "source": [
    "def sentiment_analysis(text):\n",
    "    analysis = TextBlob(text)\n",
    "    if analysis.sentiment.polarity > 0:\n",
    "        return 'positive'\n",
    "    elif analysis.sentiment.polarity < 0:\n",
    "        return 'negative'\n",
    "    else:\n",
    "        return 'neutral'"
   ]
  },
  {
   "cell_type": "code",
   "execution_count": null,
   "id": "a71e040b",
   "metadata": {},
   "outputs": [],
   "source": [
    "data_set['sentiment'] = data_set['text'].apply(sentiment_analysis)\n",
    "\n",
    "# Count the occurrences of each sentiment category\n",
    "sentiment_counts = data_set['sentiment'].value_counts()\n",
    "\n",
    "# Plotting the bar chart\n",
    "plt.figure(figsize=(8, 6))\n",
    "plt.bar(sentiment_counts.index, sentiment_counts.values, color=['green', 'pink', 'red'])\n",
    "plt.xlabel('Sentiment')\n",
    "plt.ylabel('Count')\n",
    "plt.title('Sentiment Analysis Results')\n",
    "plt.show()"
   ]
  },
  {
   "cell_type": "markdown",
   "id": "ff22fb0b",
   "metadata": {},
   "source": [
    "#### Airline data analysis                       "
   ]
  },
  {
   "cell_type": "markdown",
   "id": "b778b0c1",
   "metadata": {},
   "source": [
    "How does response time correlate to customer satisfaction when comparing American Airlines & Delta? \n",
    "\n",
    "American Airlines and Delta "
   ]
  },
  {
   "cell_type": "code",
   "execution_count": null,
   "id": "09b1ca8f",
   "metadata": {},
   "outputs": [],
   "source": [
    "# Handle missing values\n",
    "data_set['response_tweet_id'].fillna(-1, inplace=True)\n",
    "data_set['in_response_to_tweet_id'].fillna(-1, inplace=True)"
   ]
  },
  {
   "cell_type": "code",
   "execution_count": null,
   "id": "1bb1e2ea",
   "metadata": {},
   "outputs": [],
   "source": [
    "data_set"
   ]
  },
  {
   "cell_type": "code",
   "execution_count": null,
   "id": "201466d0",
   "metadata": {},
   "outputs": [],
   "source": [
    "filtered_data = data_set[data_set['author_id'].str.contains('delta|american', case=False)]"
   ]
  },
  {
   "cell_type": "code",
   "execution_count": null,
   "id": "e34710f6",
   "metadata": {},
   "outputs": [],
   "source": [
    "filtered_data"
   ]
  },
  {
   "cell_type": "code",
   "execution_count": null,
   "id": "9d0a75fb",
   "metadata": {},
   "outputs": [],
   "source": [
    "# Remove duplicates in the filtered data \n",
    "filtered_data = filtered_data.drop_duplicates().copy()"
   ]
  },
  {
   "cell_type": "code",
   "execution_count": null,
   "id": "997c5620",
   "metadata": {},
   "outputs": [],
   "source": [
    "filtered_data"
   ]
  },
  {
   "cell_type": "code",
   "execution_count": null,
   "id": "7e90e7d1",
   "metadata": {},
   "outputs": [],
   "source": [
    "# Convert 'response_tweet_id' and 'in_response_to_tweet_id' to numeric \n",
    "filtered_data['response_tweet_id'] = pd.to_numeric(filtered_data['response_tweet_id'], errors='coerce')\n",
    "filtered_data['in_response_to_tweet_id'] = pd.to_numeric(filtered_data['in_response_to_tweet_id'], errors='coerce')"
   ]
  },
  {
   "cell_type": "code",
   "execution_count": null,
   "id": "1dc24ede",
   "metadata": {},
   "outputs": [],
   "source": [
    "print(filtered_data)"
   ]
  },
  {
   "cell_type": "code",
   "execution_count": null,
   "id": "169adafc",
   "metadata": {},
   "outputs": [],
   "source": [
    "# Calculate response time\n",
    "filtered_data['response_time'] = filtered_data['response_tweet_id'] - filtered_data['in_response_to_tweet_id']"
   ]
  },
  {
   "cell_type": "code",
   "execution_count": null,
   "id": "b67dd66b",
   "metadata": {},
   "outputs": [],
   "source": [
    "print(filtered_data)"
   ]
  },
  {
   "cell_type": "code",
   "execution_count": null,
   "id": "a608ab37",
   "metadata": {},
   "outputs": [],
   "source": [
    "# Calculate average response time for each airline\n",
    "average_response_time = filtered_data.groupby('author_id')['response_time'].mean()"
   ]
  },
  {
   "cell_type": "code",
   "execution_count": null,
   "id": "ab0a3c12",
   "metadata": {},
   "outputs": [],
   "source": [
    "# Visualize the data\n",
    "plt.figure(figsize=(8, 6))\n",
    "colors = ['red', 'blue'] \n",
    "average_response_time.plot(kind='bar', color=colors, edgecolor='black') \n",
    "plt.title('Average Response Time for American Airlines and Delta')\n",
    "plt.xlabel('Airline')\n",
    "plt.ylabel('Average Response Time')\n",
    "plt.xticks(range(len(average_response_time.index)), average_response_time.index, rotation=0)\n",
    "plt.ylim(0)  \n",
    "plt.tight_layout() "
   ]
  },
  {
   "cell_type": "markdown",
   "id": "99071d5f",
   "metadata": {},
   "source": [
    "#### Statistical Prediction/modeling"
   ]
  },
  {
   "cell_type": "code",
   "execution_count": null,
   "id": "e6c1cf1c",
   "metadata": {},
   "outputs": [],
   "source": [
    "correlation = filtered_data.corr(numeric_only=True)"
   ]
  },
  {
   "cell_type": "code",
   "execution_count": null,
   "id": "5a5c5974",
   "metadata": {},
   "outputs": [],
   "source": [
    "filtered_data['response_time'] = filtered_data['response_tweet_id'] - filtered_data['in_response_to_tweet_id']\n",
    "\n",
    "average_response_time = filtered_data.groupby('author_id')['response_time'].mean()\n",
    "\n",
    "print(average_response_time)"
   ]
  },
  {
   "cell_type": "markdown",
   "id": "edca62f4",
   "metadata": {},
   "source": [
    "#### Convert to postive for better analysis of results"
   ]
  },
  {
   "cell_type": "code",
   "execution_count": null,
   "id": "c649a4c2",
   "metadata": {},
   "outputs": [],
   "source": [
    "filtered_data['response_time'] = filtered_data['response_tweet_id'] - filtered_data['in_response_to_tweet_id']\n",
    "\n",
    "average_response_time = filtered_data.groupby('author_id')['response_time'].mean().abs()\n",
    "\n",
    "print(average_response_time)"
   ]
  },
  {
   "cell_type": "markdown",
   "id": "b58e28fb",
   "metadata": {},
   "source": [
    "Results \n",
    "\n",
    "American Airlines with an average response time of approximately 983,238.5 units is faster than Delta with an average response time of approximately 1,069,096 units. This can correlate to customers being more satified with American Airlines customer support via the tweet data set. "
   ]
  },
  {
   "cell_type": "markdown",
   "id": "e74817e3",
   "metadata": {},
   "source": [
    "### Data Visualizing (Technology & Airline Sectors) "
   ]
  },
  {
   "cell_type": "markdown",
   "id": "a2f58092",
   "metadata": {},
   "source": [
    "#### Technology Data Analysis"
   ]
  },
  {
   "cell_type": "markdown",
   "id": "5261be62",
   "metadata": {},
   "source": [
    "#### Step 1. \n",
    "What is the relationship between average response time & customer satisfaction for each technology support service?"
   ]
  },
  {
   "cell_type": "markdown",
   "id": "45becfc5",
   "metadata": {},
   "source": [
    "#### Step 2. \n",
    "MicrosoftHelps, AppleSupport, DellCares, HPSupport"
   ]
  },
  {
   "cell_type": "code",
   "execution_count": null,
   "id": "b311a3d9",
   "metadata": {},
   "outputs": [],
   "source": [
    "filtered_data = dataset[dataset['author_id'].str.contains('MicrosoftHelps|AppleSupport|DellCares|HPSupport', case=False)]"
   ]
  },
  {
   "cell_type": "markdown",
   "id": "92ec2e4c",
   "metadata": {},
   "source": [
    "#### Display filtered data"
   ]
  },
  {
   "cell_type": "code",
   "execution_count": null,
   "id": "d0c8638f",
   "metadata": {},
   "outputs": [],
   "source": [
    "filtered_data = dataset[dataset['author_id'].str.contains('MicrosoftHelps|AppleSupport|DellCares|HPSupport', case=False)]\n",
    "\n",
    "fig = go.Figure(data=[go.Table(\n",
    "    header=dict(values=list(filtered_data.columns),\n",
    "                fill_color='paleturquoise',\n",
    "                align='left'),\n",
    "    cells=dict(values=[filtered_data.tweet_id, filtered_data.author_id, filtered_data.inbound, filtered_data.created_at, filtered_data.text, filtered_data.response_tweet_id, filtered_data.in_response_to_tweet_id],\n",
    "               fill_color='lavender',\n",
    "               align='left'))\n",
    "])\n",
    "\n",
    "fig.show()"
   ]
  },
  {
   "cell_type": "code",
   "execution_count": null,
   "id": "c935a1d0",
   "metadata": {},
   "outputs": [],
   "source": [
    "# Handle Missing Values\n",
    "cleaned_data = dataset.dropna()"
   ]
  },
  {
   "cell_type": "code",
   "execution_count": null,
   "id": "ba99c838",
   "metadata": {},
   "outputs": [],
   "source": [
    "# Convert to DateTime\n",
    "dataset['created_at'] = pd.to_datetime(dataset['created_at'])"
   ]
  },
  {
   "cell_type": "code",
   "execution_count": null,
   "id": "18019ce6",
   "metadata": {},
   "outputs": [],
   "source": [
    "# Group data by 'author_id' and 'inbound'\n",
    "grouped_data = filtered_data.groupby(['author_id', 'inbound']).size().reset_index(name='count')"
   ]
  },
  {
   "cell_type": "markdown",
   "id": "b784b921",
   "metadata": {},
   "source": [
    "#### Explore & Visulaize distribution of inbound and outbound tweets "
   ]
  },
  {
   "cell_type": "code",
   "execution_count": null,
   "id": "67564d9b",
   "metadata": {},
   "outputs": [],
   "source": [
    "fig = px.bar(grouped_data, x='author_id', y='count', color='inbound',\n",
    "             labels={'count': 'Number of Tweets', 'inbound': 'Tweet Type'},\n",
    "             title='Distribution of Inbound and Outbound Tweets for Companies',\n",
    "             category_orders={'author_id': ['MicrosoftHelps', 'AppleSupport', 'DellCares', 'HPSupport']})\n",
    "\n",
    "fig.show()"
   ]
  },
  {
   "cell_type": "markdown",
   "id": "5ce136bf",
   "metadata": {},
   "source": [
    "#### Calculating the average response time for each company "
   ]
  },
  {
   "cell_type": "code",
   "execution_count": null,
   "id": "aef069ec",
   "metadata": {},
   "outputs": [],
   "source": [
    "filtered_data = dataset[dataset['author_id'].str.contains('MicrosoftHelps|AppleSupport|DellCares|HPSupport', case=False)]"
   ]
  },
  {
   "cell_type": "markdown",
   "id": "0325ac6f",
   "metadata": {},
   "source": [
    "#### Convert 'created_at' and 'response_tweet_id' columns to datetime"
   ]
  },
  {
   "cell_type": "code",
   "execution_count": null,
   "id": "666d592e",
   "metadata": {},
   "outputs": [],
   "source": [
    "filtered_data['created_at'] = pd.to_datetime(filtered_data['created_at'], errors='coerce').dt.tz_localize(None)\n",
    "filtered_data['response_tweet_id'] = pd.to_datetime(filtered_data['response_tweet_id'], errors='coerce').dt.tz_localize(None)"
   ]
  },
  {
   "cell_type": "markdown",
   "id": "a9a7fbf7",
   "metadata": {},
   "source": [
    "#### Filter out rows where 'response_tweet_id' or 'created_at' couldn't be parsed"
   ]
  },
  {
   "cell_type": "code",
   "execution_count": null,
   "id": "3c3f0001",
   "metadata": {},
   "outputs": [],
   "source": [
    "cleaned_filtered_data = filtered_data.dropna(subset=['created_at', 'response_tweet_id'])"
   ]
  },
  {
   "cell_type": "markdown",
   "id": "268e847b",
   "metadata": {},
   "source": [
    "#### Calculate response time in seconds "
   ]
  },
  {
   "cell_type": "code",
   "execution_count": null,
   "id": "b8631a2e",
   "metadata": {},
   "outputs": [],
   "source": [
    "cleaned_filtered_data['response_time'] = (cleaned_filtered_data['response_tweet_id'] - cleaned_filtered_data['created_at']).dt.total_seconds()"
   ]
  },
  {
   "cell_type": "markdown",
   "id": "a5d141a5",
   "metadata": {},
   "source": [
    "#### Results for average reponse times"
   ]
  },
  {
   "cell_type": "code",
   "execution_count": null,
   "id": "2ed19eb5",
   "metadata": {},
   "outputs": [],
   "source": [
    "average_response_time = cleaned_filtered_data.groupby('author_id')['response_time'].mean()\n",
    "print(average_response_time)"
   ]
  },
  {
   "cell_type": "markdown",
   "id": "e6e40acc",
   "metadata": {},
   "source": [
    "#### Visualized the Average Response Time for each Technology Company"
   ]
  },
  {
   "cell_type": "code",
   "execution_count": null,
   "id": "905a5c42",
   "metadata": {},
   "outputs": [],
   "source": [
    "data = {\n",
    "    'AppleSupport': 1.145536e+08,\n",
    "    'DellCares': 1.839929e+07,\n",
    "    'HPSupport': 7.365916e+08,\n",
    "    'MicrosoftHelps': 3.703211e+08\n",
    "}\n",
    "\n",
    "author_ids = list(data.keys())\n",
    "response_times = list(data.values())\n",
    "\n",
    "plt.figure(figsize=(10, 6))\n",
    "plt.bar(author_ids, response_times, color='skyblue')\n",
    "plt.xlabel('Author ID')\n",
    "plt.ylabel('Average Response Time')\n",
    "plt.title('Average Response Times for companies')\n",
    "plt.xticks(rotation=45)  \n",
    "plt.tight_layout()\n",
    "plt.show()\n"
   ]
  },
  {
   "cell_type": "markdown",
   "id": "71bcdea6",
   "metadata": {},
   "source": [
    "Results\n",
    "\n",
    "Apple support = most tweets & Dell care = least tweets\n",
    "\n",
    "Dell cares = least time to response & HP support = most time to response "
   ]
  },
  {
   "cell_type": "markdown",
   "id": "f134d2c2",
   "metadata": {},
   "source": [
    "### Airline Data Analysis"
   ]
  },
  {
   "cell_type": "markdown",
   "id": "fbc67116",
   "metadata": {},
   "source": [
    "##### Step 1.  \n",
    "How does response time correlate to customer satisfaction when comparing American Airlines & Delta?"
   ]
  },
  {
   "cell_type": "markdown",
   "id": "c5585132",
   "metadata": {},
   "source": [
    "#### Step 2.\n",
    "American Airlines and Delta"
   ]
  },
  {
   "cell_type": "code",
   "execution_count": null,
   "id": "f88eaae7",
   "metadata": {},
   "outputs": [],
   "source": [
    "# Handle missing values\n",
    "dataset['response_tweet_id'].fillna(-1, inplace=True)\n",
    "dataset['in_response_to_tweet_id'].fillna(-1, inplace=True)"
   ]
  },
  {
   "cell_type": "code",
   "execution_count": null,
   "id": "e7a6f383",
   "metadata": {},
   "outputs": [],
   "source": [
    "filtered_data = dataset[dataset['author_id'].str.contains('delta|american', case=False)]"
   ]
  },
  {
   "cell_type": "code",
   "execution_count": null,
   "id": "556e519b",
   "metadata": {},
   "outputs": [],
   "source": [
    "filtered_data = dataset[dataset['author_id'].str.contains('delta|american', case=False)]\n",
    "\n",
    "fig = go.Figure(data=[go.Table(\n",
    "    header=dict(values=list(filtered_data.columns),\n",
    "                fill_color='paleturquoise',\n",
    "                align='left'),\n",
    "    cells=dict(values=[filtered_data.tweet_id, filtered_data.author_id, filtered_data.inbound, filtered_data.created_at, filtered_data.text, filtered_data.response_tweet_id, filtered_data.in_response_to_tweet_id],\n",
    "               fill_color='lavender',\n",
    "               align='left'))\n",
    "])\n",
    "fig.show()"
   ]
  },
  {
   "cell_type": "code",
   "execution_count": null,
   "id": "ea5ff1d0",
   "metadata": {},
   "outputs": [],
   "source": [
    "# Remove duplicates in the filtered data \n",
    "filtered_data = filtered_data.drop_duplicates().copy()"
   ]
  },
  {
   "cell_type": "code",
   "execution_count": null,
   "id": "a9d9aa96",
   "metadata": {},
   "outputs": [],
   "source": [
    "# Convert 'response_tweet_id' and 'in_response_to_tweet_id' to numeric \n",
    "filtered_data['response_tweet_id'] = pd.to_numeric(filtered_data['response_tweet_id'], errors='coerce')\n",
    "filtered_data['in_response_to_tweet_id'] = pd.to_numeric(filtered_data['in_response_to_tweet_id'], errors='coerce')"
   ]
  },
  {
   "cell_type": "code",
   "execution_count": null,
   "id": "426d84bc",
   "metadata": {},
   "outputs": [],
   "source": [
    "# Calculate response time\n",
    "filtered_data['response_time'] = filtered_data['response_tweet_id'] - filtered_data['in_response_to_tweet_id']"
   ]
  },
  {
   "cell_type": "code",
   "execution_count": null,
   "id": "587c0793",
   "metadata": {},
   "outputs": [],
   "source": [
    "# Calculate average response time for each airline\n",
    "average_response_time = filtered_data.groupby('author_id')['response_time'].mean()"
   ]
  },
  {
   "cell_type": "markdown",
   "id": "49adb6df",
   "metadata": {},
   "source": [
    "#### Statistical Predicitions / Modeling"
   ]
  },
  {
   "cell_type": "code",
   "execution_count": null,
   "id": "91d66457",
   "metadata": {},
   "outputs": [],
   "source": [
    "correlation = filtered_data.corr(numeric_only=True)\n",
    "\n",
    "filtered_data['response_time'] = filtered_data['response_tweet_id'] - filtered_data['in_response_to_tweet_id']\n",
    "\n",
    "average_response_time = filtered_data.groupby('author_id')['response_time'].mean()\n",
    "\n",
    "print(average_response_time)"
   ]
  },
  {
   "cell_type": "code",
   "execution_count": null,
   "id": "bd34afc0",
   "metadata": {},
   "outputs": [],
   "source": [
    "filtered_data['response_time'] = filtered_data['response_tweet_id'] - filtered_data['in_response_to_tweet_id']\n",
    "\n",
    "average_response_time = filtered_data.groupby('author_id')['response_time'].mean().abs()\n",
    "\n",
    "print(average_response_time)"
   ]
  },
  {
   "cell_type": "code",
   "execution_count": null,
   "id": "f088bb7a",
   "metadata": {},
   "outputs": [],
   "source": [
    "colors = ['red', 'blue'] \n",
    "average_response_time.plot(kind='bar', color=colors, edgecolor='black')\n",
    "plt.xlabel('Author ID')\n",
    "plt.ylabel('Average Response Time')\n",
    "plt.title('Average Response Time by Author ID')\n",
    "plt.tight_layout()\n",
    "plt.show()"
   ]
  },
  {
   "cell_type": "markdown",
   "id": "322efa7a",
   "metadata": {},
   "source": [
    "Result\n",
    "\n",
    "American Airlines with an average response time of approximately 983,238.5 units is faster than Delta with an average response time of approximately 1,069,096 units. This can correlate to customers being more satified with American Airlines customer support via the tweet data set"
   ]
  }
 ],
 "metadata": {
  "kernelspec": {
   "display_name": "Python 3 (ipykernel)",
   "language": "python",
   "name": "python3"
  },
  "language_info": {
   "codemirror_mode": {
    "name": "ipython",
    "version": 3
   },
   "file_extension": ".py",
   "mimetype": "text/x-python",
   "name": "python",
   "nbconvert_exporter": "python",
   "pygments_lexer": "ipython3",
   "version": "3.11.4"
  }
 },
 "nbformat": 4,
 "nbformat_minor": 5
}
