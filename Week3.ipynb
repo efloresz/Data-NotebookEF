{
 "cells": [
  {
   "cell_type": "code",
   "execution_count": 1,
   "id": "7cc57802",
   "metadata": {},
   "outputs": [],
   "source": [
    "import pandas as pd"
   ]
  },
  {
   "cell_type": "code",
   "execution_count": 2,
   "id": "ab519ce0",
   "metadata": {},
   "outputs": [],
   "source": [
    "file_path = 'twcs.csv'\n",
    "dataset = pd.read_csv('twcs.csv')"
   ]
  },
  {
   "cell_type": "code",
   "execution_count": 3,
   "id": "3efd74c6",
   "metadata": {},
   "outputs": [
    {
     "data": {
      "text/html": [
       "<div>\n",
       "<style scoped>\n",
       "    .dataframe tbody tr th:only-of-type {\n",
       "        vertical-align: middle;\n",
       "    }\n",
       "\n",
       "    .dataframe tbody tr th {\n",
       "        vertical-align: top;\n",
       "    }\n",
       "\n",
       "    .dataframe thead th {\n",
       "        text-align: right;\n",
       "    }\n",
       "</style>\n",
       "<table border=\"1\" class=\"dataframe\">\n",
       "  <thead>\n",
       "    <tr style=\"text-align: right;\">\n",
       "      <th></th>\n",
       "      <th>tweet_id</th>\n",
       "      <th>author_id</th>\n",
       "      <th>inbound</th>\n",
       "      <th>created_at</th>\n",
       "      <th>text</th>\n",
       "      <th>response_tweet_id</th>\n",
       "      <th>in_response_to_tweet_id</th>\n",
       "    </tr>\n",
       "  </thead>\n",
       "  <tbody>\n",
       "    <tr>\n",
       "      <th>0</th>\n",
       "      <td>1</td>\n",
       "      <td>sprintcare</td>\n",
       "      <td>False</td>\n",
       "      <td>Tue Oct 31 22:10:47 +0000 2017</td>\n",
       "      <td>@115712 I understand. I would like to assist y...</td>\n",
       "      <td>2</td>\n",
       "      <td>3.0</td>\n",
       "    </tr>\n",
       "    <tr>\n",
       "      <th>1</th>\n",
       "      <td>2</td>\n",
       "      <td>115712</td>\n",
       "      <td>True</td>\n",
       "      <td>Tue Oct 31 22:11:45 +0000 2017</td>\n",
       "      <td>@sprintcare and how do you propose we do that</td>\n",
       "      <td>NaN</td>\n",
       "      <td>1.0</td>\n",
       "    </tr>\n",
       "    <tr>\n",
       "      <th>2</th>\n",
       "      <td>3</td>\n",
       "      <td>115712</td>\n",
       "      <td>True</td>\n",
       "      <td>Tue Oct 31 22:08:27 +0000 2017</td>\n",
       "      <td>@sprintcare I have sent several private messag...</td>\n",
       "      <td>1</td>\n",
       "      <td>4.0</td>\n",
       "    </tr>\n",
       "    <tr>\n",
       "      <th>3</th>\n",
       "      <td>4</td>\n",
       "      <td>sprintcare</td>\n",
       "      <td>False</td>\n",
       "      <td>Tue Oct 31 21:54:49 +0000 2017</td>\n",
       "      <td>@115712 Please send us a Private Message so th...</td>\n",
       "      <td>3</td>\n",
       "      <td>5.0</td>\n",
       "    </tr>\n",
       "    <tr>\n",
       "      <th>4</th>\n",
       "      <td>5</td>\n",
       "      <td>115712</td>\n",
       "      <td>True</td>\n",
       "      <td>Tue Oct 31 21:49:35 +0000 2017</td>\n",
       "      <td>@sprintcare I did.</td>\n",
       "      <td>4</td>\n",
       "      <td>6.0</td>\n",
       "    </tr>\n",
       "  </tbody>\n",
       "</table>\n",
       "</div>"
      ],
      "text/plain": [
       "   tweet_id   author_id  inbound                      created_at  \\\n",
       "0         1  sprintcare    False  Tue Oct 31 22:10:47 +0000 2017   \n",
       "1         2      115712     True  Tue Oct 31 22:11:45 +0000 2017   \n",
       "2         3      115712     True  Tue Oct 31 22:08:27 +0000 2017   \n",
       "3         4  sprintcare    False  Tue Oct 31 21:54:49 +0000 2017   \n",
       "4         5      115712     True  Tue Oct 31 21:49:35 +0000 2017   \n",
       "\n",
       "                                                text response_tweet_id  \\\n",
       "0  @115712 I understand. I would like to assist y...                 2   \n",
       "1      @sprintcare and how do you propose we do that               NaN   \n",
       "2  @sprintcare I have sent several private messag...                 1   \n",
       "3  @115712 Please send us a Private Message so th...                 3   \n",
       "4                                 @sprintcare I did.                 4   \n",
       "\n",
       "   in_response_to_tweet_id  \n",
       "0                      3.0  \n",
       "1                      1.0  \n",
       "2                      4.0  \n",
       "3                      5.0  \n",
       "4                      6.0  "
      ]
     },
     "execution_count": 3,
     "metadata": {},
     "output_type": "execute_result"
    }
   ],
   "source": [
    "dataset.head()"
   ]
  },
  {
   "cell_type": "code",
   "execution_count": 4,
   "id": "884f3e9a",
   "metadata": {},
   "outputs": [],
   "source": [
    "userTweetCount = dataset.groupby('author_id').size().reset_index(name='tweetCount')"
   ]
  },
  {
   "cell_type": "code",
   "execution_count": 5,
   "id": "253b0769",
   "metadata": {},
   "outputs": [],
   "source": [
    "topUsers = userTweetCount.sort_values(by='tweetCount', ascending=False)"
   ]
  },
  {
   "cell_type": "code",
   "execution_count": 6,
   "id": "a0a48af9",
   "metadata": {},
   "outputs": [
    {
     "name": "stdout",
     "output_type": "stream",
     "text": [
      "           author_id  tweetCount\n",
      "702677    AmazonHelp      169840\n",
      "702679  AppleSupport      106860\n",
      "702754  Uber_Support       56270\n",
      "702746  SpotifyCares       43265\n",
      "702709         Delta       42253\n"
     ]
    }
   ],
   "source": [
    "print(topUsers.head())"
   ]
  },
  {
   "cell_type": "code",
   "execution_count": 7,
   "id": "128f07a1",
   "metadata": {},
   "outputs": [],
   "source": [
    "authorResCount = dataset.groupby('author_id')['response_tweet_id'].count().reset_index(name='response_count')"
   ]
  },
  {
   "cell_type": "code",
   "execution_count": 8,
   "id": "1e0ff5f0",
   "metadata": {},
   "outputs": [],
   "source": [
    "topAuthorsRes = authorResCount.sort_values(by='response_count', ascending=False)"
   ]
  },
  {
   "cell_type": "code",
   "execution_count": 9,
   "id": "6fc0c97a",
   "metadata": {},
   "outputs": [
    {
     "name": "stdout",
     "output_type": "stream",
     "text": [
      "           author_id  response_count\n",
      "702677    AmazonHelp           85274\n",
      "702679  AppleSupport           31564\n",
      "702754  Uber_Support           18036\n",
      "702759  VirginTrains           15235\n",
      "702678   AmericanAir           14556\n"
     ]
    }
   ],
   "source": [
    "print(topAuthorsRes.head())"
   ]
  },
  {
   "cell_type": "code",
   "execution_count": null,
   "id": "5d04ea10",
   "metadata": {},
   "outputs": [],
   "source": [
    "dataset['created_at'] = pd.to_datetime(dataset['created_at'])"
   ]
  },
  {
   "cell_type": "code",
   "execution_count": null,
   "id": "7050b348",
   "metadata": {},
   "outputs": [],
   "source": [
    "tweetsByDate = dataset.groupby(dataset['created_at'].dt.date).size().reset_index(name='tweet_count')"
   ]
  },
  {
   "cell_type": "code",
   "execution_count": null,
   "id": "5a48554e",
   "metadata": {},
   "outputs": [],
   "source": [
    "print(tweetsByDate)"
   ]
  },
  {
   "cell_type": "code",
   "execution_count": null,
   "id": "5dc6ed92",
   "metadata": {},
   "outputs": [],
   "source": [
    "# Fix output ?"
   ]
  }
 ],
 "metadata": {
  "kernelspec": {
   "display_name": "Python 3 (ipykernel)",
   "language": "python",
   "name": "python3"
  },
  "language_info": {
   "codemirror_mode": {
    "name": "ipython",
    "version": 3
   },
   "file_extension": ".py",
   "mimetype": "text/x-python",
   "name": "python",
   "nbconvert_exporter": "python",
   "pygments_lexer": "ipython3",
   "version": "3.11.4"
  }
 },
 "nbformat": 4,
 "nbformat_minor": 5
}
